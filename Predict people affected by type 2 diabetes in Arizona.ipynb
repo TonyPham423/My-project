{
 "cells": [
  {
   "cell_type": "markdown",
   "metadata": {
    "button": false,
    "id": "SzPE54CYM1kJ",
    "new_sheet": false,
    "run_control": {
     "read_only": false
    }
   },
   "source": [
    "<h1 align=center><font size = 10>  </font></h1>"
   ]
  },
  {
   "cell_type": "markdown",
   "metadata": {
    "button": false,
    "id": "ZAL75IefM1kO",
    "new_sheet": false,
    "run_control": {
     "read_only": false
    }
   },
   "source": [
    "# Tập dữ liệu"
   ]
  },
  {
   "cell_type": "markdown",
   "metadata": {
    "button": false,
    "id": "yrPdRO--M1kO",
    "new_sheet": false,
    "run_control": {
     "read_only": false
    }
   },
   "source": [
    "Pima là một tộc người Mỹ bản địa sống ở Arizona. Yếu tố di truyền cho phép nhóm người này có thể tồn tại được với chế độ ăn nghèo carbohydrate trong nhiều năm. Những năm gần đây, do sự chuyển đổi đột ngột từ cây nông nghiệp truyền thống sang thực phẩm chế biến cùng với sự suy giảm hoạt động thể chất đã khiến tỷ lệ mắc bệnh tiểu đường loại 2 cao nhất, cho nên nó trở thành đối tượng của nhiều nghiên cứu.\n",
    "\n",
    "Tập dữ liệu gồm dữ liệu từ 768 phụ nữ với 8 đặc điểm, cụ thể:\n",
    "\n",
    "- Số lần mang thai\n",
    "- Nồng độ đường huyết sau 2 giờ trong xét nghiệm dung nạp glucose đường uống\n",
    "- Huyết áp tâm trương (mm Hg)\n",
    "- Độ dày của nếp gấp da (mm)\n",
    "- Insulin huyết thanh trong 2 giờ (mu U/ml)\n",
    "- Chỉ số BMI (trọng lượng tính bằng kg/(chiều cao tính bằng m)^2)\n",
    "- Chức năng phả hệ bệnh tiểu đường\n",
    "- Tuổi (năm)\n",
    "- Cột cuối cùng của tập dữ liệu cho biết một người có bị chẩn đoán mắc bệnh tiểu đường (1) hay không (0)"
   ]
  },
  {
   "cell_type": "markdown",
   "metadata": {
    "id": "4P5dHdrDc-Bx"
   },
   "source": [
    "# Thư viện cần thiết"
   ]
  },
  {
   "cell_type": "code",
   "execution_count": 1,
   "metadata": {
    "button": false,
    "id": "vcBmcLcqM1kL",
    "new_sheet": false,
    "run_control": {
     "read_only": false
    }
   },
   "outputs": [],
   "source": [
    "# Import các thư viện thiết yếu cho project\n",
    "import pandas as pd\n",
    "import numpy as np\n",
    "import matplotlib.pyplot as plt\n",
    "import matplotlib.ticker as ticker\n",
    "from sklearn import preprocessing\n",
    "%matplotlib inline\n",
    "\n",
    "import warnings\n",
    "warnings.filterwarnings('ignore')"
   ]
  },
  {
   "cell_type": "markdown",
   "metadata": {
    "button": false,
    "id": "Diy5tSZ7M1kQ",
    "new_sheet": false,
    "run_control": {
     "read_only": false
    }
   },
   "source": [
    "# Load dữ liệu từ file CSV  "
   ]
  },
  {
   "cell_type": "markdown",
   "metadata": {
    "id": "qdIctwmZM1kR"
   },
   "source": [
    "### Task 1: Đọc dữ liệu \n",
    "\n",
    "Do file không chứa tên cột/đặc trưng, do đó hãy thêm tên cột bằng cách sử dụng mô tả từ trang web tập dữ liệu gốc:\n",
    "\n",
    "Tên cột lần lượt là: \"NumTimesPrg\", \"PlGlcConc\", \"BloodP\", \"SkinThick\", \"TwoHourSerIns\", \"BMI\", \"DiPedFunc\", \"Age\", \"HasDiabetes\""
   ]
  },
  {
   "cell_type": "code",
   "execution_count": 2,
   "metadata": {
    "button": false,
    "id": "K-TmhZ8vM1kS",
    "new_sheet": false,
    "run_control": {
     "read_only": false
    }
   },
   "outputs": [
    {
     "data": {
      "text/html": [
       "<div>\n",
       "<style scoped>\n",
       "    .dataframe tbody tr th:only-of-type {\n",
       "        vertical-align: middle;\n",
       "    }\n",
       "\n",
       "    .dataframe tbody tr th {\n",
       "        vertical-align: top;\n",
       "    }\n",
       "\n",
       "    .dataframe thead th {\n",
       "        text-align: right;\n",
       "    }\n",
       "</style>\n",
       "<table border=\"1\" class=\"dataframe\">\n",
       "  <thead>\n",
       "    <tr style=\"text-align: right;\">\n",
       "      <th></th>\n",
       "      <th>NumTimesPrg</th>\n",
       "      <th>PlGlcConc</th>\n",
       "      <th>BloodP</th>\n",
       "      <th>SkinThick</th>\n",
       "      <th>TwoHourSerIns</th>\n",
       "      <th>BMI</th>\n",
       "      <th>DiPedFunc</th>\n",
       "      <th>Age</th>\n",
       "      <th>HasDiabetes</th>\n",
       "    </tr>\n",
       "  </thead>\n",
       "  <tbody>\n",
       "    <tr>\n",
       "      <th>0</th>\n",
       "      <td>6</td>\n",
       "      <td>148</td>\n",
       "      <td>72</td>\n",
       "      <td>35</td>\n",
       "      <td>0</td>\n",
       "      <td>33.6</td>\n",
       "      <td>0.627</td>\n",
       "      <td>50</td>\n",
       "      <td>1</td>\n",
       "    </tr>\n",
       "    <tr>\n",
       "      <th>1</th>\n",
       "      <td>1</td>\n",
       "      <td>85</td>\n",
       "      <td>66</td>\n",
       "      <td>29</td>\n",
       "      <td>0</td>\n",
       "      <td>26.6</td>\n",
       "      <td>0.351</td>\n",
       "      <td>31</td>\n",
       "      <td>0</td>\n",
       "    </tr>\n",
       "    <tr>\n",
       "      <th>2</th>\n",
       "      <td>8</td>\n",
       "      <td>183</td>\n",
       "      <td>64</td>\n",
       "      <td>0</td>\n",
       "      <td>0</td>\n",
       "      <td>23.3</td>\n",
       "      <td>0.672</td>\n",
       "      <td>32</td>\n",
       "      <td>1</td>\n",
       "    </tr>\n",
       "    <tr>\n",
       "      <th>3</th>\n",
       "      <td>1</td>\n",
       "      <td>89</td>\n",
       "      <td>66</td>\n",
       "      <td>23</td>\n",
       "      <td>94</td>\n",
       "      <td>28.1</td>\n",
       "      <td>0.167</td>\n",
       "      <td>21</td>\n",
       "      <td>0</td>\n",
       "    </tr>\n",
       "    <tr>\n",
       "      <th>4</th>\n",
       "      <td>0</td>\n",
       "      <td>137</td>\n",
       "      <td>40</td>\n",
       "      <td>35</td>\n",
       "      <td>168</td>\n",
       "      <td>43.1</td>\n",
       "      <td>2.288</td>\n",
       "      <td>33</td>\n",
       "      <td>1</td>\n",
       "    </tr>\n",
       "    <tr>\n",
       "      <th>...</th>\n",
       "      <td>...</td>\n",
       "      <td>...</td>\n",
       "      <td>...</td>\n",
       "      <td>...</td>\n",
       "      <td>...</td>\n",
       "      <td>...</td>\n",
       "      <td>...</td>\n",
       "      <td>...</td>\n",
       "      <td>...</td>\n",
       "    </tr>\n",
       "    <tr>\n",
       "      <th>763</th>\n",
       "      <td>10</td>\n",
       "      <td>101</td>\n",
       "      <td>76</td>\n",
       "      <td>48</td>\n",
       "      <td>180</td>\n",
       "      <td>32.9</td>\n",
       "      <td>0.171</td>\n",
       "      <td>63</td>\n",
       "      <td>0</td>\n",
       "    </tr>\n",
       "    <tr>\n",
       "      <th>764</th>\n",
       "      <td>2</td>\n",
       "      <td>122</td>\n",
       "      <td>70</td>\n",
       "      <td>27</td>\n",
       "      <td>0</td>\n",
       "      <td>36.8</td>\n",
       "      <td>0.340</td>\n",
       "      <td>27</td>\n",
       "      <td>0</td>\n",
       "    </tr>\n",
       "    <tr>\n",
       "      <th>765</th>\n",
       "      <td>5</td>\n",
       "      <td>121</td>\n",
       "      <td>72</td>\n",
       "      <td>23</td>\n",
       "      <td>112</td>\n",
       "      <td>26.2</td>\n",
       "      <td>0.245</td>\n",
       "      <td>30</td>\n",
       "      <td>0</td>\n",
       "    </tr>\n",
       "    <tr>\n",
       "      <th>766</th>\n",
       "      <td>1</td>\n",
       "      <td>126</td>\n",
       "      <td>60</td>\n",
       "      <td>0</td>\n",
       "      <td>0</td>\n",
       "      <td>30.1</td>\n",
       "      <td>0.349</td>\n",
       "      <td>47</td>\n",
       "      <td>1</td>\n",
       "    </tr>\n",
       "    <tr>\n",
       "      <th>767</th>\n",
       "      <td>1</td>\n",
       "      <td>93</td>\n",
       "      <td>70</td>\n",
       "      <td>31</td>\n",
       "      <td>0</td>\n",
       "      <td>30.4</td>\n",
       "      <td>0.315</td>\n",
       "      <td>23</td>\n",
       "      <td>0</td>\n",
       "    </tr>\n",
       "  </tbody>\n",
       "</table>\n",
       "<p>768 rows × 9 columns</p>\n",
       "</div>"
      ],
      "text/plain": [
       "     NumTimesPrg  PlGlcConc  BloodP  SkinThick  TwoHourSerIns   BMI  \\\n",
       "0              6        148      72         35              0  33.6   \n",
       "1              1         85      66         29              0  26.6   \n",
       "2              8        183      64          0              0  23.3   \n",
       "3              1         89      66         23             94  28.1   \n",
       "4              0        137      40         35            168  43.1   \n",
       "..           ...        ...     ...        ...            ...   ...   \n",
       "763           10        101      76         48            180  32.9   \n",
       "764            2        122      70         27              0  36.8   \n",
       "765            5        121      72         23            112  26.2   \n",
       "766            1        126      60          0              0  30.1   \n",
       "767            1         93      70         31              0  30.4   \n",
       "\n",
       "     DiPedFunc  Age  HasDiabetes  \n",
       "0        0.627   50            1  \n",
       "1        0.351   31            0  \n",
       "2        0.672   32            1  \n",
       "3        0.167   21            0  \n",
       "4        2.288   33            1  \n",
       "..         ...  ...          ...  \n",
       "763      0.171   63            0  \n",
       "764      0.340   27            0  \n",
       "765      0.245   30            0  \n",
       "766      0.349   47            1  \n",
       "767      0.315   23            0  \n",
       "\n",
       "[768 rows x 9 columns]"
      ]
     },
     "execution_count": 2,
     "metadata": {},
     "output_type": "execute_result"
    }
   ],
   "source": [
    "# Đặt tên cột/ đặc trưng\n",
    "df = pd.read_csv(\"pima-indians-diabetes.csv\", header = None)\n",
    "df.columns = [\"NumTimesPrg\", \n",
    "              \"PlGlcConc\", \n",
    "              \"BloodP\", \n",
    "              \"SkinThick\", \n",
    "              \"TwoHourSerIns\", \n",
    "              \"BMI\",\n",
    "              \"DiPedFunc\",\n",
    "              \"Age\", \n",
    "              \"HasDiabetes\"]\n",
    "df"
   ]
  },
  {
   "cell_type": "markdown",
   "metadata": {
    "button": false,
    "id": "a02T2r1XM1kY",
    "new_sheet": false,
    "run_control": {
     "read_only": false
    }
   },
   "source": [
    "# Trực quan hóa và tiền xử lý dữ liệu\n",
    "\n"
   ]
  },
  {
   "cell_type": "markdown",
   "metadata": {
    "id": "yFAPRH0WBgow"
   },
   "source": [
    "## Ma trận tương quan dữ liệu"
   ]
  },
  {
   "cell_type": "markdown",
   "metadata": {},
   "source": [
    "Ma trận tương quan là một công cụ quan trọng để hiểu mối tương quan giữa các đặc trưng, đặc điểm khác nhau. \n",
    "\n",
    "Các giá trị sẽ nằm trong khoảng từ -1 đến 1; giá trị càng gần 1 thì càng có giữa hai đặc điểm càng có mối tương quan tốt."
   ]
  },
  {
   "cell_type": "markdown",
   "metadata": {
    "button": false,
    "id": "WyisS4NVM1kZ",
    "new_sheet": false,
    "run_control": {
     "read_only": false
    }
   },
   "source": [
    "### Task 2: Tính ma trận tương quan cho tập dữ liệu."
   ]
  },
  {
   "cell_type": "code",
   "execution_count": 3,
   "metadata": {
    "button": false,
    "id": "vymkxfN8M1kZ",
    "new_sheet": false,
    "run_control": {
     "read_only": false
    },
    "scrolled": true
   },
   "outputs": [
    {
     "data": {
      "text/html": [
       "<div>\n",
       "<style scoped>\n",
       "    .dataframe tbody tr th:only-of-type {\n",
       "        vertical-align: middle;\n",
       "    }\n",
       "\n",
       "    .dataframe tbody tr th {\n",
       "        vertical-align: top;\n",
       "    }\n",
       "\n",
       "    .dataframe thead th {\n",
       "        text-align: right;\n",
       "    }\n",
       "</style>\n",
       "<table border=\"1\" class=\"dataframe\">\n",
       "  <thead>\n",
       "    <tr style=\"text-align: right;\">\n",
       "      <th></th>\n",
       "      <th>NumTimesPrg</th>\n",
       "      <th>PlGlcConc</th>\n",
       "      <th>BloodP</th>\n",
       "      <th>SkinThick</th>\n",
       "      <th>TwoHourSerIns</th>\n",
       "      <th>BMI</th>\n",
       "      <th>DiPedFunc</th>\n",
       "      <th>Age</th>\n",
       "      <th>HasDiabetes</th>\n",
       "    </tr>\n",
       "  </thead>\n",
       "  <tbody>\n",
       "    <tr>\n",
       "      <th>NumTimesPrg</th>\n",
       "      <td>1.000000</td>\n",
       "      <td>0.129459</td>\n",
       "      <td>0.141282</td>\n",
       "      <td>-0.081672</td>\n",
       "      <td>-0.073535</td>\n",
       "      <td>0.017683</td>\n",
       "      <td>-0.033523</td>\n",
       "      <td>0.544341</td>\n",
       "      <td>0.221898</td>\n",
       "    </tr>\n",
       "    <tr>\n",
       "      <th>PlGlcConc</th>\n",
       "      <td>0.129459</td>\n",
       "      <td>1.000000</td>\n",
       "      <td>0.152590</td>\n",
       "      <td>0.057328</td>\n",
       "      <td>0.331357</td>\n",
       "      <td>0.221071</td>\n",
       "      <td>0.137337</td>\n",
       "      <td>0.263514</td>\n",
       "      <td>0.466581</td>\n",
       "    </tr>\n",
       "    <tr>\n",
       "      <th>BloodP</th>\n",
       "      <td>0.141282</td>\n",
       "      <td>0.152590</td>\n",
       "      <td>1.000000</td>\n",
       "      <td>0.207371</td>\n",
       "      <td>0.088933</td>\n",
       "      <td>0.281805</td>\n",
       "      <td>0.041265</td>\n",
       "      <td>0.239528</td>\n",
       "      <td>0.065068</td>\n",
       "    </tr>\n",
       "    <tr>\n",
       "      <th>SkinThick</th>\n",
       "      <td>-0.081672</td>\n",
       "      <td>0.057328</td>\n",
       "      <td>0.207371</td>\n",
       "      <td>1.000000</td>\n",
       "      <td>0.436783</td>\n",
       "      <td>0.392573</td>\n",
       "      <td>0.183928</td>\n",
       "      <td>-0.113970</td>\n",
       "      <td>0.074752</td>\n",
       "    </tr>\n",
       "    <tr>\n",
       "      <th>TwoHourSerIns</th>\n",
       "      <td>-0.073535</td>\n",
       "      <td>0.331357</td>\n",
       "      <td>0.088933</td>\n",
       "      <td>0.436783</td>\n",
       "      <td>1.000000</td>\n",
       "      <td>0.197859</td>\n",
       "      <td>0.185071</td>\n",
       "      <td>-0.042163</td>\n",
       "      <td>0.130548</td>\n",
       "    </tr>\n",
       "    <tr>\n",
       "      <th>BMI</th>\n",
       "      <td>0.017683</td>\n",
       "      <td>0.221071</td>\n",
       "      <td>0.281805</td>\n",
       "      <td>0.392573</td>\n",
       "      <td>0.197859</td>\n",
       "      <td>1.000000</td>\n",
       "      <td>0.140647</td>\n",
       "      <td>0.036242</td>\n",
       "      <td>0.292695</td>\n",
       "    </tr>\n",
       "    <tr>\n",
       "      <th>DiPedFunc</th>\n",
       "      <td>-0.033523</td>\n",
       "      <td>0.137337</td>\n",
       "      <td>0.041265</td>\n",
       "      <td>0.183928</td>\n",
       "      <td>0.185071</td>\n",
       "      <td>0.140647</td>\n",
       "      <td>1.000000</td>\n",
       "      <td>0.033561</td>\n",
       "      <td>0.173844</td>\n",
       "    </tr>\n",
       "    <tr>\n",
       "      <th>Age</th>\n",
       "      <td>0.544341</td>\n",
       "      <td>0.263514</td>\n",
       "      <td>0.239528</td>\n",
       "      <td>-0.113970</td>\n",
       "      <td>-0.042163</td>\n",
       "      <td>0.036242</td>\n",
       "      <td>0.033561</td>\n",
       "      <td>1.000000</td>\n",
       "      <td>0.238356</td>\n",
       "    </tr>\n",
       "    <tr>\n",
       "      <th>HasDiabetes</th>\n",
       "      <td>0.221898</td>\n",
       "      <td>0.466581</td>\n",
       "      <td>0.065068</td>\n",
       "      <td>0.074752</td>\n",
       "      <td>0.130548</td>\n",
       "      <td>0.292695</td>\n",
       "      <td>0.173844</td>\n",
       "      <td>0.238356</td>\n",
       "      <td>1.000000</td>\n",
       "    </tr>\n",
       "  </tbody>\n",
       "</table>\n",
       "</div>"
      ],
      "text/plain": [
       "               NumTimesPrg  PlGlcConc    BloodP  SkinThick  TwoHourSerIns  \\\n",
       "NumTimesPrg       1.000000   0.129459  0.141282  -0.081672      -0.073535   \n",
       "PlGlcConc         0.129459   1.000000  0.152590   0.057328       0.331357   \n",
       "BloodP            0.141282   0.152590  1.000000   0.207371       0.088933   \n",
       "SkinThick        -0.081672   0.057328  0.207371   1.000000       0.436783   \n",
       "TwoHourSerIns    -0.073535   0.331357  0.088933   0.436783       1.000000   \n",
       "BMI               0.017683   0.221071  0.281805   0.392573       0.197859   \n",
       "DiPedFunc        -0.033523   0.137337  0.041265   0.183928       0.185071   \n",
       "Age               0.544341   0.263514  0.239528  -0.113970      -0.042163   \n",
       "HasDiabetes       0.221898   0.466581  0.065068   0.074752       0.130548   \n",
       "\n",
       "                    BMI  DiPedFunc       Age  HasDiabetes  \n",
       "NumTimesPrg    0.017683  -0.033523  0.544341     0.221898  \n",
       "PlGlcConc      0.221071   0.137337  0.263514     0.466581  \n",
       "BloodP         0.281805   0.041265  0.239528     0.065068  \n",
       "SkinThick      0.392573   0.183928 -0.113970     0.074752  \n",
       "TwoHourSerIns  0.197859   0.185071 -0.042163     0.130548  \n",
       "BMI            1.000000   0.140647  0.036242     0.292695  \n",
       "DiPedFunc      0.140647   1.000000  0.033561     0.173844  \n",
       "Age            0.036242   0.033561  1.000000     0.238356  \n",
       "HasDiabetes    0.292695   0.173844  0.238356     1.000000  "
      ]
     },
     "execution_count": 3,
     "metadata": {},
     "output_type": "execute_result"
    }
   ],
   "source": [
    "# Tính toán mối tương quan theo từng cặp giá trị của các cột, loại trừ giá trị NA/null\n",
    "df_coor = df.corr() # correlation\n",
    "df_coor"
   ]
  },
  {
   "cell_type": "markdown",
   "metadata": {
    "id": "Q0YpKuUBM1kb"
   },
   "source": [
    "### Task 3: Trực quan ma trận tương quan bằng heatmap trong seaborn."
   ]
  },
  {
   "cell_type": "code",
   "execution_count": 4,
   "metadata": {
    "id": "ll0POqtIM1kc"
   },
   "outputs": [
    {
     "data": {
      "image/png": "[encoded data removed]",
      "text/plain": [
       "<Figure size 576x396 with 2 Axes>"
      ]
     },
     "metadata": {},
     "output_type": "display_data"
    }
   ],
   "source": [
    "import seaborn as sns \n",
    "plt.style.use('seaborn')\n",
    "\n",
    "heat = sns.heatmap(data = df_coor, annot = True, fmt= \".2f\")\n",
    "plt.show()"
   ]
  },
  {
   "cell_type": "markdown",
   "metadata": {
    "id": "gZ5Msu8UM1kg"
   },
   "source": [
    "## Trực quan hóa tập dữ liệu"
   ]
  },
  {
   "cell_type": "markdown",
   "metadata": {
    "id": "qvHkLsj_Kuv9"
   },
   "source": [
    "Trực quan hóa dữ liệu là một bước quan trọng của phân tích dữ liệu. \n",
    "\n",
    "Nhờ có trực quan hóa dữ liệu, chúng ta sẽ hiểu rõ hơn về các phân phối giá trị đặc trưng khác nhau: ví dụ: chúng ta nắm được độ tuổi trung bình của mọi người hoặc chỉ số BMI trung bình,...\n",
    "\n",
    "Tất nhiên, chúng ta có thể giới hạn việc xem xét hiển thị bảng, nhưng điều này cũng đồng nghĩa với việc chúng ta có thể sẽ bỏ lỡ những yếu tố quan trọng có thể ảnh hưởng đến độ chính xác của mô hình."
   ]
  },
  {
   "cell_type": "markdown",
   "metadata": {
    "id": "QsYiOSQNBjyN"
   },
   "source": [
    "### Task 4: Trực quan histogram với tất cả cột tập dữ liệu."
   ]
  },
  {
   "cell_type": "code",
   "execution_count": 5,
   "metadata": {
    "id": "JC3CILgxM1kh"
   },
   "outputs": [
    {
     "data": {
      "image/png": "[encoded data removed]",
      "text/plain": [
       "<Figure size 1440x1080 with 9 Axes>"
      ]
     },
     "metadata": {},
     "output_type": "display_data"
    }
   ],
   "source": [
    "# Thao tác biểu đồ tần suất với tất cả cột tập dữ liệu\n",
    "hist = df.hist(bins = 50, figsize=(20,15))"
   ]
  },
  {
   "cell_type": "markdown",
   "metadata": {
    "button": false,
    "id": "VYSkabikM1kj",
    "new_sheet": false,
    "run_control": {
     "read_only": false
    }
   },
   "source": [
    "Tôi nhận thấy trong tập dữ liệu (điều này không rõ ràng ngay từ đầu) là thực tế một số người có giá trị null (không) cho một số đặc trưng: BMI hoặc huyết áp không hoàn toàn là 0.\n",
    "\n",
    "Làm thế nào để xử lý các giá trị tương tự? Hãy xem phần sau trong giai đoạn biến đổi dữ liệu."
   ]
  },
  {
   "cell_type": "markdown",
   "metadata": {
    "button": false,
    "id": "si5Fgks4M1kj",
    "new_sheet": false,
    "run_control": {
     "read_only": false
    }
   },
   "source": [
    "## Làm sạch và biến đổi dữ liệu"
   ]
  },
  {
   "cell_type": "markdown",
   "metadata": {
    "id": "mU2qrkkCKwyK"
   },
   "source": [
    "Từ phân tích trước, chúng ta đã nhận thấy một số bệnh nhân bị thiếu dữ liệu ở một số đặc trưng. Các thuật toán ML hoạt động không hiệu quả khi dữ liệu bị khuyết, vì vậy chúng ta phải tìm cách để \"làm sạch\" dữ liệu hiện có.\n",
    " \n",
    "Cách dễ nhất là loại bỏ tất cả những bệnh nhân có giá trị null/0, nhưng nếu làm theo cách này, chúng ta cũng sẽ loại bỏ rất nhiều dữ liệu quan trọng.\n",
    "\n",
    "Cách khác là thay thế giá trị null/0 bằng giá trị trung bình của cột dữ liệu đó. Hãy xem làm thế nào để áp dụng phương pháp thứ hai này."
   ]
  },
  {
   "cell_type": "markdown",
   "metadata": {
    "id": "X86RJDfMKCmj"
   },
   "source": [
    "### Task 5: Gán giá trị bị khuyết trên ['BMI', 'BloodP', 'PlGlcConc', 'SkinThick', 'TwoHourSerIns'] bằng giá trị trung vị hoặc bất kỳ cách nào khác có hiệu quả.\n",
    "\n",
    "Chúng tôi chưa chuyển đổi tất cả các cột vì một số giá trị có thể là 0 (như \"Số lần mang thai\")."
   ]
  },
  {
   "cell_type": "code",
   "execution_count": 6,
   "metadata": {
    "scrolled": false
   },
   "outputs": [
    {
     "name": "stdout",
     "output_type": "stream",
     "text": [
      "Tổng các giá trị NA trong DataFrame: \n",
      " NumTimesPrg      0\n",
      "PlGlcConc        0\n",
      "BloodP           0\n",
      "SkinThick        0\n",
      "TwoHourSerIns    0\n",
      "BMI              0\n",
      "DiPedFunc        0\n",
      "Age              0\n",
      "HasDiabetes      0\n",
      "dtype: int64\n",
      "\n",
      "Tổng các giá trị 0 trong DataFrame: \n",
      " NumTimesPrg      111\n",
      "PlGlcConc          5\n",
      "BloodP            35\n",
      "SkinThick        227\n",
      "TwoHourSerIns    374\n",
      "BMI               11\n",
      "DiPedFunc          0\n",
      "Age                0\n",
      "HasDiabetes      500\n",
      "dtype: int64\n"
     ]
    }
   ],
   "source": [
    "# Kiểm tra các giá trị NA và 0 trong DataFrame\n",
    "print('Tổng các giá trị NA trong DataFrame: \\n', df.isna().sum())\n",
    "print('\\nTổng các giá trị 0 trong DataFrame: \\n', (df == 0).sum())"
   ]
  },
  {
   "cell_type": "code",
   "execution_count": 7,
   "metadata": {
    "button": false,
    "id": "ccZyY2RbM1kk",
    "new_sheet": false,
    "run_control": {
     "read_only": false
    }
   },
   "outputs": [],
   "source": [
    "# Gán giá trị bị khuyết trong list bằng trung vị thay cho giá trị trong cột là 0\n",
    "# Trung vị là số ở giữa trong một list các số tăng dần hoặc giảm dần và có thể mô tả nhiều hơn về tập dữ liệu so với giá trị trung bình.\n",
    "zero_list = ['BMI', 'BloodP', 'PlGlcConc', 'SkinThick', 'TwoHourSerIns'] \n",
    "for i in zero_list:\n",
    "    df[i].replace(0, np.nan, inplace = True)\n",
    "    med = df[i].median(skipna = True)\n",
    "    df[i].replace(np.nan, med, inplace = True)"
   ]
  },
  {
   "cell_type": "code",
   "execution_count": 8,
   "metadata": {},
   "outputs": [
    {
     "data": {
      "text/plain": [
       "BMI              18.2\n",
       "BloodP           24.0\n",
       "PlGlcConc        44.0\n",
       "SkinThick         7.0\n",
       "TwoHourSerIns    14.0\n",
       "dtype: float64"
      ]
     },
     "execution_count": 8,
     "metadata": {},
     "output_type": "execute_result"
    }
   ],
   "source": [
    "df[zero_list].min()"
   ]
  },
  {
   "cell_type": "markdown",
   "metadata": {
    "id": "-8h0P-vLM1kl"
   },
   "source": [
    "## Chuẩn hóa dữ liệu"
   ]
  },
  {
   "cell_type": "markdown",
   "metadata": {
    "id": "l6dcM1TpKzZD"
   },
   "source": [
    "\n",
    "Một trong những cách biến đổi dữ liệu quan trọng nhất mà chúng ta cần áp dụng là co giãn đặc trưng (feature scaling). \n",
    "\n",
    "Về cơ bản, hầu hết các thuật toán ML không hoạt động tốt nếu các đặc trưng có một bộ giá trị khác nhau. \n",
    "\n",
    "    Ví dụ trong trường hợp của chúng ta, độ tuổi dao động từ 20 đến 80 tuổi, trong khi số lần bệnh nhân mang thai lại từ 0 đến 17 tuổi. Do đó, chúng ta cần áp dụng một phép biến đổi thích hợp.\n",
    "    \n",
    "Chuẩn hóa dữ liệu là scale dữ liệu về một phân bố trong đó giá trị trung bình của các quan sát bằng 0 và độ lệch chuẩn = 1. \n",
    "\n",
    "(Theo https://machinelearningcoban.com/general/2017/02/06/featureengineering/)"
   ]
  },
  {
   "cell_type": "markdown",
   "metadata": {
    "id": "Puwt6OQ-Bp3m"
   },
   "source": [
    "### Task 6: Thực hiện co giãn dữ liệu thành giá trị trung bình bằng 0 và phương sai bằng 1."
   ]
  },
  {
   "cell_type": "code",
   "execution_count": 9,
   "metadata": {
    "id": "S22D1f6QM1km"
   },
   "outputs": [
    {
     "data": {
      "text/plain": [
       "array([[ 0.63994726,  0.86604475, -0.03198993, ...,  0.16661938,\n",
       "         0.46849198,  1.4259954 ],\n",
       "       [-0.84488505, -1.20506583, -0.5283186 , ..., -0.85219976,\n",
       "        -0.36506078, -0.19067191],\n",
       "       [ 1.23388019,  2.01666174, -0.69376149, ..., -1.33250021,\n",
       "         0.60439732, -0.10558415],\n",
       "       ...,\n",
       "       [ 0.3429808 , -0.02157407, -0.03198993, ..., -0.910418  ,\n",
       "        -0.68519336, -0.27575966],\n",
       "       [-0.84488505,  0.14279979, -1.02464727, ..., -0.34279019,\n",
       "        -0.37110101,  1.17073215],\n",
       "       [-0.84488505, -0.94206766, -0.19743282, ..., -0.29912651,\n",
       "        -0.47378505, -0.87137393]])"
      ]
     },
     "execution_count": 9,
     "metadata": {},
     "output_type": "execute_result"
    }
   ],
   "source": [
    "y = df['HasDiabetes'] # cột kết quả, tách và gán giá trị cho biến y\n",
    "X = df.drop(columns = 'HasDiabetes', axis=1)\n",
    "\n",
    "from sklearn.preprocessing import StandardScaler\n",
    "sc = StandardScaler()\n",
    "X = sc.fit_transform(X)\n",
    "X"
   ]
  },
  {
   "cell_type": "code",
   "execution_count": 10,
   "metadata": {},
   "outputs": [
    {
     "data": {
      "text/plain": [
       "0    1\n",
       "1    0\n",
       "2    1\n",
       "3    0\n",
       "4    1\n",
       "Name: HasDiabetes, dtype: int64"
      ]
     },
     "execution_count": 10,
     "metadata": {},
     "output_type": "execute_result"
    }
   ],
   "source": [
    "y.head() # giá trị cột y"
   ]
  },
  {
   "cell_type": "markdown",
   "metadata": {
    "button": false,
    "id": "oOHQu_2rM1ko",
    "new_sheet": false,
    "run_control": {
     "read_only": false
    }
   },
   "source": [
    "## Phân tách dữ liệu"
   ]
  },
  {
   "cell_type": "markdown",
   "metadata": {
    "id": "Wd1-qKnJK1It"
   },
   "source": [
    "Bây giờ dữ liệu đã được chuyển đổi, chúng ta cần chia tập dữ liệu thành hai phần: tập dữ liệu huấn luyện và tập dữ liệu kiểm tra. \n",
    "\n",
    "**Phân tách tập dữ liệu** là một bước rất quan trọng đối với các mô hình học máy có giám sát. \n",
    "\n",
    "Về cơ bản, chúng ta sẽ sử dụng phần đầu tiên để huấn luyện mô hình (bỏ qua cột có nhãn được gán trước), sau đó sử dụng mô hình đã huấn luyện để đưa ra dự đoán về dữ liệu mới (là tập dữ liệu kiểm tra, không phải là một phần của tập huấn luyện) và so sánh giá trị dự đoán với nhãn đã được chỉ định"
   ]
  },
  {
   "cell_type": "markdown",
   "metadata": {
    "id": "teWZ9Hn0BsQL"
   },
   "source": [
    "### Task 7: Tách tập dữ liệu train/test tỉ lệ 80/20\n",
    "\n",
    "- test_size = 20%\n",
    "- random_state=7."
   ]
  },
  {
   "cell_type": "code",
   "execution_count": 11,
   "metadata": {
    "id": "Xfh4QK1oM1kp"
   },
   "outputs": [],
   "source": [
    "from sklearn.model_selection import train_test_split\n",
    "# Chia dữ liệu với test_size = 20% và random_state = 7.\n",
    "X_train, X_test, y_train, y_test = train_test_split(X, y, test_size = 0.2, random_state = 7, stratify = y)"
   ]
  },
  {
   "cell_type": "code",
   "execution_count": 12,
   "metadata": {},
   "outputs": [
    {
     "name": "stdout",
     "output_type": "stream",
     "text": [
      "Shape của tập train: (614, 8) (614,)\n",
      "Shape của tập test: (154, 8) (154,)\n"
     ]
    }
   ],
   "source": [
    "print('Shape của tập train:',X_train.shape, y_train.shape)\n",
    "print('Shape của tập test:',X_test.shape, y_test.shape)"
   ]
  },
  {
   "cell_type": "markdown",
   "metadata": {
    "id": "Yk3Y6qVtM1kq"
   },
   "source": [
    "**Câu hỏi: Tại sao chúng ta nên thực hiện chuẩn hóa và phân tách dữ liệu trước bước huấn luyện?**"
   ]
  },
  {
   "cell_type": "markdown",
   "metadata": {},
   "source": [
    "<font color='blue'>\n",
    "\n",
    "**Một trong những cách biến đổi dữ liệu quan trọng nhất mà chúng ta cần áp dụng là co giãn đặc trưng (feature scaling).**    \n",
    "    \n",
    "1. Sự phân bố không đồng đều của các trọng số nên dẫn tới việc thuật toán sẽ bị dao động trong vùng tối ưu trước khi nó tìm đến vị trí cực tiểu toàn cục. Nên ta chuẩn hóa các features đầu vào về cùng tỉ lệ. Điều này giúp mô hình có thể học nhanh hơn.\n",
    "2.  Ta cần tách ra thành 2 tập train và test độc lập để tránh tình trạng quá khớp của mô hình, không mang lại hiệu quả tối ưu khi huấn luyện mô hình."
   ]
  },
  {
   "cell_type": "markdown",
   "metadata": {
    "id": "6PaVBEAwM1ks"
   },
   "source": [
    "### Task 8: In ra tỷ lệ dương tính trên tổng số phụ nữ mắc bệnh tiểu đường trong tập dữ liệu đầy đủ, tập huấn luyện và tập kiểm tra."
   ]
  },
  {
   "cell_type": "code",
   "execution_count": 13,
   "metadata": {
    "id": "36nXnB7cM1ku",
    "scrolled": true
   },
   "outputs": [
    {
     "name": "stdout",
     "output_type": "stream",
     "text": [
      "Tỷ lệ phụ nữ dương tính/tổng số trong tập dữ liệu lần lượt:\n",
      "- Đầy đủ: 34.90 %\n",
      "- Tập huấn luyện: 34.85 %\n",
      "- Tập kiểm tra: 35.06 %\n"
     ]
    }
   ],
   "source": [
    "print('Tỷ lệ phụ nữ dương tính/tổng số trong tập dữ liệu lần lượt:')\n",
    "print('- Đầy đủ: %.2f %%'%(100*y.value_counts(normalize = True)[1])) # normalize đặt là True, thì đối tượng được trả về sẽ chứa tương đối tần số của các giá trị duy nhất.\n",
    "print('- Tập huấn luyện: %.2f %%'%(100*y_train.value_counts(normalize = True)[1]))\n",
    "print('- Tập kiểm tra: %.2f %%'%(100*y_test.value_counts(normalize = True)[1]))"
   ]
  },
  {
   "cell_type": "markdown",
   "metadata": {},
   "source": [
    "# Phân loại "
   ]
  },
  {
   "cell_type": "markdown",
   "metadata": {
    "button": false,
    "id": "Q-NwUyDVM1k0",
    "new_sheet": false,
    "run_control": {
     "read_only": false
    }
   },
   "source": [
    "Giờ đến lượt bạn rồi, hãy sử dụng tập huấn luyện để xây dựng một mô hình chính xác, sau đó sử dụng tập kiểm tra để báo lại độ chính xác của mô hình.\n",
    "\n",
    "Bạn nên sử dụng các thuật toán sau:\n",
    "- K Nearest Neighbor(KNN)\n",
    "- Decision Tree\n",
    "- Support Vector Machine\n",
    "- Logistic Regression\n",
    "- Neural Network\n",
    "- Soft voting\n",
    "- Hard voting\n",
    "\n",
    "\n",
    "\n",
    "**__ Lưu ý:__**\n",
    "\n",
    "- Bạn phải cố gắng **TINH CHỈNH ÍT NHẤT 3 SIÊU THAM SỐ** trên mỗi thuật toán, ngoại trừ soft voting và hard voting.\n",
    "- Bạn có thể lên phía trên notebook và thay đổi quá trình tiền xử lý, lựa chọn đặc trưng, trích xuất đặc trưng,... để tạo ra mô hình tốt hơn.\n",
    "- Bạn nên sử dụng thư viện scikit-learn, Scipy hoặc Numpy để phát triển các thuật toán phân loại.\n",
    "- Bạn nên bao gồm code của thuật toán trong các cell sau."
   ]
  },
  {
   "cell_type": "markdown",
   "metadata": {
    "id": "c8HKeDu9M1k1"
   },
   "source": [
    "## Import các phép đo đánh giá"
   ]
  },
  {
   "cell_type": "code",
   "execution_count": 14,
   "metadata": {
    "id": "sZrg6rrsM1k1"
   },
   "outputs": [],
   "source": [
    "from sklearn.metrics import jaccard_score, f1_score, accuracy_score"
   ]
  },
  {
   "cell_type": "code",
   "execution_count": 15,
   "metadata": {
    "id": "TBXdCSP-M1k3"
   },
   "outputs": [],
   "source": [
    "# Dictionary để giữ tất cả score của bộ phân loại\n",
    "f1_scores = {'train':{'KNN': 0, 'DT': 0, 'SVM': 0, 'LR': 0, 'NN': 0, 'EN_HARD': 0, 'EN_SOFT': 0},\n",
    "             'test':{'KNN': 0, 'DT': 0, 'SVM': 0, 'LR': 0, 'NN': 0, 'EN_HARD': 0, 'EN_SOFT': 0}}\n",
    "jaccard_scores = {'train':{'KNN': 0, 'DT': 0, 'SVM': 0, 'LR': 0, 'NN': 0, 'EN_HARD': 0, 'EN_SOFT': 0}, \n",
    "                  'test':{'KNN': 0, 'DT': 0, 'SVM': 0, 'LR': 0, 'NN': 0, 'EN_HARD': 0, 'EN_SOFT': 0}}"
   ]
  },
  {
   "cell_type": "markdown",
   "metadata": {
    "id": "54H_TZFAK83W"
   },
   "source": [
    "## Task 9: [K Nearest Neighbor](https://scikit-learn.org/stable/modules/generated/sklearn.neighbors.KNeighborsClassifier.html)\n",
    "\n",
    "\n",
    "\n",
    "Tinh chỉnh siêu tham số để có được mô hình KNN với độ chính xác tốt nhất. \n",
    "\n",
    "In ra các giá trị siêu tham số của mô hình KNN với độ chính xác tốt nhất. \n",
    "\n",
    "Đưa ra dự đoán từ dữ liệu huấn luyện và kiếm tra trên mô hình KNN. \n",
    "\n",
    "Tính f1 score và Jaccard score rồi lưu vào f1_scores dict và jaccard_scores dict.\n",
    "\n",
    "Yêu cầu:\n",
    "\n",
    "- Số lượng siêu tham số tối thiểu: 3\n",
    "\n",
    "- Sử dụng [GridSearchCV](https://scikit-learn.org/stable/modules/generated/sklearn.model_selection.GridSearchCV.html?highlight=gridsearchcv#sklearn.model_selection.GridSearchCV) trong sklearn.model_selection. \n",
    "\n",
    "- Không nên sử dụng dữ liệu kiểm tra để tìm ra các tham số tốt nhất.\n",
    "\n",
    "- [F1 score](https://scikit-learn.org/stable/modules/generated/sklearn.metrics.f1_score.html?highlight=f1+score#sklearn.metrics.f1_score) trên dữ liệu kiểm tra phải cao hơn **0.6**, [Jaccard score](https://scikit-learn.org/stable/modules/generated/sklearn.metrics.jaccard_score.html?highlight=jaccard+score) phải cao hơn **0.4**."
   ]
  },
  {
   "cell_type": "code",
   "execution_count": 16,
   "metadata": {
    "id": "WpD6yCUlM1k7"
   },
   "outputs": [],
   "source": [
    "from sklearn.neighbors import KNeighborsClassifier\n",
    "from sklearn.model_selection import GridSearchCV"
   ]
  },
  {
   "cell_type": "code",
   "execution_count": 17,
   "metadata": {
    "id": "Xw2vbHFKM1k9"
   },
   "outputs": [
    {
     "name": "stdout",
     "output_type": "stream",
     "text": [
      "Mô hình KNN với độ chính xác tốt nhất với các siêu tham số: \n"
     ]
    },
    {
     "data": {
      "text/plain": [
       "{'algorithm': 'auto',\n",
       " 'leaf_size': 30,\n",
       " 'metric': 'minkowski',\n",
       " 'metric_params': None,\n",
       " 'n_jobs': None,\n",
       " 'n_neighbors': 17,\n",
       " 'p': 3,\n",
       " 'weights': 'uniform'}"
      ]
     },
     "execution_count": 17,
     "metadata": {},
     "output_type": "execute_result"
    }
   ],
   "source": [
    "# Tùy chỉnh các siêu tham số \n",
    "params = {'n_neighbors': range(1, 21),\n",
    "          'weights' : ['uniform', 'distance'], \n",
    "          'p' : range(1, 10)\n",
    "         }\n",
    "neigh = KNeighborsClassifier()\n",
    "# GridSearchCV: tìm kiếm đầy đủ trên các giá trị tham số được chỉ định cho một công cụ ước tính.\n",
    "grid_knn = GridSearchCV(neigh, param_grid = params, scoring = 'accuracy', n_jobs = -1, cv=5) # cross-validation generator or an iterable\n",
    "grid_knn.fit(X_train, y_train)\n",
    "knn_model = grid_knn.best_estimator_\n",
    "\n",
    "# Các giá trị siêu tham số của mô hình KNN với độ chính xác tốt nhất (tối thiểu 3 tham số)\n",
    "print('Mô hình KNN với độ chính xác tốt nhất với các siêu tham số: ')\n",
    "knn_model.get_params()"
   ]
  },
  {
   "cell_type": "markdown",
   "metadata": {
    "id": "QLvhv6JrM1lA"
   },
   "source": [
    "**Câu hỏi: Diễn giải các tham số bạn đã chọn để tinh chỉnh trong thuật toán KNN?**"
   ]
  },
  {
   "cell_type": "markdown",
   "metadata": {
    "id": "qaJt1GeEM1lA"
   },
   "source": [
    "<font color='blue'>\n",
    "    \n",
    "1. **n_neighbors**: số lượng k lân cận có nghĩa là label của một điểm dữ liệu mới được suy ra trực tiếp từ 19 điểm dữ liệu gần nhất trong training set\n",
    "2. **p** là khoảng cách \n",
    "\n",
    "3. **weights**, mặc định là 'uniform', tức xem tất cả các điểm lân cận có giá trị như nhau, còn 'distance' là những điểm gần hơn có trọng số cao hơn\n"
   ]
  },
  {
   "cell_type": "code",
   "execution_count": 18,
   "metadata": {},
   "outputs": [
    {
     "name": "stdout",
     "output_type": "stream",
     "text": [
      "Train set accuracy: 0.7850162866449512\n",
      "Test set accuracy: 0.7857142857142857\n"
     ]
    }
   ],
   "source": [
    "# Dự đoán tập train và test set trên mô hình\n",
    "yhat_test = knn_model.predict(X_test)\n",
    "yhat_train = knn_model.predict(X_train) \n",
    "\n",
    "acc_train_knn = accuracy_score(y_train, yhat_train)\n",
    "acc_test_knn = accuracy_score(y_test, yhat_test)\n",
    "               \n",
    "print('Train set accuracy:' , acc_train_knn)\n",
    "print('Test set accuracy:' , acc_test_knn)"
   ]
  },
  {
   "cell_type": "code",
   "execution_count": 19,
   "metadata": {},
   "outputs": [
    {
     "name": "stdout",
     "output_type": "stream",
     "text": [
      "Test set: f1_score (>0.6): 0.8421052631578948\n",
      "Test set: Jaccard_score (>0.4): 0.7272727272727273\n"
     ]
    }
   ],
   "source": [
    "# Dự đoán trên tập train và test\n",
    "yhat_train_knn = knn_model.predict(X_train)\n",
    "yhat_test_knn = knn_model.predict(X_test)\n",
    "\n",
    "f1_scores['train']['KNN'] = f1_score(y_train, yhat_train_knn)\n",
    "f1_scores['test']['KNN'] = f1_score(y_test, yhat_test_knn, pos_label=0)\n",
    "jaccard_scores['train']['KNN'] = jaccard_score(y_train, yhat_train_knn)\n",
    "jaccard_scores['test']['KNN'] = jaccard_score(y_test, yhat_test_knn, pos_label=0)\n",
    "\n",
    "# F1 score trên dữ liệu kiểm tra phải cao hơn 0.6, Jaccard score phải cao hơn 0.4\n",
    "print('Test set: f1_score (>0.6):' , f1_scores['test']['KNN'])\n",
    "print('Test set: Jaccard_score (>0.4):' , jaccard_scores['test']['KNN'])"
   ]
  },
  {
   "cell_type": "markdown",
   "metadata": {
    "id": "rmN0gHsGPn8A"
   },
   "source": [
    "## Task 10: [Decision Tree](https://scikit-learn.org/stable/modules/generated/sklearn.tree.DecisionTreeClassifier.html?highlight=decision+trees)\n",
    "\n",
    "Tinh chỉnh siêu tham số để có được mô hình DT với độ chính xác tốt nhất. \n",
    "\n",
    "In ra các giá trị siêu tham số của mô hình DT với độ chính xác tốt nhất.\n",
    "\n",
    "Đưa ra dự đoán từ dữ liệu huấn luyện và kiếm tra trên mô hình DT. \n",
    "\n",
    "Tính f1 score và Jaccard score rồi lưu vào f1_scores dict và jaccard_scores dict.\n",
    "\n",
    "Yêu cầu:\n",
    "\n",
    "- Số lượng siêu tham số tối thiểu: 3\n",
    "\n",
    "- Sử dụng [GridSearchCV](https://scikit-learn.org/stable/modules/generated/sklearn.model_selection.GridSearchCV.html?highlight=gridsearchcv#sklearn.model_selection.GridSearchCV) trong sklearn.model_selection. \n",
    "\n",
    "- Không nên sử dụng dữ liệu kiểm tra để tìm ra các tham số tốt nhất.\n",
    "\n",
    "- F1 score trên dữ liệu kiểm tra phải cao hơn **0.6**, Jaccard score phải cao hơn **0.4**."
   ]
  },
  {
   "cell_type": "code",
   "execution_count": 20,
   "metadata": {
    "id": "CnE8pvjvM1lG"
   },
   "outputs": [],
   "source": [
    "from sklearn import tree\n",
    "from sklearn.tree import DecisionTreeClassifier"
   ]
  },
  {
   "cell_type": "code",
   "execution_count": 21,
   "metadata": {
    "id": "RPdHH2HiM1lI"
   },
   "outputs": [
    {
     "name": "stdout",
     "output_type": "stream",
     "text": [
      "Các giá trị siêu tham số của mô hình Decision Tree với độ chính xác tốt nhất: \n"
     ]
    },
    {
     "data": {
      "text/plain": [
       "{'ccp_alpha': 0.0,\n",
       " 'class_weight': None,\n",
       " 'criterion': 'entropy',\n",
       " 'max_depth': 9,\n",
       " 'max_features': 'log2',\n",
       " 'max_leaf_nodes': None,\n",
       " 'min_impurity_decrease': 0.0,\n",
       " 'min_samples_leaf': 10,\n",
       " 'min_samples_split': 2,\n",
       " 'min_weight_fraction_leaf': 0.0,\n",
       " 'random_state': None,\n",
       " 'splitter': 'best'}"
      ]
     },
     "execution_count": 21,
     "metadata": {},
     "output_type": "execute_result"
    }
   ],
   "source": [
    "params = {\n",
    "    'criterion': ['gini', 'entropy'],\n",
    "    'max_depth': range(1, 15),\n",
    "    'min_samples_leaf': range(1,11),\n",
    "    'max_features': ['sqrt','log2'],\n",
    "    'splitter': ['best', 'random']\n",
    "    }\n",
    "\n",
    "DT = DecisionTreeClassifier()\n",
    "grid_DT = GridSearchCV(DT, param_grid= params, scoring='jaccard', n_jobs=-1, cv=5)\n",
    "grid_DT.fit(X_train, y_train)\n",
    "DT_model = grid_DT.best_estimator_\n",
    "\n",
    "# Các giá trị siêu tham số của mô hình Decision Tree với độ chính xác tốt nhất\n",
    "print('Các giá trị siêu tham số của mô hình Decision Tree với độ chính xác tốt nhất: ')\n",
    "DT_model.get_params()"
   ]
  },
  {
   "cell_type": "markdown",
   "metadata": {},
   "source": [
    "**Câu hỏi: Diễn giải các tham số bạn đã chọn để tinh chỉnh trong thuật toán DT.**"
   ]
  },
  {
   "cell_type": "markdown",
   "metadata": {
    "id": "nd4a59C6M1lQ"
   },
   "source": [
    "<font color='blue'>\n",
    "    \n",
    "- **'criterion'**: đo lường chất lượng của việc tách dữ liệu\n",
    "- **'max_depth'**: độ sâu tối đa của cây\n",
    "- **'min_samples_leaf'**: số lượng mẫu tối thiểu cần có để tách tại mỗi nút\n",
    "- **'max_features'**: số lượng feature cần xem xét khi tìm kiếm cách phân chia tốt nhất\n",
    "- **'splitter'**: chọn cách tách dữ liệu tại mỗi nút"
   ]
  },
  {
   "cell_type": "code",
   "execution_count": 22,
   "metadata": {},
   "outputs": [
    {
     "name": "stdout",
     "output_type": "stream",
     "text": [
      "Train set accuracy:  0.8322475570032574\n",
      "Test set accuracy:  0.7272727272727273\n"
     ]
    }
   ],
   "source": [
    "# Đưa ra dự đoán từ train set và test set trên mô hình\n",
    "print('Train set accuracy: ', accuracy_score(y_train, DT_model.predict(X_train)))\n",
    "print('Test set accuracy: ', accuracy_score(y_test, DT_model.predict(X_test)))"
   ]
  },
  {
   "cell_type": "code",
   "execution_count": 23,
   "metadata": {},
   "outputs": [
    {
     "name": "stdout",
     "output_type": "stream",
     "text": [
      "Test set f1 score (>0.6): 0.8018867924528302\n",
      "Test set Jaccard score (>0.4): 0.6692913385826772\n"
     ]
    }
   ],
   "source": [
    "# Tính f1_scores và Jaccard scores:\n",
    "f1_scores['train']['DT'] = f1_score(y_train, DT_model.predict(X_train))\n",
    "f1_scores['test']['DT'] = f1_score(y_test, DT_model.predict(X_test), pos_label=0)\n",
    "jaccard_scores['train']['DT'] = jaccard_score(y_train, DT_model.predict(X_train))\n",
    "jaccard_scores['test']['DT'] = jaccard_score(y_test, DT_model.predict(X_test), pos_label=0)\n",
    "\n",
    "# F1 score trên dữ liệu kiểm tra phải cao hơn 0.6, Jaccard score phải cao hơn 0.4\n",
    "print('Test set f1 score (>0.6):', f1_scores['test']['DT'])\n",
    "print('Test set Jaccard score (>0.4):', jaccard_scores['test']['DT'])"
   ]
  },
  {
   "cell_type": "markdown",
   "metadata": {
    "id": "DwO5te8nQAEJ"
   },
   "source": [
    "## Task 11: [Support Vector Machine](https://scikit-learn.org/stable/modules/generated/sklearn.svm.SVC.html?highlight=svm)\n",
    "\n",
    "Tinh chỉnh siêu tham số để có được mô hình SVM với độ chính xác tốt nhất. \n",
    "\n",
    "In ra các giá trị siêu tham số của mô hình SVM với độ chính xác tốt nhất.\n",
    "\n",
    "Đưa ra dự đoán từ dữ liệu huấn luyện và kiếm tra trên mô hình SVM. \n",
    "\n",
    "Tính f1 score và Jaccard score rồi lưu vào f1_scores dict và jaccard_scores dict.\n",
    "\n",
    "Yêu cầu:\n",
    "\n",
    "- Số lượng siêu tham số tối thiểu: 3\n",
    "\n",
    "- Sử dụng [GridSearchCV](https://scikit-learn.org/stable/modules/generated/sklearn.model_selection.GridSearchCV.html?highlight=gridsearchcv#sklearn.model_selection.GridSearchCV) trong sklearn.model_selection. \n",
    "\n",
    "- Không nên sử dụng dữ liệu kiểm tra để tìm ra các tham số tốt nhất.\n",
    "\n",
    "- F1 score trên dữ liệu kiểm tra phải cao hơn **0.6**, Jaccard score phải cao hơn **0.4**."
   ]
  },
  {
   "cell_type": "code",
   "execution_count": 24,
   "metadata": {
    "id": "WUwo79EMM1lR"
   },
   "outputs": [],
   "source": [
    "from sklearn.svm import SVC # C-Support Vector Classification."
   ]
  },
  {
   "cell_type": "code",
   "execution_count": 25,
   "metadata": {
    "id": "JMxZtQa8M1lT"
   },
   "outputs": [
    {
     "name": "stdout",
     "output_type": "stream",
     "text": [
      "Các giá trị siêu tham số của mô hình SVM với độ chính xác tốt nhất: \n"
     ]
    },
    {
     "data": {
      "text/plain": [
       "{'C': 10,\n",
       " 'break_ties': False,\n",
       " 'cache_size': 200,\n",
       " 'class_weight': None,\n",
       " 'coef0': 0.0,\n",
       " 'decision_function_shape': 'ovr',\n",
       " 'degree': 3,\n",
       " 'gamma': 0.001,\n",
       " 'kernel': 'rbf',\n",
       " 'max_iter': -1,\n",
       " 'probability': True,\n",
       " 'random_state': None,\n",
       " 'shrinking': True,\n",
       " 'tol': 0.001,\n",
       " 'verbose': False}"
      ]
     },
     "execution_count": 25,
     "metadata": {},
     "output_type": "execute_result"
    }
   ],
   "source": [
    "params = {\n",
    "    'C': [0.001, 0.01, 0.1, 1, 10, 100], \n",
    "    'kernel': ['linear', 'poly', 'rbf', 'sigmoid'],\n",
    "    'gamma': ['scale', 'auto', 0.001, 0.01, 0.1, 1],\n",
    "    'probability':[True,False]\n",
    "    }\n",
    "svc = SVC()\n",
    "grid_svc = GridSearchCV(svc, param_grid= params, n_jobs=-1, cv=5)\n",
    "grid_svc.fit(X_train, y_train)\n",
    "svm_model = grid_svc.best_estimator_\n",
    "\n",
    "# Các giá trị siêu tham số của mô hình SVM với độ chính xác tốt nhất\n",
    "print('Các giá trị siêu tham số của mô hình SVM với độ chính xác tốt nhất: ')\n",
    "svm_model.get_params()"
   ]
  },
  {
   "cell_type": "markdown",
   "metadata": {
    "id": "03XgTdoPM1lW"
   },
   "source": [
    "**Câu hỏi: Diễn giải các tham số bạn đã chọn để tinh chỉnh trong thuật toán SVM.**"
   ]
  },
  {
   "cell_type": "markdown",
   "metadata": {
    "id": "wz0N8-CIM1lW"
   },
   "source": [
    "<font color='blue'>\n",
    "    \n",
    "- **C:** tham số điều chuẩn\n",
    "- **kernel**: loại kernel để sử dụng trong thuật toán\n",
    "- **gamma**: hệ số kernel cho 'poly', 'rbf và 'sigmoid'\n",
    "- **probability**: Có bật ước tính xác suất hay không?"
   ]
  },
  {
   "cell_type": "code",
   "execution_count": 26,
   "metadata": {},
   "outputs": [
    {
     "name": "stdout",
     "output_type": "stream",
     "text": [
      "Train set accuracy:  0.7654723127035831\n",
      "Test set accuracy:  0.7792207792207793\n"
     ]
    }
   ],
   "source": [
    "# Đưa ra dự đoán từ train set và test set trên mô hình\n",
    "print('Train set accuracy: ', accuracy_score(y_train, svm_model.predict(X_train)))\n",
    "print('Test set accuracy: ', accuracy_score(y_test, svm_model.predict(X_test))) "
   ]
  },
  {
   "cell_type": "code",
   "execution_count": 27,
   "metadata": {},
   "outputs": [
    {
     "name": "stdout",
     "output_type": "stream",
     "text": [
      "Test set f1 score(>0.6): 0.6382978723404256\n",
      "Test set Jaccard score (>0.4): 0.46875\n"
     ]
    }
   ],
   "source": [
    "# Tính f1_scores và Jaccard scores:\n",
    "f1_scores['train']['SVM'] = f1_score(y_train, svm_model.predict(X_train))\n",
    "f1_scores['test']['SVM'] = f1_score(y_test, svm_model.predict(X_test))\n",
    "jaccard_scores['train']['SVM'] = jaccard_score(y_train, svm_model.predict(X_train))\n",
    "jaccard_scores['test']['SVM'] = jaccard_score(y_test, svm_model.predict(X_test))\n",
    "\n",
    "# F1 score trên dữ liệu kiểm tra phải cao hơn 0.6, Jaccard score phải cao hơn 0.4.\n",
    "print('Test set f1 score(>0.6):', f1_scores['test']['SVM'])\n",
    "print('Test set Jaccard score (>0.4):', jaccard_scores['test']['SVM'])"
   ]
  },
  {
   "cell_type": "markdown",
   "metadata": {
    "id": "nTQkBQIXM1la"
   },
   "source": [
    "## Task 12: [Logistic Regression](https://scikit-learn.org/stable/modules/generated/sklearn.linear_model.LogisticRegression.html?highlight=logistic+regression#sklearn.linear_model.LogisticRegression)\n",
    "\n",
    "Tinh chỉnh siêu tham số để có được mô hình LR với độ chính xác tốt nhất. \n",
    "\n",
    "In ra các giá trị siêu tham số của mô hình LR với độ chính xác tốt nhất.\n",
    "\n",
    "Đưa ra dự đoán từ dữ liệu huấn luyện và kiếm tra trên mô hình LR. \n",
    "\n",
    "Tính f1 score và Jaccard score rồi lưu vào f1_scores dict và jaccard_scores dict.\n",
    "\n",
    "Yêu cầu:\n",
    "\n",
    "- Số lượng siêu tham số tối thiểu: 3\n",
    "\n",
    "- Sử dụng [GridSearchCV](https://scikit-learn.org/stable/modules/generated/sklearn.model_selection.GridSearchCV.html?highlight=gridsearchcv#sklearn.model_selection.GridSearchCV) trong sklearn.model_selection. \n",
    "\n",
    "- Không nên sử dụng dữ liệu kiểm tra để tìm ra các tham số tốt nhất.\n",
    "\n",
    "- F1 score trên dữ liệu kiểm tra phải cao hơn **0.6**, Jaccard score phải cao hơn **0.4**."
   ]
  },
  {
   "cell_type": "code",
   "execution_count": 28,
   "metadata": {
    "id": "cWFYayQLM1lb"
   },
   "outputs": [],
   "source": [
    "from sklearn.linear_model import LogisticRegression"
   ]
  },
  {
   "cell_type": "code",
   "execution_count": 29,
   "metadata": {
    "id": "7szXdAHTM1lc"
   },
   "outputs": [
    {
     "name": "stdout",
     "output_type": "stream",
     "text": [
      "Các giá trị siêu tham số của mô hình LogisticRegression với độ chính xác tốt nhất: \n"
     ]
    },
    {
     "data": {
      "text/plain": [
       "{'C': 100,\n",
       " 'class_weight': None,\n",
       " 'dual': False,\n",
       " 'fit_intercept': True,\n",
       " 'intercept_scaling': 1,\n",
       " 'l1_ratio': None,\n",
       " 'max_iter': 100,\n",
       " 'multi_class': 'auto',\n",
       " 'n_jobs': None,\n",
       " 'penalty': 'l2',\n",
       " 'random_state': None,\n",
       " 'solver': 'newton-cg',\n",
       " 'tol': 0.001,\n",
       " 'verbose': 0,\n",
       " 'warm_start': False}"
      ]
     },
     "execution_count": 29,
     "metadata": {},
     "output_type": "execute_result"
    }
   ],
   "source": [
    "params = {\n",
    "    'penalty': ['l2'], \n",
    "    'C': [100, 10, 1.0, 0.1, 0.01], \n",
    "    'solver': ['newton-cg', 'lbfgs', 'liblinear'], \n",
    "    'tol' : [1e-3,1e-4,1e-5]\n",
    "         }\n",
    "LGr = LogisticRegression()\n",
    "grid_LGr = GridSearchCV(LGr, param_grid=params, n_jobs=-1, cv=5)\n",
    "grid_LGr.fit(X_train, y_train)\n",
    "LGr_model = grid_LGr.best_estimator_\n",
    "\n",
    "# Các giá trị siêu tham số của mô hình LogisticRegression với độ chính xác tốt nhất\n",
    "print('Các giá trị siêu tham số của mô hình LogisticRegression với độ chính xác tốt nhất: ')\n",
    "LGr_model.get_params()"
   ]
  },
  {
   "cell_type": "markdown",
   "metadata": {
    "id": "pfPytCDYM1le"
   },
   "source": [
    "**Câu hỏi: Diễn giải các tham số bạn đã chọn để tinh chỉnh trong thuật toán LR.**"
   ]
  },
  {
   "cell_type": "markdown",
   "metadata": {
    "id": "RmPs5O5RM1lf"
   },
   "source": [
    "<font color='blue'>\n",
    "    \n",
    "- **penalty**: quy tắc phạt của model\n",
    "- **solver** : là thuật toán sử dụng trong bài toán tối ưu hóa\n",
    "- **C** : là nghịch đảo tham số điều chuẩn, ký hiệu C = 1/λ , λ là tỷ lệ điều chuẩn sẽ nhân với tổng bình phương của tất cả các trọng số đặc trưng để giảm thiểu lỗi khi có nhiều tham số. \n",
    "- **tol** : là độ chính xác của model khi đạt đến sẽ không lặp nữa hay dung sai cho các tiêu chí dừng"
   ]
  },
  {
   "cell_type": "code",
   "execution_count": 30,
   "metadata": {},
   "outputs": [
    {
     "name": "stdout",
     "output_type": "stream",
     "text": [
      "Train set accuracy:  0.7654723127035831\n",
      "Test set accuracy:  0.7792207792207793\n"
     ]
    }
   ],
   "source": [
    "# Đưa ra dự đoán từ train set và test set trên mô hình\n",
    "print('Train set accuracy: ', accuracy_score(y_train, LGr_model.predict(X_train)))\n",
    "print('Test set accuracy: ', accuracy_score(y_test, LGr_model.predict(X_test)))"
   ]
  },
  {
   "cell_type": "code",
   "execution_count": 31,
   "metadata": {},
   "outputs": [
    {
     "name": "stdout",
     "output_type": "stream",
     "text": [
      "Test set f1 score (>0.6): 0.6666666666666667\n",
      "Test set jaccard score (>0.4): 0.5\n"
     ]
    }
   ],
   "source": [
    "# Tính f1 score và Jaccard score\n",
    "f1_scores['train']['LR'] = f1_score(y_train, LGr_model.predict(X_train))\n",
    "f1_scores['test']['LR'] = f1_score(y_test, LGr_model.predict(X_test))\n",
    "jaccard_scores['train']['LR'] = jaccard_score(y_train, LGr_model.predict(X_train))\n",
    "jaccard_scores['test']['LR'] = jaccard_score(y_test, LGr_model.predict(X_test))\n",
    "\n",
    "# F1 score trên dữ liệu kiểm tra phải cao hơn 0.6, Jaccard score phải cao hơn 0.4\n",
    "print('Test set f1 score (>0.6):', f1_scores['test']['LR'])\n",
    "print('Test set jaccard score (>0.4):', jaccard_scores['test']['LR'])"
   ]
  },
  {
   "cell_type": "markdown",
   "metadata": {
    "id": "yrxU775odFQx"
   },
   "source": [
    "## Task 13: [Neural Network](https://scikit-learn.org/stable/modules/generated/sklearn.neural_network.MLPClassifier.html?highlight=neural+network)\n",
    "\n",
    "Tinh chỉnh siêu tham số để có được mô hình NN với độ chính xác tốt nhất. \n",
    "\n",
    "In ra các giá trị siêu tham số của mô hình NN với độ chính xác tốt nhất.\n",
    "\n",
    "Đưa ra dự đoán từ dữ liệu huấn luyện và kiếm tra trên mô hình NN. \n",
    "\n",
    "Tính f1 score và Jaccard score rồi lưu vào f1_scores dict và jaccard_scores dict.\n",
    "\n",
    "Yêu cầu:\n",
    "\n",
    "- Số lượng siêu tham số tối thiểu: 3\n",
    "\n",
    "- Sử dụng [GridSearchCV](https://scikit-learn.org/stable/modules/generated/sklearn.model_selection.GridSearchCV.html?highlight=gridsearchcv#sklearn.model_selection.GridSearchCV) trong sklearn.model_selection. \n",
    "\n",
    "- Không nên sử dụng dữ liệu kiểm tra để tìm ra các tham số tốt nhất.\n",
    "\n",
    "- F1 score trên dữ liệu kiểm tra phải cao hơn **0.6**, Jaccard score phải cao hơn **0.4**."
   ]
  },
  {
   "cell_type": "code",
   "execution_count": 32,
   "metadata": {
    "id": "-sFoZYw2dFQx"
   },
   "outputs": [],
   "source": [
    "from sklearn.neural_network import MLPClassifier"
   ]
  },
  {
   "cell_type": "code",
   "execution_count": 33,
   "metadata": {
    "id": "rqAn-L4ndFQx"
   },
   "outputs": [
    {
     "name": "stdout",
     "output_type": "stream",
     "text": [
      "Các giá trị siêu tham số của mô hình Neural Network với độ chính xác tốt nhất: \n"
     ]
    },
    {
     "data": {
      "text/plain": [
       "{'activation': 'relu',\n",
       " 'alpha': 0.0001,\n",
       " 'batch_size': 'auto',\n",
       " 'beta_1': 0.9,\n",
       " 'beta_2': 0.999,\n",
       " 'early_stopping': False,\n",
       " 'epsilon': 1e-08,\n",
       " 'hidden_layer_sizes': (100,),\n",
       " 'learning_rate': 'invscaling',\n",
       " 'learning_rate_init': 0.001,\n",
       " 'max_fun': 15000,\n",
       " 'max_iter': 200,\n",
       " 'momentum': 0.9,\n",
       " 'n_iter_no_change': 10,\n",
       " 'nesterovs_momentum': True,\n",
       " 'power_t': 0.5,\n",
       " 'random_state': None,\n",
       " 'shuffle': True,\n",
       " 'solver': 'adam',\n",
       " 'tol': 0.0001,\n",
       " 'validation_fraction': 0.1,\n",
       " 'verbose': False,\n",
       " 'warm_start': False}"
      ]
     },
     "execution_count": 33,
     "metadata": {},
     "output_type": "execute_result"
    }
   ],
   "source": [
    "params = {\n",
    "    'activation': ['identity', 'logistic', 'tanh', 'relu'], \n",
    "    'solver': ['sgd', 'adam'], \n",
    "    'alpha': [0.0001, 0.05], \n",
    "    'learning_rate': ['constant', 'invscaling', 'adaptive']\n",
    "         }\n",
    "\n",
    "NN = MLPClassifier()\n",
    "grid_NN = GridSearchCV(NN, param_grid= params, n_jobs=-1, cv=5)\n",
    "grid_NN.fit(X_train, y_train)\n",
    "NN_model = grid_NN.best_estimator_\n",
    "\n",
    "# Các giá trị siêu tham số của mô hình Neural Network với độ chính xác tốt nhất\n",
    "print('Các giá trị siêu tham số của mô hình Neural Network với độ chính xác tốt nhất: ')\n",
    "NN_model.get_params()"
   ]
  },
  {
   "cell_type": "markdown",
   "metadata": {
    "id": "YRIEUAobdFQx"
   },
   "source": [
    "**Câu hỏi: Diễn giải các tham số bạn đã chọn để tinh chỉnh trong thuật toán NN.**"
   ]
  },
  {
   "cell_type": "markdown",
   "metadata": {
    "id": "DtICdIHwdFQx"
   },
   "source": [
    "<font color='blue'>\n",
    "    \n",
    "- **activation**: hàm kích hoạt cho lớp ẩn\n",
    "- **solver**: cách tối ưu trọng số\n",
    "- **learning_rate**: tốc độ học cho những lần update trọng số"
   ]
  },
  {
   "cell_type": "code",
   "execution_count": 34,
   "metadata": {},
   "outputs": [
    {
     "name": "stdout",
     "output_type": "stream",
     "text": [
      "Train set accuracy:  0.8094462540716613\n",
      "Test set accuracy:  0.7532467532467533\n"
     ]
    }
   ],
   "source": [
    "# Đưa ra dự đoán từ train set và test set trên mô hình\n",
    "print('Train set accuracy: ', accuracy_score(y_train, NN_model.predict(X_train)))\n",
    "print('Test set accuracy: ', accuracy_score(y_test, NN_model.predict(X_test)))"
   ]
  },
  {
   "cell_type": "code",
   "execution_count": 35,
   "metadata": {},
   "outputs": [
    {
     "name": "stdout",
     "output_type": "stream",
     "text": [
      "Test set f1 score (>0.6): 0.6122448979591836\n",
      "Test set jaccard score (>0.4): 0.4411764705882353\n"
     ]
    }
   ],
   "source": [
    "# Tính f1 score và Jaccard score\n",
    "f1_scores['train']['NN'] = f1_score(y_train, NN_model.predict(X_train))\n",
    "f1_scores['test']['NN'] = f1_score(y_test, NN_model.predict(X_test))\n",
    "jaccard_scores['train']['NN'] = jaccard_score(y_train, NN_model.predict(X_train))\n",
    "jaccard_scores['test']['NN'] = jaccard_score(y_test, NN_model.predict(X_test))\n",
    "\n",
    "# F1 score trên dữ liệu kiểm tra phải cao hơn 0.6, Jaccard score phải cao hơn 0.4\n",
    "print('Test set f1 score (>0.6):', f1_scores['test']['NN'])\n",
    "print('Test set jaccard score (>0.4):', jaccard_scores['test']['NN'])"
   ]
  },
  {
   "cell_type": "markdown",
   "metadata": {
    "id": "8-eteyNxM1lo"
   },
   "source": [
    "## Task 14: [Soft Voting Ensemble](https://scikit-learn.org/stable/modules/generated/sklearn.ensemble.VotingClassifier.html?highlight=soft+voting+ensemble)\n",
    "\n",
    "Điều chỉnh trọng số trong Soft Voting Ensemble để đưa ra kết quả dự đoán tốt nhất.\n",
    "\n",
    "Đưa ra dự đoán từ dữ liệu huấn luyện và kiếm tra trên mô hình soft voting ensembling model. \n",
    "\n",
    "Tính f1 score và Jaccard score rồi lưu vào f1_scores dict và jaccard_scores dict.\n",
    "\n",
    "Yêu cầu:\n",
    "\n",
    "- Sử dụng 5 mô hình trên\n",
    "\n",
    "- Sử dụng cùng một thiết lập cho 5 mô hình như các bước trên.\n",
    "\n",
    "- F1 score trên dữ liệu kiểm tra phải lớn hơn **0.66**, Jaccard score phải lớn hơn **0.5**."
   ]
  },
  {
   "cell_type": "code",
   "execution_count": 36,
   "metadata": {
    "id": "G7FfposgM1lp"
   },
   "outputs": [],
   "source": [
    "from sklearn.ensemble import VotingClassifier"
   ]
  },
  {
   "cell_type": "code",
   "execution_count": 37,
   "metadata": {
    "id": "J-EjCxe6M1ls"
   },
   "outputs": [
    {
     "data": {
      "text/plain": [
       "VotingClassifier(estimators=[('KNN', KNeighborsClassifier(n_neighbors=17, p=3)),\n",
       "                             ('DT',\n",
       "                              DecisionTreeClassifier(criterion='entropy',\n",
       "                                                     max_depth=9,\n",
       "                                                     max_features='log2',\n",
       "                                                     min_samples_leaf=10)),\n",
       "                             ('SVM', SVC(C=10, gamma=0.001, probability=True)),\n",
       "                             ('LR',\n",
       "                              LogisticRegression(C=100, solver='newton-cg',\n",
       "                                                 tol=0.001)),\n",
       "                             ('NN', MLPClassifier(learning_rate='invscaling'))],\n",
       "                 voting='soft')"
      ]
     },
     "execution_count": 37,
     "metadata": {},
     "output_type": "execute_result"
    }
   ],
   "source": [
    "# Tạo list các model của ta hiện có\n",
    "estimators1 = [('KNN',knn_model),\n",
    "              ('DT', DT_model),\n",
    "              ('SVM',svm_model),\n",
    "               ('LR',LGr_model),\n",
    "             ('NN', NN_model)]\n",
    "# Tạo ensoft_model\n",
    "ensoft_model = VotingClassifier(estimators = estimators1,\n",
    "                               voting = 'soft')\n",
    "ensoft_model.fit(X_train, y_train)"
   ]
  },
  {
   "cell_type": "code",
   "execution_count": 38,
   "metadata": {},
   "outputs": [
    {
     "name": "stdout",
     "output_type": "stream",
     "text": [
      "Train set accuracy:  0.8078175895765473\n",
      "Test set accuracy:  0.7792207792207793\n"
     ]
    }
   ],
   "source": [
    "# Đưa ra dự đoán từ train set và test set trên mô hình\n",
    "print('Train set accuracy: ', accuracy_score(y_train, ensoft_model.predict(X_train)))\n",
    "print('Test set accuracy: ', accuracy_score(y_test,  ensoft_model.predict(X_test)))"
   ]
  },
  {
   "cell_type": "code",
   "execution_count": 39,
   "metadata": {},
   "outputs": [
    {
     "name": "stdout",
     "output_type": "stream",
     "text": [
      "Test set f1 score (>0.66): 0.8380952380952381\n",
      "Test set jaccard score (> 0.5): 0.7213114754098361\n"
     ]
    }
   ],
   "source": [
    "# Tính f1 score và Jaccard score\n",
    "f1_scores['train']['EN_SOFT'] = f1_score(y_train, ensoft_model.predict(X_train))\n",
    "f1_scores['test']['EN_SOFT'] = f1_score(y_test, ensoft_model.predict(X_test), pos_label=0)\n",
    "jaccard_scores['train']['EN_SOFT'] = jaccard_score(y_train, ensoft_model.predict(X_train))\n",
    "jaccard_scores['test']['EN_SOFT'] = jaccard_score(y_test, ensoft_model.predict(X_test), pos_label=0)\n",
    "\n",
    "# F1 score trên dữ liệu kiểm tra phải lớn hơn 0.66, Jaccard score phải lớn hơn 0.5.\n",
    "print('Test set f1 score (>0.66):', f1_scores['test']['EN_SOFT'])\n",
    "print('Test set jaccard score (> 0.5):', jaccard_scores['test']['EN_SOFT'])"
   ]
  },
  {
   "cell_type": "markdown",
   "metadata": {
    "id": "d9vVirtTM1lw"
   },
   "source": [
    "## Task 15: [Hard Voting Ensemble](https://scikit-learn.org/stable/modules/generated/sklearn.ensemble.VotingClassifier.html?highlight=soft+voting+ensemble)\n",
    "\n",
    "Điều chỉnh trọng số trong Hard Voting Ensemble để đưa ra kết quả dự đoán tốt nhất.\n",
    "\n",
    "Đưa ra dự đoán từ dữ liệu huấn luyện và kiếm tra trên mô hình hard voting ensembling model. \n",
    "\n",
    "Tính f1 score và Jaccard score rồi lưu vào f1_scores dict và jaccard_scores dict.\n",
    "\n",
    "Yêu cầu:\n",
    "\n",
    "- Sử dụng 5 mô hình trên\n",
    "\n",
    "- Sử dụng cùng một thiết lập cho 5 mô hình như các bước trên.\n",
    "\n",
    "- F1 score trên dữ liệu kiểm tra phải lớn hơn **0.57**, Jaccard similarity score phải lớn hơn **0.45**."
   ]
  },
  {
   "cell_type": "code",
   "execution_count": 40,
   "metadata": {
    "id": "0n-qRxd5M1lx"
   },
   "outputs": [
    {
     "data": {
      "text/plain": [
       "VotingClassifier(estimators=[('KNN', KNeighborsClassifier(n_neighbors=17, p=3)),\n",
       "                             ('DT',\n",
       "                              DecisionTreeClassifier(criterion='entropy',\n",
       "                                                     max_depth=9,\n",
       "                                                     max_features='log2',\n",
       "                                                     min_samples_leaf=10)),\n",
       "                             ('SVM', SVC(C=10, gamma=0.001, probability=True)),\n",
       "                             ('LR',\n",
       "                              LogisticRegression(C=100, solver='newton-cg',\n",
       "                                                 tol=0.001)),\n",
       "                             ('NN', MLPClassifier(learning_rate='invscaling'))])"
      ]
     },
     "execution_count": 40,
     "metadata": {},
     "output_type": "execute_result"
    }
   ],
   "source": [
    "# Tạo list các model của ta hiện có\n",
    "estimators2 = [('KNN',knn_model),\n",
    "              ('DT', DT_model),\n",
    "              ('SVM',svm_model),\n",
    "               ('LR',LGr_model),\n",
    "             ('NN', NN_model)]\n",
    "\n",
    "# Tạo enhard_model\n",
    "enhard_model = VotingClassifier(estimators = estimators2,\n",
    "                               voting = 'hard')\n",
    "enhard_model.fit(X_train, y_train)"
   ]
  },
  {
   "cell_type": "code",
   "execution_count": 41,
   "metadata": {},
   "outputs": [
    {
     "name": "stdout",
     "output_type": "stream",
     "text": [
      "Train set accuracy:  0.7931596091205212\n",
      "Test set accuracy:  0.7727272727272727\n"
     ]
    }
   ],
   "source": [
    "# Đưa ra dự đoán từ train set và test set trên mô hình\n",
    "print('Train set accuracy: ', accuracy_score(y_train, enhard_model.predict(X_train)))\n",
    "print('Test set accuracy: ', accuracy_score(y_test, enhard_model.predict(X_test)))"
   ]
  },
  {
   "cell_type": "code",
   "execution_count": 42,
   "metadata": {},
   "outputs": [
    {
     "name": "stdout",
     "output_type": "stream",
     "text": [
      "Test set f1 score (>0.57): 0.6391752577319588\n",
      "Test set jaccard score (>0.45): 0.4696969696969697\n"
     ]
    }
   ],
   "source": [
    "# Tính f1 score và Jaccard score\n",
    "f1_scores['train']['EN_HARD'] = f1_score(y_train, enhard_model.predict(X_train))\n",
    "f1_scores['test']['EN_HARD'] = f1_score(y_test, enhard_model.predict(X_test))\n",
    "jaccard_scores['train']['EN_HARD'] = jaccard_score(y_train, enhard_model.predict(X_train))\n",
    "jaccard_scores['test']['EN_HARD'] = jaccard_score(y_test, enhard_model.predict(X_test))\n",
    "\n",
    "# F1 score trên dữ liệu kiểm tra phải lớn hơn 0.57, Jaccard score phải lớn hơn 0.45.\n",
    "print('Test set f1 score (>0.57):', f1_scores['test']['EN_HARD'])\n",
    "print('Test set jaccard score (>0.45):', jaccard_scores['test']['EN_HARD'])"
   ]
  },
  {
   "cell_type": "markdown",
   "metadata": {
    "id": "RmteU8YeM1l3"
   },
   "source": [
    "# Báo cáo\n",
    "Bạn có thể tường thuật độ chính xác của mô hình đã xây bằng cách sử dụng các phép đo đánh giá khác nhau:"
   ]
  },
  {
   "cell_type": "markdown",
   "metadata": {
    "id": "c3q0IThKM1l3"
   },
   "source": [
    "| Algorithm | Jaccard-training | Jaccard-testing |F1-score-training  | F1-score-testing |\n",
    "|-----------|------------------|-------------------|----------------|------------------|\n",
    "| KNN | ? | ? |  ? |  ? |\n",
    "| Decision Tree | ? | ? |  ? |  ? |\n",
    "| SVM | ? | ? |  ? |  ? |\n",
    "| Logistic Regression| ? | ? |  ? |  ? |   \n",
    "| Neural Network| ? | ? |  ? |  ? |\n",
    "| Hard Voting | ? | ? |  ? |  ? |\n",
    "| Soft Voting | ? | ? |  ? |  ? |\n"
   ]
  },
  {
   "cell_type": "markdown",
   "metadata": {
    "id": "PpqjW-eOM1l3"
   },
   "source": [
    "## Task 16: Tạo data frame mô tả kết quả chính xác như trên."
   ]
  },
  {
   "cell_type": "code",
   "execution_count": 43,
   "metadata": {},
   "outputs": [],
   "source": [
    "# Tạo dataframe jac_df tu dictionary\n",
    "jac_df = pd.DataFrame(jaccard_scores)\n",
    "jac_df.columns= ['Jaccard-training', 'Jaccard-testing']\n",
    "\n",
    "# Tạo dataframe f1_df tu dictionary\n",
    "f1_df = pd.DataFrame(f1_scores)\n",
    "f1_df.columns= ['F1-score-training', 'F1-score-testing']"
   ]
  },
  {
   "cell_type": "code",
   "execution_count": 44,
   "metadata": {},
   "outputs": [],
   "source": [
    "# concat 2 dictionary nay\n",
    "report_df = pd.concat([f1_df, jac_df], axis=1)\n",
    "report_df['Algorithm'] = ['KNN','Decision Tree','SVM','Logistic Regression','Neural Network', 'Hard Voting','Soft Voting']"
   ]
  },
  {
   "cell_type": "code",
   "execution_count": 45,
   "metadata": {
    "scrolled": true
   },
   "outputs": [
    {
     "data": {
      "text/html": [
       "<div>\n",
       "<style scoped>\n",
       "    .dataframe tbody tr th:only-of-type {\n",
       "        vertical-align: middle;\n",
       "    }\n",
       "\n",
       "    .dataframe tbody tr th {\n",
       "        vertical-align: top;\n",
       "    }\n",
       "\n",
       "    .dataframe thead th {\n",
       "        text-align: right;\n",
       "    }\n",
       "</style>\n",
       "<table border=\"1\" class=\"dataframe\">\n",
       "  <thead>\n",
       "    <tr style=\"text-align: right;\">\n",
       "      <th></th>\n",
       "      <th>F1-score-training</th>\n",
       "      <th>F1-score-testing</th>\n",
       "      <th>Jaccard-training</th>\n",
       "      <th>Jaccard-testing</th>\n",
       "    </tr>\n",
       "    <tr>\n",
       "      <th>Algorithm</th>\n",
       "      <th></th>\n",
       "      <th></th>\n",
       "      <th></th>\n",
       "      <th></th>\n",
       "    </tr>\n",
       "  </thead>\n",
       "  <tbody>\n",
       "    <tr>\n",
       "      <th>KNN</th>\n",
       "      <td>0.670000</td>\n",
       "      <td>0.842105</td>\n",
       "      <td>0.503759</td>\n",
       "      <td>0.727273</td>\n",
       "    </tr>\n",
       "    <tr>\n",
       "      <th>Decision Tree</th>\n",
       "      <td>0.736573</td>\n",
       "      <td>0.801887</td>\n",
       "      <td>0.582996</td>\n",
       "      <td>0.669291</td>\n",
       "    </tr>\n",
       "    <tr>\n",
       "      <th>SVM</th>\n",
       "      <td>0.597765</td>\n",
       "      <td>0.638298</td>\n",
       "      <td>0.426295</td>\n",
       "      <td>0.468750</td>\n",
       "    </tr>\n",
       "    <tr>\n",
       "      <th>Logistic Regression</th>\n",
       "      <td>0.619048</td>\n",
       "      <td>0.666667</td>\n",
       "      <td>0.448276</td>\n",
       "      <td>0.500000</td>\n",
       "    </tr>\n",
       "    <tr>\n",
       "      <th>Neural Network</th>\n",
       "      <td>0.715328</td>\n",
       "      <td>0.612245</td>\n",
       "      <td>0.556818</td>\n",
       "      <td>0.441176</td>\n",
       "    </tr>\n",
       "    <tr>\n",
       "      <th>Hard Voting</th>\n",
       "      <td>0.664908</td>\n",
       "      <td>0.639175</td>\n",
       "      <td>0.498024</td>\n",
       "      <td>0.469697</td>\n",
       "    </tr>\n",
       "    <tr>\n",
       "      <th>Soft Voting</th>\n",
       "      <td>0.694301</td>\n",
       "      <td>0.838095</td>\n",
       "      <td>0.531746</td>\n",
       "      <td>0.721311</td>\n",
       "    </tr>\n",
       "  </tbody>\n",
       "</table>\n",
       "</div>"
      ],
      "text/plain": [
       "                     F1-score-training  F1-score-testing  Jaccard-training  \\\n",
       "Algorithm                                                                    \n",
       "KNN                           0.670000          0.842105          0.503759   \n",
       "Decision Tree                 0.736573          0.801887          0.582996   \n",
       "SVM                           0.597765          0.638298          0.426295   \n",
       "Logistic Regression           0.619048          0.666667          0.448276   \n",
       "Neural Network                0.715328          0.612245          0.556818   \n",
       "Hard Voting                   0.664908          0.639175          0.498024   \n",
       "Soft Voting                   0.694301          0.838095          0.531746   \n",
       "\n",
       "                     Jaccard-testing  \n",
       "Algorithm                             \n",
       "KNN                         0.727273  \n",
       "Decision Tree               0.669291  \n",
       "SVM                         0.468750  \n",
       "Logistic Regression         0.500000  \n",
       "Neural Network              0.441176  \n",
       "Hard Voting                 0.469697  \n",
       "Soft Voting                 0.721311  "
      ]
     },
     "execution_count": 45,
     "metadata": {},
     "output_type": "execute_result"
    }
   ],
   "source": [
    "report_df.reset_index(drop = True, inplace = True)\n",
    "report_df.reindex(columns = ['Algorithm','Jaccard-training', 'F1-score-training', 'Jaccard-testing', 'F1-score-testing'])\n",
    "report_df.set_index('Algorithm')"
   ]
  },
  {
   "cell_type": "markdown",
   "metadata": {
    "id": "TYifTRP7M1l5"
   },
   "source": [
    "**Câu hỏi: Có phải các phương pháp ensemble luôn tốt hơn một mô hình đơn lẻ không? Nếu không, hãy giải thích tại sao?**"
   ]
  },
  {
   "cell_type": "markdown",
   "metadata": {},
   "source": [
    "<font color='blue'>\n",
    "\n",
    "Ta thấy được không phải lúc nào thì ensemble methods cũng trả về dự đoán tốt hơn so với single model. Nguyên nhân là có nhiều phương pháp ensemble khác nhau, mỗi cái có một ưu điểm và nhược điểm riêng. \n",
    "\n",
    "Ví dụ: nếu ta có các mô hình có phương sai cao (chúng quá khớp với dữ liệu của bạn), thì bạn có khả năng được lợi khi sử dụng bagging. Nếu mô hình bias cao thì nên kết hợp chúng với Boosting. Nếu bạn sử dụng sai phương pháp kết hợp cho cài đặt của mình, bạn sẽ không làm tốt hơn. Ví dụ, sử dụng Bagging với một biased model sẽ không hữu ích"
   ]
  }
 ],
 "metadata": {
  "colab": {
   "collapsed_sections": [],
   "name": "Asm_2.ipynb",
   "provenance": []
  },
  "kernelspec": {
   "display_name": "Python 3 (ipykernel)",
   "language": "python",
   "name": "python3"
  },
  "language_info": {
   "codemirror_mode": {
    "name": "ipython",
    "version": 3
   },
   "file_extension": ".py",
   "mimetype": "text/x-python",
   "name": "python",
   "nbconvert_exporter": "python",
   "pygments_lexer": "ipython3",
   "version": "3.9.0"
  }
 },
 "nbformat": 4,
 "nbformat_minor": 1
}
