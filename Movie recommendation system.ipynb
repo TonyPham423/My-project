{
 "cells": [
  {
   "cell_type": "markdown",
   "metadata": {
    "_uuid": "d7aa1b0ad6979877450f9cd89e1e37289b51cf6e",
    "id": "R3jbcteqxNsn"
   },
  {
   "cell_type": "markdown",
   "metadata": {
    "id": "UxlB9KePJk5Y"
   },
   "source": [
    "# Pipeline \n",
    "\n",
    "1. Đọc dữ liệu.\n",
    "\n",
    "2. Xây dựng Hệ Thống Đề Xuất bằng phương pháp Demographic Filtering.\n",
    "\n",
    "3. Xây dựng Hệ Thống Đề Xuất bằng phương pháp Content Based Filtering.\n",
    "\n",
    "  - Xây dựng bằng tổng quan của phim.\n",
    "\n",
    "  - Xây dựng bằng thông tin của phim bao gồm: đạo diễn, diễn viên chính, keywords, thể loại phim.\n",
    "\n",
    "4. Xây dựng Hệ Thống Đề Xuất bằng phương pháp Collaborative Filtering bằng SVD."
   ]
  },
  {
   "cell_type": "markdown",
   "metadata": {
    "_uuid": "402a28d17c13bba3f2060d72c2ff75f5377a9f01",
    "id": "UTN6kMd7xNsu"
   },
   "source": [
    "# Tập dữ liệu\n",
    "\n",
    "**credits** bao gồm các đặc trưng sau:\n",
    "\n",
    "* **movie_id**: id của phim\n",
    "* **cast**: tên của các diễn viên chính và phụ.\n",
    "* **crew**: tên của các nhân viên trong quá trình sản xuất phim (đạo diễn, editor, người soạn nhạc, v.v.)\n",
    "\n",
    "**movies** bao gồm các đặc trưng sau:\n",
    "\n",
    "* **budget**: kinh phí thực hiện bộ phim.\n",
    "* **genre**: các thể loại của phim.\n",
    "* **homepage**: liên kết đến trang chủ của bộ phim.\n",
    "* **id**: thông tin về movie_id như trong tập dữ liệu tmdb_5000_credits.\n",
    "* **keywords**: các từ khóa hoặc thẻ liên quan đến bộ phim.\n",
    "* **original_language**: ngôn ngữ trong bộ phim sử dụng.\n",
    "* **original_title**: tên phim trước khi dịch hoặc chuyển thể.\n",
    "* **overview**: mô tả ngắn gọn về bộ phim.\n",
    "* **popularity**: số lượng chỉ định mức độ phổ biến của bộ phim.\n",
    "* **production_companies**: nhà sản xuất của bộ phim.\n",
    "* **production_countries**: quốc gia sản xuất của bộ phim.\n",
    "* **release_date**: ngày mà nó được phát hành.\n",
    "* **revenue**: doanh thu trên toàn thế giới do bộ phim tạo ra.\n",
    "* **runtime**: thời gian  của phim tính bằng phút.\n",
    "* **status**: Đã phát hành hoặc còn là tin đồn.\n",
    "* **tagline**: khẩu hiệu của phim.\n",
    "* **title**: tên phim.\n",
    "* **vote_average**: đánh giá trung bình mà bộ phim nhận được.\n",
    "* **vote_count**: số lượng đánh giá."
   ]
  },
  {
   "cell_type": "markdown",
   "metadata": {
    "id": "3hh-5o3_7DK9"
   },
   "source": [
    "# Chuẩn bị dữ liệu"
   ]
  },
  {
   "cell_type": "code",
   "execution_count": 1,
   "metadata": {
    "id": "s69e85MTCNF_"
   },
   "outputs": [],
   "source": [
    "import pandas as pd \n",
    "import numpy as np \n",
    "import matplotlib.pyplot as plt\n",
    "\n",
    "import warnings\n",
    "warnings.filterwarnings('ignore')"
   ]
  },
  {
   "cell_type": "markdown",
   "metadata": {
    "_uuid": "6b418588e3f9139f74cb3a9546f5dca49729579b",
    "id": "LWRxhrAixNst"
   },
   "source": [
    "## Task 1: Đọc dữ liệu creadits và movies và kết hợp 2 dữ liệu thành một dataframe. "
   ]
  },
  {
   "cell_type": "code",
   "execution_count": 2,
   "metadata": {
    "_uuid": "c1fdd129c1cbab68ae3e6bf2062575f01f80b87c",
    "id": "b0NUX41ExNst"
   },
   "outputs": [],
   "source": [
    "df1 = pd.read_csv('credits.csv')\n",
    "df2 = pd.read_csv('movies.csv')"
   ]
  },
  {
   "cell_type": "code",
   "execution_count": 3,
   "metadata": {
    "scrolled": true
   },
   "outputs": [
    {
     "data": {
      "text/html": [
       "<div>\n",
       "<style scoped>\n",
       "    .dataframe tbody tr th:only-of-type {\n",
       "        vertical-align: middle;\n",
       "    }\n",
       "\n",
       "    .dataframe tbody tr th {\n",
       "        vertical-align: top;\n",
       "    }\n",
       "\n",
       "    .dataframe thead th {\n",
       "        text-align: right;\n",
       "    }\n",
       "</style>\n",
       "<table border=\"1\" class=\"dataframe\">\n",
       "  <thead>\n",
       "    <tr style=\"text-align: right;\">\n",
       "      <th></th>\n",
       "      <th>movie_id</th>\n",
       "      <th>title</th>\n",
       "      <th>cast</th>\n",
       "      <th>crew</th>\n",
       "    </tr>\n",
       "  </thead>\n",
       "  <tbody>\n",
       "    <tr>\n",
       "      <th>0</th>\n",
       "      <td>19995</td>\n",
       "      <td>Avatar</td>\n",
       "      <td>[{\"cast_id\": 242, \"character\": \"Jake Sully\", \"...</td>\n",
       "      <td>[{\"credit_id\": \"52fe48009251416c750aca23\", \"de...</td>\n",
       "    </tr>\n",
       "    <tr>\n",
       "      <th>1</th>\n",
       "      <td>285</td>\n",
       "      <td>Pirates of the Caribbean: At World's End</td>\n",
       "      <td>[{\"cast_id\": 4, \"character\": \"Captain Jack Spa...</td>\n",
       "      <td>[{\"credit_id\": \"52fe4232c3a36847f800b579\", \"de...</td>\n",
       "    </tr>\n",
       "    <tr>\n",
       "      <th>2</th>\n",
       "      <td>206647</td>\n",
       "      <td>Spectre</td>\n",
       "      <td>[{\"cast_id\": 1, \"character\": \"James Bond\", \"cr...</td>\n",
       "      <td>[{\"credit_id\": \"54805967c3a36829b5002c41\", \"de...</td>\n",
       "    </tr>\n",
       "    <tr>\n",
       "      <th>3</th>\n",
       "      <td>49026</td>\n",
       "      <td>The Dark Knight Rises</td>\n",
       "      <td>[{\"cast_id\": 2, \"character\": \"Bruce Wayne / Ba...</td>\n",
       "      <td>[{\"credit_id\": \"52fe4781c3a36847f81398c3\", \"de...</td>\n",
       "    </tr>\n",
       "    <tr>\n",
       "      <th>4</th>\n",
       "      <td>49529</td>\n",
       "      <td>John Carter</td>\n",
       "      <td>[{\"cast_id\": 5, \"character\": \"John Carter\", \"c...</td>\n",
       "      <td>[{\"credit_id\": \"52fe479ac3a36847f813eaa3\", \"de...</td>\n",
       "    </tr>\n",
       "  </tbody>\n",
       "</table>\n",
       "</div>"
      ],
      "text/plain": [
       "   movie_id                                     title  \\\n",
       "0     19995                                    Avatar   \n",
       "1       285  Pirates of the Caribbean: At World's End   \n",
       "2    206647                                   Spectre   \n",
       "3     49026                     The Dark Knight Rises   \n",
       "4     49529                               John Carter   \n",
       "\n",
       "                                                cast  \\\n",
       "0  [{\"cast_id\": 242, \"character\": \"Jake Sully\", \"...   \n",
       "1  [{\"cast_id\": 4, \"character\": \"Captain Jack Spa...   \n",
       "2  [{\"cast_id\": 1, \"character\": \"James Bond\", \"cr...   \n",
       "3  [{\"cast_id\": 2, \"character\": \"Bruce Wayne / Ba...   \n",
       "4  [{\"cast_id\": 5, \"character\": \"John Carter\", \"c...   \n",
       "\n",
       "                                                crew  \n",
       "0  [{\"credit_id\": \"52fe48009251416c750aca23\", \"de...  \n",
       "1  [{\"credit_id\": \"52fe4232c3a36847f800b579\", \"de...  \n",
       "2  [{\"credit_id\": \"54805967c3a36829b5002c41\", \"de...  \n",
       "3  [{\"credit_id\": \"52fe4781c3a36847f81398c3\", \"de...  \n",
       "4  [{\"credit_id\": \"52fe479ac3a36847f813eaa3\", \"de...  "
      ]
     },
     "execution_count": 3,
     "metadata": {},
     "output_type": "execute_result"
    }
   ],
   "source": [
    "df1.head()"
   ]
  },
  {
   "cell_type": "code",
   "execution_count": 4,
   "metadata": {
    "scrolled": false
   },
   "outputs": [
    {
     "data": {
      "text/html": [
       "<div>\n",
       "<style scoped>\n",
       "    .dataframe tbody tr th:only-of-type {\n",
       "        vertical-align: middle;\n",
       "    }\n",
       "\n",
       "    .dataframe tbody tr th {\n",
       "        vertical-align: top;\n",
       "    }\n",
       "\n",
       "    .dataframe thead th {\n",
       "        text-align: right;\n",
       "    }\n",
       "</style>\n",
       "<table border=\"1\" class=\"dataframe\">\n",
       "  <thead>\n",
       "    <tr style=\"text-align: right;\">\n",
       "      <th></th>\n",
       "      <th>budget</th>\n",
       "      <th>genres</th>\n",
       "      <th>homepage</th>\n",
       "      <th>id</th>\n",
       "      <th>keywords</th>\n",
       "      <th>original_language</th>\n",
       "      <th>original_title</th>\n",
       "      <th>overview</th>\n",
       "      <th>popularity</th>\n",
       "      <th>production_companies</th>\n",
       "      <th>production_countries</th>\n",
       "      <th>release_date</th>\n",
       "      <th>revenue</th>\n",
       "      <th>runtime</th>\n",
       "      <th>spoken_languages</th>\n",
       "      <th>status</th>\n",
       "      <th>tagline</th>\n",
       "      <th>title</th>\n",
       "      <th>vote_average</th>\n",
       "      <th>vote_count</th>\n",
       "    </tr>\n",
       "  </thead>\n",
       "  <tbody>\n",
       "    <tr>\n",
       "      <th>0</th>\n",
       "      <td>237000000</td>\n",
       "      <td>[{\"id\": 28, \"name\": \"Action\"}, {\"id\": 12, \"nam...</td>\n",
       "      <td>http://www.avatarmovie.com/</td>\n",
       "      <td>19995</td>\n",
       "      <td>[{\"id\": 1463, \"name\": \"culture clash\"}, {\"id\":...</td>\n",
       "      <td>en</td>\n",
       "      <td>Avatar</td>\n",
       "      <td>In the 22nd century, a paraplegic Marine is di...</td>\n",
       "      <td>150.437577</td>\n",
       "      <td>[{\"name\": \"Ingenious Film Partners\", \"id\": 289...</td>\n",
       "      <td>[{\"iso_3166_1\": \"US\", \"name\": \"United States o...</td>\n",
       "      <td>2009-12-10</td>\n",
       "      <td>2787965087</td>\n",
       "      <td>162.0</td>\n",
       "      <td>[{\"iso_639_1\": \"en\", \"name\": \"English\"}, {\"iso...</td>\n",
       "      <td>Released</td>\n",
       "      <td>Enter the World of Pandora.</td>\n",
       "      <td>Avatar</td>\n",
       "      <td>7.2</td>\n",
       "      <td>11800</td>\n",
       "    </tr>\n",
       "    <tr>\n",
       "      <th>1</th>\n",
       "      <td>300000000</td>\n",
       "      <td>[{\"id\": 12, \"name\": \"Adventure\"}, {\"id\": 14, \"...</td>\n",
       "      <td>http://disney.go.com/disneypictures/pirates/</td>\n",
       "      <td>285</td>\n",
       "      <td>[{\"id\": 270, \"name\": \"ocean\"}, {\"id\": 726, \"na...</td>\n",
       "      <td>en</td>\n",
       "      <td>Pirates of the Caribbean: At World's End</td>\n",
       "      <td>Captain Barbossa, long believed to be dead, ha...</td>\n",
       "      <td>139.082615</td>\n",
       "      <td>[{\"name\": \"Walt Disney Pictures\", \"id\": 2}, {\"...</td>\n",
       "      <td>[{\"iso_3166_1\": \"US\", \"name\": \"United States o...</td>\n",
       "      <td>2007-05-19</td>\n",
       "      <td>961000000</td>\n",
       "      <td>169.0</td>\n",
       "      <td>[{\"iso_639_1\": \"en\", \"name\": \"English\"}]</td>\n",
       "      <td>Released</td>\n",
       "      <td>At the end of the world, the adventure begins.</td>\n",
       "      <td>Pirates of the Caribbean: At World's End</td>\n",
       "      <td>6.9</td>\n",
       "      <td>4500</td>\n",
       "    </tr>\n",
       "    <tr>\n",
       "      <th>2</th>\n",
       "      <td>245000000</td>\n",
       "      <td>[{\"id\": 28, \"name\": \"Action\"}, {\"id\": 12, \"nam...</td>\n",
       "      <td>http://www.sonypictures.com/movies/spectre/</td>\n",
       "      <td>206647</td>\n",
       "      <td>[{\"id\": 470, \"name\": \"spy\"}, {\"id\": 818, \"name...</td>\n",
       "      <td>en</td>\n",
       "      <td>Spectre</td>\n",
       "      <td>A cryptic message from Bond’s past sends him o...</td>\n",
       "      <td>107.376788</td>\n",
       "      <td>[{\"name\": \"Columbia Pictures\", \"id\": 5}, {\"nam...</td>\n",
       "      <td>[{\"iso_3166_1\": \"GB\", \"name\": \"United Kingdom\"...</td>\n",
       "      <td>2015-10-26</td>\n",
       "      <td>880674609</td>\n",
       "      <td>148.0</td>\n",
       "      <td>[{\"iso_639_1\": \"fr\", \"name\": \"Fran\\u00e7ais\"},...</td>\n",
       "      <td>Released</td>\n",
       "      <td>A Plan No One Escapes</td>\n",
       "      <td>Spectre</td>\n",
       "      <td>6.3</td>\n",
       "      <td>4466</td>\n",
       "    </tr>\n",
       "    <tr>\n",
       "      <th>3</th>\n",
       "      <td>250000000</td>\n",
       "      <td>[{\"id\": 28, \"name\": \"Action\"}, {\"id\": 80, \"nam...</td>\n",
       "      <td>http://www.thedarkknightrises.com/</td>\n",
       "      <td>49026</td>\n",
       "      <td>[{\"id\": 849, \"name\": \"dc comics\"}, {\"id\": 853,...</td>\n",
       "      <td>en</td>\n",
       "      <td>The Dark Knight Rises</td>\n",
       "      <td>Following the death of District Attorney Harve...</td>\n",
       "      <td>112.312950</td>\n",
       "      <td>[{\"name\": \"Legendary Pictures\", \"id\": 923}, {\"...</td>\n",
       "      <td>[{\"iso_3166_1\": \"US\", \"name\": \"United States o...</td>\n",
       "      <td>2012-07-16</td>\n",
       "      <td>1084939099</td>\n",
       "      <td>165.0</td>\n",
       "      <td>[{\"iso_639_1\": \"en\", \"name\": \"English\"}]</td>\n",
       "      <td>Released</td>\n",
       "      <td>The Legend Ends</td>\n",
       "      <td>The Dark Knight Rises</td>\n",
       "      <td>7.6</td>\n",
       "      <td>9106</td>\n",
       "    </tr>\n",
       "    <tr>\n",
       "      <th>4</th>\n",
       "      <td>260000000</td>\n",
       "      <td>[{\"id\": 28, \"name\": \"Action\"}, {\"id\": 12, \"nam...</td>\n",
       "      <td>http://movies.disney.com/john-carter</td>\n",
       "      <td>49529</td>\n",
       "      <td>[{\"id\": 818, \"name\": \"based on novel\"}, {\"id\":...</td>\n",
       "      <td>en</td>\n",
       "      <td>John Carter</td>\n",
       "      <td>John Carter is a war-weary, former military ca...</td>\n",
       "      <td>43.926995</td>\n",
       "      <td>[{\"name\": \"Walt Disney Pictures\", \"id\": 2}]</td>\n",
       "      <td>[{\"iso_3166_1\": \"US\", \"name\": \"United States o...</td>\n",
       "      <td>2012-03-07</td>\n",
       "      <td>284139100</td>\n",
       "      <td>132.0</td>\n",
       "      <td>[{\"iso_639_1\": \"en\", \"name\": \"English\"}]</td>\n",
       "      <td>Released</td>\n",
       "      <td>Lost in our world, found in another.</td>\n",
       "      <td>John Carter</td>\n",
       "      <td>6.1</td>\n",
       "      <td>2124</td>\n",
       "    </tr>\n",
       "  </tbody>\n",
       "</table>\n",
       "</div>"
      ],
      "text/plain": [
       "      budget                                             genres  \\\n",
       "0  237000000  [{\"id\": 28, \"name\": \"Action\"}, {\"id\": 12, \"nam...   \n",
       "1  300000000  [{\"id\": 12, \"name\": \"Adventure\"}, {\"id\": 14, \"...   \n",
       "2  245000000  [{\"id\": 28, \"name\": \"Action\"}, {\"id\": 12, \"nam...   \n",
       "3  250000000  [{\"id\": 28, \"name\": \"Action\"}, {\"id\": 80, \"nam...   \n",
       "4  260000000  [{\"id\": 28, \"name\": \"Action\"}, {\"id\": 12, \"nam...   \n",
       "\n",
       "                                       homepage      id  \\\n",
       "0                   http://www.avatarmovie.com/   19995   \n",
       "1  http://disney.go.com/disneypictures/pirates/     285   \n",
       "2   http://www.sonypictures.com/movies/spectre/  206647   \n",
       "3            http://www.thedarkknightrises.com/   49026   \n",
       "4          http://movies.disney.com/john-carter   49529   \n",
       "\n",
       "                                            keywords original_language  \\\n",
       "0  [{\"id\": 1463, \"name\": \"culture clash\"}, {\"id\":...                en   \n",
       "1  [{\"id\": 270, \"name\": \"ocean\"}, {\"id\": 726, \"na...                en   \n",
       "2  [{\"id\": 470, \"name\": \"spy\"}, {\"id\": 818, \"name...                en   \n",
       "3  [{\"id\": 849, \"name\": \"dc comics\"}, {\"id\": 853,...                en   \n",
       "4  [{\"id\": 818, \"name\": \"based on novel\"}, {\"id\":...                en   \n",
       "\n",
       "                             original_title  \\\n",
       "0                                    Avatar   \n",
       "1  Pirates of the Caribbean: At World's End   \n",
       "2                                   Spectre   \n",
       "3                     The Dark Knight Rises   \n",
       "4                               John Carter   \n",
       "\n",
       "                                            overview  popularity  \\\n",
       "0  In the 22nd century, a paraplegic Marine is di...  150.437577   \n",
       "1  Captain Barbossa, long believed to be dead, ha...  139.082615   \n",
       "2  A cryptic message from Bond’s past sends him o...  107.376788   \n",
       "3  Following the death of District Attorney Harve...  112.312950   \n",
       "4  John Carter is a war-weary, former military ca...   43.926995   \n",
       "\n",
       "                                production_companies  \\\n",
       "0  [{\"name\": \"Ingenious Film Partners\", \"id\": 289...   \n",
       "1  [{\"name\": \"Walt Disney Pictures\", \"id\": 2}, {\"...   \n",
       "2  [{\"name\": \"Columbia Pictures\", \"id\": 5}, {\"nam...   \n",
       "3  [{\"name\": \"Legendary Pictures\", \"id\": 923}, {\"...   \n",
       "4        [{\"name\": \"Walt Disney Pictures\", \"id\": 2}]   \n",
       "\n",
       "                                production_countries release_date     revenue  \\\n",
       "0  [{\"iso_3166_1\": \"US\", \"name\": \"United States o...   2009-12-10  2787965087   \n",
       "1  [{\"iso_3166_1\": \"US\", \"name\": \"United States o...   2007-05-19   961000000   \n",
       "2  [{\"iso_3166_1\": \"GB\", \"name\": \"United Kingdom\"...   2015-10-26   880674609   \n",
       "3  [{\"iso_3166_1\": \"US\", \"name\": \"United States o...   2012-07-16  1084939099   \n",
       "4  [{\"iso_3166_1\": \"US\", \"name\": \"United States o...   2012-03-07   284139100   \n",
       "\n",
       "   runtime                                   spoken_languages    status  \\\n",
       "0    162.0  [{\"iso_639_1\": \"en\", \"name\": \"English\"}, {\"iso...  Released   \n",
       "1    169.0           [{\"iso_639_1\": \"en\", \"name\": \"English\"}]  Released   \n",
       "2    148.0  [{\"iso_639_1\": \"fr\", \"name\": \"Fran\\u00e7ais\"},...  Released   \n",
       "3    165.0           [{\"iso_639_1\": \"en\", \"name\": \"English\"}]  Released   \n",
       "4    132.0           [{\"iso_639_1\": \"en\", \"name\": \"English\"}]  Released   \n",
       "\n",
       "                                          tagline  \\\n",
       "0                     Enter the World of Pandora.   \n",
       "1  At the end of the world, the adventure begins.   \n",
       "2                           A Plan No One Escapes   \n",
       "3                                 The Legend Ends   \n",
       "4            Lost in our world, found in another.   \n",
       "\n",
       "                                      title  vote_average  vote_count  \n",
       "0                                    Avatar           7.2       11800  \n",
       "1  Pirates of the Caribbean: At World's End           6.9        4500  \n",
       "2                                   Spectre           6.3        4466  \n",
       "3                     The Dark Knight Rises           7.6        9106  \n",
       "4                               John Carter           6.1        2124  "
      ]
     },
     "execution_count": 4,
     "metadata": {},
     "output_type": "execute_result"
    }
   ],
   "source": [
    "df2.head()"
   ]
  },
  {
   "cell_type": "code",
   "execution_count": 5,
   "metadata": {},
   "outputs": [
    {
     "data": {
      "text/html": [
       "<div>\n",
       "<style scoped>\n",
       "    .dataframe tbody tr th:only-of-type {\n",
       "        vertical-align: middle;\n",
       "    }\n",
       "\n",
       "    .dataframe tbody tr th {\n",
       "        vertical-align: top;\n",
       "    }\n",
       "\n",
       "    .dataframe thead th {\n",
       "        text-align: right;\n",
       "    }\n",
       "</style>\n",
       "<table border=\"1\" class=\"dataframe\">\n",
       "  <thead>\n",
       "    <tr style=\"text-align: right;\">\n",
       "      <th></th>\n",
       "      <th>movie_id</th>\n",
       "      <th>title</th>\n",
       "      <th>cast</th>\n",
       "      <th>crew</th>\n",
       "      <th>budget</th>\n",
       "      <th>genres</th>\n",
       "      <th>homepage</th>\n",
       "      <th>id</th>\n",
       "      <th>keywords</th>\n",
       "      <th>original_language</th>\n",
       "      <th>...</th>\n",
       "      <th>production_companies</th>\n",
       "      <th>production_countries</th>\n",
       "      <th>release_date</th>\n",
       "      <th>revenue</th>\n",
       "      <th>runtime</th>\n",
       "      <th>spoken_languages</th>\n",
       "      <th>status</th>\n",
       "      <th>tagline</th>\n",
       "      <th>vote_average</th>\n",
       "      <th>vote_count</th>\n",
       "    </tr>\n",
       "  </thead>\n",
       "  <tbody>\n",
       "    <tr>\n",
       "      <th>0</th>\n",
       "      <td>19995</td>\n",
       "      <td>Avatar</td>\n",
       "      <td>[{\"cast_id\": 242, \"character\": \"Jake Sully\", \"...</td>\n",
       "      <td>[{\"credit_id\": \"52fe48009251416c750aca23\", \"de...</td>\n",
       "      <td>237000000</td>\n",
       "      <td>[{\"id\": 28, \"name\": \"Action\"}, {\"id\": 12, \"nam...</td>\n",
       "      <td>http://www.avatarmovie.com/</td>\n",
       "      <td>19995</td>\n",
       "      <td>[{\"id\": 1463, \"name\": \"culture clash\"}, {\"id\":...</td>\n",
       "      <td>en</td>\n",
       "      <td>...</td>\n",
       "      <td>[{\"name\": \"Ingenious Film Partners\", \"id\": 289...</td>\n",
       "      <td>[{\"iso_3166_1\": \"US\", \"name\": \"United States o...</td>\n",
       "      <td>2009-12-10</td>\n",
       "      <td>2787965087</td>\n",
       "      <td>162.0</td>\n",
       "      <td>[{\"iso_639_1\": \"en\", \"name\": \"English\"}, {\"iso...</td>\n",
       "      <td>Released</td>\n",
       "      <td>Enter the World of Pandora.</td>\n",
       "      <td>7.2</td>\n",
       "      <td>11800</td>\n",
       "    </tr>\n",
       "    <tr>\n",
       "      <th>1</th>\n",
       "      <td>285</td>\n",
       "      <td>Pirates of the Caribbean: At World's End</td>\n",
       "      <td>[{\"cast_id\": 4, \"character\": \"Captain Jack Spa...</td>\n",
       "      <td>[{\"credit_id\": \"52fe4232c3a36847f800b579\", \"de...</td>\n",
       "      <td>300000000</td>\n",
       "      <td>[{\"id\": 12, \"name\": \"Adventure\"}, {\"id\": 14, \"...</td>\n",
       "      <td>http://disney.go.com/disneypictures/pirates/</td>\n",
       "      <td>285</td>\n",
       "      <td>[{\"id\": 270, \"name\": \"ocean\"}, {\"id\": 726, \"na...</td>\n",
       "      <td>en</td>\n",
       "      <td>...</td>\n",
       "      <td>[{\"name\": \"Walt Disney Pictures\", \"id\": 2}, {\"...</td>\n",
       "      <td>[{\"iso_3166_1\": \"US\", \"name\": \"United States o...</td>\n",
       "      <td>2007-05-19</td>\n",
       "      <td>961000000</td>\n",
       "      <td>169.0</td>\n",
       "      <td>[{\"iso_639_1\": \"en\", \"name\": \"English\"}]</td>\n",
       "      <td>Released</td>\n",
       "      <td>At the end of the world, the adventure begins.</td>\n",
       "      <td>6.9</td>\n",
       "      <td>4500</td>\n",
       "    </tr>\n",
       "    <tr>\n",
       "      <th>2</th>\n",
       "      <td>206647</td>\n",
       "      <td>Spectre</td>\n",
       "      <td>[{\"cast_id\": 1, \"character\": \"James Bond\", \"cr...</td>\n",
       "      <td>[{\"credit_id\": \"54805967c3a36829b5002c41\", \"de...</td>\n",
       "      <td>245000000</td>\n",
       "      <td>[{\"id\": 28, \"name\": \"Action\"}, {\"id\": 12, \"nam...</td>\n",
       "      <td>http://www.sonypictures.com/movies/spectre/</td>\n",
       "      <td>206647</td>\n",
       "      <td>[{\"id\": 470, \"name\": \"spy\"}, {\"id\": 818, \"name...</td>\n",
       "      <td>en</td>\n",
       "      <td>...</td>\n",
       "      <td>[{\"name\": \"Columbia Pictures\", \"id\": 5}, {\"nam...</td>\n",
       "      <td>[{\"iso_3166_1\": \"GB\", \"name\": \"United Kingdom\"...</td>\n",
       "      <td>2015-10-26</td>\n",
       "      <td>880674609</td>\n",
       "      <td>148.0</td>\n",
       "      <td>[{\"iso_639_1\": \"fr\", \"name\": \"Fran\\u00e7ais\"},...</td>\n",
       "      <td>Released</td>\n",
       "      <td>A Plan No One Escapes</td>\n",
       "      <td>6.3</td>\n",
       "      <td>4466</td>\n",
       "    </tr>\n",
       "    <tr>\n",
       "      <th>3</th>\n",
       "      <td>49026</td>\n",
       "      <td>The Dark Knight Rises</td>\n",
       "      <td>[{\"cast_id\": 2, \"character\": \"Bruce Wayne / Ba...</td>\n",
       "      <td>[{\"credit_id\": \"52fe4781c3a36847f81398c3\", \"de...</td>\n",
       "      <td>250000000</td>\n",
       "      <td>[{\"id\": 28, \"name\": \"Action\"}, {\"id\": 80, \"nam...</td>\n",
       "      <td>http://www.thedarkknightrises.com/</td>\n",
       "      <td>49026</td>\n",
       "      <td>[{\"id\": 849, \"name\": \"dc comics\"}, {\"id\": 853,...</td>\n",
       "      <td>en</td>\n",
       "      <td>...</td>\n",
       "      <td>[{\"name\": \"Legendary Pictures\", \"id\": 923}, {\"...</td>\n",
       "      <td>[{\"iso_3166_1\": \"US\", \"name\": \"United States o...</td>\n",
       "      <td>2012-07-16</td>\n",
       "      <td>1084939099</td>\n",
       "      <td>165.0</td>\n",
       "      <td>[{\"iso_639_1\": \"en\", \"name\": \"English\"}]</td>\n",
       "      <td>Released</td>\n",
       "      <td>The Legend Ends</td>\n",
       "      <td>7.6</td>\n",
       "      <td>9106</td>\n",
       "    </tr>\n",
       "    <tr>\n",
       "      <th>4</th>\n",
       "      <td>49529</td>\n",
       "      <td>John Carter</td>\n",
       "      <td>[{\"cast_id\": 5, \"character\": \"John Carter\", \"c...</td>\n",
       "      <td>[{\"credit_id\": \"52fe479ac3a36847f813eaa3\", \"de...</td>\n",
       "      <td>260000000</td>\n",
       "      <td>[{\"id\": 28, \"name\": \"Action\"}, {\"id\": 12, \"nam...</td>\n",
       "      <td>http://movies.disney.com/john-carter</td>\n",
       "      <td>49529</td>\n",
       "      <td>[{\"id\": 818, \"name\": \"based on novel\"}, {\"id\":...</td>\n",
       "      <td>en</td>\n",
       "      <td>...</td>\n",
       "      <td>[{\"name\": \"Walt Disney Pictures\", \"id\": 2}]</td>\n",
       "      <td>[{\"iso_3166_1\": \"US\", \"name\": \"United States o...</td>\n",
       "      <td>2012-03-07</td>\n",
       "      <td>284139100</td>\n",
       "      <td>132.0</td>\n",
       "      <td>[{\"iso_639_1\": \"en\", \"name\": \"English\"}]</td>\n",
       "      <td>Released</td>\n",
       "      <td>Lost in our world, found in another.</td>\n",
       "      <td>6.1</td>\n",
       "      <td>2124</td>\n",
       "    </tr>\n",
       "  </tbody>\n",
       "</table>\n",
       "<p>5 rows × 23 columns</p>\n",
       "</div>"
      ],
      "text/plain": [
       "   movie_id                                     title  \\\n",
       "0     19995                                    Avatar   \n",
       "1       285  Pirates of the Caribbean: At World's End   \n",
       "2    206647                                   Spectre   \n",
       "3     49026                     The Dark Knight Rises   \n",
       "4     49529                               John Carter   \n",
       "\n",
       "                                                cast  \\\n",
       "0  [{\"cast_id\": 242, \"character\": \"Jake Sully\", \"...   \n",
       "1  [{\"cast_id\": 4, \"character\": \"Captain Jack Spa...   \n",
       "2  [{\"cast_id\": 1, \"character\": \"James Bond\", \"cr...   \n",
       "3  [{\"cast_id\": 2, \"character\": \"Bruce Wayne / Ba...   \n",
       "4  [{\"cast_id\": 5, \"character\": \"John Carter\", \"c...   \n",
       "\n",
       "                                                crew     budget  \\\n",
       "0  [{\"credit_id\": \"52fe48009251416c750aca23\", \"de...  237000000   \n",
       "1  [{\"credit_id\": \"52fe4232c3a36847f800b579\", \"de...  300000000   \n",
       "2  [{\"credit_id\": \"54805967c3a36829b5002c41\", \"de...  245000000   \n",
       "3  [{\"credit_id\": \"52fe4781c3a36847f81398c3\", \"de...  250000000   \n",
       "4  [{\"credit_id\": \"52fe479ac3a36847f813eaa3\", \"de...  260000000   \n",
       "\n",
       "                                              genres  \\\n",
       "0  [{\"id\": 28, \"name\": \"Action\"}, {\"id\": 12, \"nam...   \n",
       "1  [{\"id\": 12, \"name\": \"Adventure\"}, {\"id\": 14, \"...   \n",
       "2  [{\"id\": 28, \"name\": \"Action\"}, {\"id\": 12, \"nam...   \n",
       "3  [{\"id\": 28, \"name\": \"Action\"}, {\"id\": 80, \"nam...   \n",
       "4  [{\"id\": 28, \"name\": \"Action\"}, {\"id\": 12, \"nam...   \n",
       "\n",
       "                                       homepage      id  \\\n",
       "0                   http://www.avatarmovie.com/   19995   \n",
       "1  http://disney.go.com/disneypictures/pirates/     285   \n",
       "2   http://www.sonypictures.com/movies/spectre/  206647   \n",
       "3            http://www.thedarkknightrises.com/   49026   \n",
       "4          http://movies.disney.com/john-carter   49529   \n",
       "\n",
       "                                            keywords original_language  ...  \\\n",
       "0  [{\"id\": 1463, \"name\": \"culture clash\"}, {\"id\":...                en  ...   \n",
       "1  [{\"id\": 270, \"name\": \"ocean\"}, {\"id\": 726, \"na...                en  ...   \n",
       "2  [{\"id\": 470, \"name\": \"spy\"}, {\"id\": 818, \"name...                en  ...   \n",
       "3  [{\"id\": 849, \"name\": \"dc comics\"}, {\"id\": 853,...                en  ...   \n",
       "4  [{\"id\": 818, \"name\": \"based on novel\"}, {\"id\":...                en  ...   \n",
       "\n",
       "                                production_companies  \\\n",
       "0  [{\"name\": \"Ingenious Film Partners\", \"id\": 289...   \n",
       "1  [{\"name\": \"Walt Disney Pictures\", \"id\": 2}, {\"...   \n",
       "2  [{\"name\": \"Columbia Pictures\", \"id\": 5}, {\"nam...   \n",
       "3  [{\"name\": \"Legendary Pictures\", \"id\": 923}, {\"...   \n",
       "4        [{\"name\": \"Walt Disney Pictures\", \"id\": 2}]   \n",
       "\n",
       "                                production_countries  release_date  \\\n",
       "0  [{\"iso_3166_1\": \"US\", \"name\": \"United States o...    2009-12-10   \n",
       "1  [{\"iso_3166_1\": \"US\", \"name\": \"United States o...    2007-05-19   \n",
       "2  [{\"iso_3166_1\": \"GB\", \"name\": \"United Kingdom\"...    2015-10-26   \n",
       "3  [{\"iso_3166_1\": \"US\", \"name\": \"United States o...    2012-07-16   \n",
       "4  [{\"iso_3166_1\": \"US\", \"name\": \"United States o...    2012-03-07   \n",
       "\n",
       "      revenue runtime                                   spoken_languages  \\\n",
       "0  2787965087   162.0  [{\"iso_639_1\": \"en\", \"name\": \"English\"}, {\"iso...   \n",
       "1   961000000   169.0           [{\"iso_639_1\": \"en\", \"name\": \"English\"}]   \n",
       "2   880674609   148.0  [{\"iso_639_1\": \"fr\", \"name\": \"Fran\\u00e7ais\"},...   \n",
       "3  1084939099   165.0           [{\"iso_639_1\": \"en\", \"name\": \"English\"}]   \n",
       "4   284139100   132.0           [{\"iso_639_1\": \"en\", \"name\": \"English\"}]   \n",
       "\n",
       "     status                                         tagline vote_average  \\\n",
       "0  Released                     Enter the World of Pandora.          7.2   \n",
       "1  Released  At the end of the world, the adventure begins.          6.9   \n",
       "2  Released                           A Plan No One Escapes          6.3   \n",
       "3  Released                                 The Legend Ends          7.6   \n",
       "4  Released            Lost in our world, found in another.          6.1   \n",
       "\n",
       "  vote_count  \n",
       "0      11800  \n",
       "1       4500  \n",
       "2       4466  \n",
       "3       9106  \n",
       "4       2124  \n",
       "\n",
       "[5 rows x 23 columns]"
      ]
     },
     "execution_count": 5,
     "metadata": {},
     "output_type": "execute_result"
    }
   ],
   "source": [
    "df = pd.merge(df1, df2, left_on=['movie_id', 'title'], right_on=['id', 'title'])\n",
    "df.head()"
   ]
  },
  {
   "cell_type": "markdown",
   "metadata": {
    "id": "mJRhfQX3w4qU"
   },
   "source": [
    "Điều chỉnh định dạng của một số cột dữ liệu để có thể xử lý dữ liệu hiệu quả hơn về sau."
   ]
  },
  {
   "cell_type": "code",
   "execution_count": 6,
   "metadata": {
    "id": "Y_3EDCmyw1AS"
   },
   "outputs": [],
   "source": [
    "from ast import literal_eval\n",
    "\n",
    "features = ['cast', 'crew', 'keywords', 'genres']\n",
    "for feature in features:\n",
    "    df[feature] = df[feature].apply(literal_eval)"
   ]
  },
  {
   "cell_type": "markdown",
   "metadata": {
    "_uuid": "ee603279675033fc397f0c94738e20b34f35312b",
    "id": "Tv7_E7txxNsv"
   },
   "source": [
    "# **Demographic Filtering**\n",
    "\n",
    "Với loại đề xuất trong phần này, chúng ta cần\n",
    "\n",
    "* Một số liệu để chấm điểm hoặc xếp hạng phim\n",
    "* Tính điểm cho mỗi bộ phim\n",
    "* Sắp xếp điểm số và giới thiệu bộ phim được đánh giá tốt nhất cho người dùng.\n",
    "\n",
    "Chúng ta có thể sử dụng đánh giá trung bình làm điểm số nhưng điều này không công bằng. Sự không công bằng này diễn ra khi một bộ phim có đánh giá trung bình là 8.9 nhưng chỉ với 3 lần đánh giá và không được coi là tốt hơn một bộ phim khác có đánh giá trung bình là 7.8 nhưng lại có 40 lần đánh giá.\n",
    "\n",
    "Do đó chúng ta sẽ sử dụng phương pháp IMDB's weighted rating (wr) cho vấn đề này.\n",
    "\n",
    "![](https://image.ibb.co/jYWZp9/wr.png)\n",
    "\n",
    "Trong đó:\n",
    "\n",
    "* v: số lượng đánh giá cho mỗi bộ phim.\n",
    "* m: số đánh giá tối thiểu cần thiết để được liệt kê.\n",
    "* R: đánh giá trung bình của mỗi bộ phim.\n",
    "* C: giá trị trung bình của các đánh giá trung bình của từng bộ phim.\n",
    "\n",
    "Chúng ta đã có v(**vote_count**), R(**vote_average**) và C có thể tính được "
   ]
  },
  {
   "cell_type": "markdown",
   "metadata": {
    "id": "5i3ledE58XsR"
   },
   "source": [
    "## Task 2: Xây dựng hàm tính weighted_rating"
   ]
  },
  {
   "cell_type": "code",
   "execution_count": 7,
   "metadata": {
    "_uuid": "5799b99c5e5ed5b7723ae8b31e1fc9fb1e7b89ec",
    "colab": {
     "base_uri": "https://localhost:8080/"
    },
    "executionInfo": {
     "elapsed": 9,
     "status": "ok",
     "timestamp": 1650950201591,
     "user": {
      "displayName": "Phuoc Dang Binh",
      "userId": "03215898790492751448"
     },
     "user_tz": -420
    },
    "id": "CmYXnUcMxNsw",
    "outputId": "9c6116f4-9408-4777-fbd5-f7db3f72ee60"
   },
   "outputs": [
    {
     "data": {
      "text/plain": [
       "6.092171559442011"
      ]
     },
     "execution_count": 7,
     "metadata": {},
     "output_type": "execute_result"
    }
   ],
   "source": [
    "# C: giá trị trung bình của các đánh giá trung bình của từng bộ phim.\n",
    "C= df['vote_average'].mean()\n",
    "C"
   ]
  },
  {
   "cell_type": "markdown",
   "metadata": {
    "_uuid": "02fa8642f75bcef6d4a79e029af6dfeebf19e3a5",
    "id": "TSZc4seAxNsw"
   },
   "source": [
    "Tính giá trị m. Sử dụng số lượng vote chiếm 90% của toàn bộ dữ liệu để thiết lập cho m. Điều này có nghĩa là một bộ phim sẽ được đưa vào so sánh nếu số lượng đánh giá ít nhất bằng 90% của toàn bộ dữ liệu."
   ]
  },
  {
   "cell_type": "code",
   "execution_count": 8,
   "metadata": {
    "_uuid": "f2f1eaff1e4349b5d2d11dd5ce79c19a85561148",
    "colab": {
     "base_uri": "https://localhost:8080/"
    },
    "executionInfo": {
     "elapsed": 7,
     "status": "ok",
     "timestamp": 1650950201591,
     "user": {
      "displayName": "Phuoc Dang Binh",
      "userId": "03215898790492751448"
     },
     "user_tz": -420
    },
    "id": "WMnw-1VixNsw",
    "outputId": "ff3a7e58-9ca1-459b-9d9e-f849336586d9"
   },
   "outputs": [
    {
     "data": {
      "text/plain": [
       "1838.4000000000015"
      ]
     },
     "execution_count": 8,
     "metadata": {},
     "output_type": "execute_result"
    }
   ],
   "source": [
    "# Tính giá trị m\n",
    "m = df['vote_count'].quantile(0.9)\n",
    "m"
   ]
  },
  {
   "cell_type": "code",
   "execution_count": 9,
   "metadata": {
    "id": "qH5dxaAalGvh"
   },
   "outputs": [],
   "source": [
    "# Xây dựng hàm tính weighted_rating\n",
    "def weighted_rating(df, m=m, C=C):\n",
    "    v = df['vote_count']\n",
    "    R = df['vote_average']\n",
    "    return (v/(v+m)*R + m/(v+m)*C)"
   ]
  },
  {
   "cell_type": "markdown",
   "metadata": {
    "_uuid": "b77dea5a38ca2c399e3abeac1487e784fe146078",
    "id": "OeeoYah_xNsw"
   },
   "source": [
    "## Task 3: Tính điểm cho từng bộ phim từ hàm weighted_ratings và đề xuất phim"
   ]
  },
  {
   "cell_type": "code",
   "execution_count": 10,
   "metadata": {
    "_uuid": "a22008df6d81d3b716d39a56efd3d547345bfbce",
    "colab": {
     "base_uri": "https://localhost:8080/"
    },
    "executionInfo": {
     "elapsed": 5,
     "status": "ok",
     "timestamp": 1650950201591,
     "user": {
      "displayName": "Phuoc Dang Binh",
      "userId": "03215898790492751448"
     },
     "user_tz": -420
    },
    "id": "bsRrncj1xNsw",
    "outputId": "32c0dbbe-1ae2-4f7d-be57-0358d9b2a463"
   },
   "outputs": [
    {
     "data": {
      "text/plain": [
       "(481, 23)"
      ]
     },
     "execution_count": 10,
     "metadata": {},
     "output_type": "execute_result"
    }
   ],
   "source": [
    "# Lọc những bộ phim có số lượng đánh giá ít nhất bằng m\n",
    "q_movies = df.loc[df['vote_count'] >= m]\n",
    "q_movies.shape"
   ]
  },
  {
   "cell_type": "code",
   "execution_count": 11,
   "metadata": {},
   "outputs": [
    {
     "data": {
      "text/html": [
       "<div>\n",
       "<style scoped>\n",
       "    .dataframe tbody tr th:only-of-type {\n",
       "        vertical-align: middle;\n",
       "    }\n",
       "\n",
       "    .dataframe tbody tr th {\n",
       "        vertical-align: top;\n",
       "    }\n",
       "\n",
       "    .dataframe thead th {\n",
       "        text-align: right;\n",
       "    }\n",
       "</style>\n",
       "<table border=\"1\" class=\"dataframe\">\n",
       "  <thead>\n",
       "    <tr style=\"text-align: right;\">\n",
       "      <th></th>\n",
       "      <th>movie_id</th>\n",
       "      <th>title</th>\n",
       "      <th>cast</th>\n",
       "      <th>crew</th>\n",
       "      <th>budget</th>\n",
       "      <th>genres</th>\n",
       "      <th>homepage</th>\n",
       "      <th>id</th>\n",
       "      <th>keywords</th>\n",
       "      <th>original_language</th>\n",
       "      <th>...</th>\n",
       "      <th>production_companies</th>\n",
       "      <th>production_countries</th>\n",
       "      <th>release_date</th>\n",
       "      <th>revenue</th>\n",
       "      <th>runtime</th>\n",
       "      <th>spoken_languages</th>\n",
       "      <th>status</th>\n",
       "      <th>tagline</th>\n",
       "      <th>vote_average</th>\n",
       "      <th>vote_count</th>\n",
       "    </tr>\n",
       "  </thead>\n",
       "  <tbody>\n",
       "    <tr>\n",
       "      <th>0</th>\n",
       "      <td>19995</td>\n",
       "      <td>Avatar</td>\n",
       "      <td>[{'cast_id': 242, 'character': 'Jake Sully', '...</td>\n",
       "      <td>[{'credit_id': '52fe48009251416c750aca23', 'de...</td>\n",
       "      <td>237000000</td>\n",
       "      <td>[{'id': 28, 'name': 'Action'}, {'id': 12, 'nam...</td>\n",
       "      <td>http://www.avatarmovie.com/</td>\n",
       "      <td>19995</td>\n",
       "      <td>[{'id': 1463, 'name': 'culture clash'}, {'id':...</td>\n",
       "      <td>en</td>\n",
       "      <td>...</td>\n",
       "      <td>[{\"name\": \"Ingenious Film Partners\", \"id\": 289...</td>\n",
       "      <td>[{\"iso_3166_1\": \"US\", \"name\": \"United States o...</td>\n",
       "      <td>2009-12-10</td>\n",
       "      <td>2787965087</td>\n",
       "      <td>162.0</td>\n",
       "      <td>[{\"iso_639_1\": \"en\", \"name\": \"English\"}, {\"iso...</td>\n",
       "      <td>Released</td>\n",
       "      <td>Enter the World of Pandora.</td>\n",
       "      <td>7.2</td>\n",
       "      <td>11800</td>\n",
       "    </tr>\n",
       "    <tr>\n",
       "      <th>1</th>\n",
       "      <td>285</td>\n",
       "      <td>Pirates of the Caribbean: At World's End</td>\n",
       "      <td>[{'cast_id': 4, 'character': 'Captain Jack Spa...</td>\n",
       "      <td>[{'credit_id': '52fe4232c3a36847f800b579', 'de...</td>\n",
       "      <td>300000000</td>\n",
       "      <td>[{'id': 12, 'name': 'Adventure'}, {'id': 14, '...</td>\n",
       "      <td>http://disney.go.com/disneypictures/pirates/</td>\n",
       "      <td>285</td>\n",
       "      <td>[{'id': 270, 'name': 'ocean'}, {'id': 726, 'na...</td>\n",
       "      <td>en</td>\n",
       "      <td>...</td>\n",
       "      <td>[{\"name\": \"Walt Disney Pictures\", \"id\": 2}, {\"...</td>\n",
       "      <td>[{\"iso_3166_1\": \"US\", \"name\": \"United States o...</td>\n",
       "      <td>2007-05-19</td>\n",
       "      <td>961000000</td>\n",
       "      <td>169.0</td>\n",
       "      <td>[{\"iso_639_1\": \"en\", \"name\": \"English\"}]</td>\n",
       "      <td>Released</td>\n",
       "      <td>At the end of the world, the adventure begins.</td>\n",
       "      <td>6.9</td>\n",
       "      <td>4500</td>\n",
       "    </tr>\n",
       "    <tr>\n",
       "      <th>2</th>\n",
       "      <td>206647</td>\n",
       "      <td>Spectre</td>\n",
       "      <td>[{'cast_id': 1, 'character': 'James Bond', 'cr...</td>\n",
       "      <td>[{'credit_id': '54805967c3a36829b5002c41', 'de...</td>\n",
       "      <td>245000000</td>\n",
       "      <td>[{'id': 28, 'name': 'Action'}, {'id': 12, 'nam...</td>\n",
       "      <td>http://www.sonypictures.com/movies/spectre/</td>\n",
       "      <td>206647</td>\n",
       "      <td>[{'id': 470, 'name': 'spy'}, {'id': 818, 'name...</td>\n",
       "      <td>en</td>\n",
       "      <td>...</td>\n",
       "      <td>[{\"name\": \"Columbia Pictures\", \"id\": 5}, {\"nam...</td>\n",
       "      <td>[{\"iso_3166_1\": \"GB\", \"name\": \"United Kingdom\"...</td>\n",
       "      <td>2015-10-26</td>\n",
       "      <td>880674609</td>\n",
       "      <td>148.0</td>\n",
       "      <td>[{\"iso_639_1\": \"fr\", \"name\": \"Fran\\u00e7ais\"},...</td>\n",
       "      <td>Released</td>\n",
       "      <td>A Plan No One Escapes</td>\n",
       "      <td>6.3</td>\n",
       "      <td>4466</td>\n",
       "    </tr>\n",
       "  </tbody>\n",
       "</table>\n",
       "<p>3 rows × 23 columns</p>\n",
       "</div>"
      ],
      "text/plain": [
       "   movie_id                                     title  \\\n",
       "0     19995                                    Avatar   \n",
       "1       285  Pirates of the Caribbean: At World's End   \n",
       "2    206647                                   Spectre   \n",
       "\n",
       "                                                cast  \\\n",
       "0  [{'cast_id': 242, 'character': 'Jake Sully', '...   \n",
       "1  [{'cast_id': 4, 'character': 'Captain Jack Spa...   \n",
       "2  [{'cast_id': 1, 'character': 'James Bond', 'cr...   \n",
       "\n",
       "                                                crew     budget  \\\n",
       "0  [{'credit_id': '52fe48009251416c750aca23', 'de...  237000000   \n",
       "1  [{'credit_id': '52fe4232c3a36847f800b579', 'de...  300000000   \n",
       "2  [{'credit_id': '54805967c3a36829b5002c41', 'de...  245000000   \n",
       "\n",
       "                                              genres  \\\n",
       "0  [{'id': 28, 'name': 'Action'}, {'id': 12, 'nam...   \n",
       "1  [{'id': 12, 'name': 'Adventure'}, {'id': 14, '...   \n",
       "2  [{'id': 28, 'name': 'Action'}, {'id': 12, 'nam...   \n",
       "\n",
       "                                       homepage      id  \\\n",
       "0                   http://www.avatarmovie.com/   19995   \n",
       "1  http://disney.go.com/disneypictures/pirates/     285   \n",
       "2   http://www.sonypictures.com/movies/spectre/  206647   \n",
       "\n",
       "                                            keywords original_language  ...  \\\n",
       "0  [{'id': 1463, 'name': 'culture clash'}, {'id':...                en  ...   \n",
       "1  [{'id': 270, 'name': 'ocean'}, {'id': 726, 'na...                en  ...   \n",
       "2  [{'id': 470, 'name': 'spy'}, {'id': 818, 'name...                en  ...   \n",
       "\n",
       "                                production_companies  \\\n",
       "0  [{\"name\": \"Ingenious Film Partners\", \"id\": 289...   \n",
       "1  [{\"name\": \"Walt Disney Pictures\", \"id\": 2}, {\"...   \n",
       "2  [{\"name\": \"Columbia Pictures\", \"id\": 5}, {\"nam...   \n",
       "\n",
       "                                production_countries  release_date  \\\n",
       "0  [{\"iso_3166_1\": \"US\", \"name\": \"United States o...    2009-12-10   \n",
       "1  [{\"iso_3166_1\": \"US\", \"name\": \"United States o...    2007-05-19   \n",
       "2  [{\"iso_3166_1\": \"GB\", \"name\": \"United Kingdom\"...    2015-10-26   \n",
       "\n",
       "      revenue runtime                                   spoken_languages  \\\n",
       "0  2787965087   162.0  [{\"iso_639_1\": \"en\", \"name\": \"English\"}, {\"iso...   \n",
       "1   961000000   169.0           [{\"iso_639_1\": \"en\", \"name\": \"English\"}]   \n",
       "2   880674609   148.0  [{\"iso_639_1\": \"fr\", \"name\": \"Fran\\u00e7ais\"},...   \n",
       "\n",
       "     status                                         tagline vote_average  \\\n",
       "0  Released                     Enter the World of Pandora.          7.2   \n",
       "1  Released  At the end of the world, the adventure begins.          6.9   \n",
       "2  Released                           A Plan No One Escapes          6.3   \n",
       "\n",
       "  vote_count  \n",
       "0      11800  \n",
       "1       4500  \n",
       "2       4466  \n",
       "\n",
       "[3 rows x 23 columns]"
      ]
     },
     "execution_count": 11,
     "metadata": {},
     "output_type": "execute_result"
    }
   ],
   "source": [
    "q_movies.head(3)"
   ]
  },
  {
   "cell_type": "code",
   "execution_count": 12,
   "metadata": {
    "_uuid": "d2d189929715237ab19a18fb8747239b86092968",
    "id": "dR_VWGh4xNsx"
   },
   "outputs": [
    {
     "data": {
      "text/html": [
       "<div>\n",
       "<style scoped>\n",
       "    .dataframe tbody tr th:only-of-type {\n",
       "        vertical-align: middle;\n",
       "    }\n",
       "\n",
       "    .dataframe tbody tr th {\n",
       "        vertical-align: top;\n",
       "    }\n",
       "\n",
       "    .dataframe thead th {\n",
       "        text-align: right;\n",
       "    }\n",
       "</style>\n",
       "<table border=\"1\" class=\"dataframe\">\n",
       "  <thead>\n",
       "    <tr style=\"text-align: right;\">\n",
       "      <th></th>\n",
       "      <th>movie_id</th>\n",
       "      <th>title</th>\n",
       "      <th>cast</th>\n",
       "      <th>crew</th>\n",
       "      <th>budget</th>\n",
       "      <th>genres</th>\n",
       "      <th>homepage</th>\n",
       "      <th>id</th>\n",
       "      <th>keywords</th>\n",
       "      <th>original_language</th>\n",
       "      <th>...</th>\n",
       "      <th>production_countries</th>\n",
       "      <th>release_date</th>\n",
       "      <th>revenue</th>\n",
       "      <th>runtime</th>\n",
       "      <th>spoken_languages</th>\n",
       "      <th>status</th>\n",
       "      <th>tagline</th>\n",
       "      <th>vote_average</th>\n",
       "      <th>vote_count</th>\n",
       "      <th>score</th>\n",
       "    </tr>\n",
       "  </thead>\n",
       "  <tbody>\n",
       "    <tr>\n",
       "      <th>0</th>\n",
       "      <td>19995</td>\n",
       "      <td>Avatar</td>\n",
       "      <td>[{'cast_id': 242, 'character': 'Jake Sully', '...</td>\n",
       "      <td>[{'credit_id': '52fe48009251416c750aca23', 'de...</td>\n",
       "      <td>237000000</td>\n",
       "      <td>[{'id': 28, 'name': 'Action'}, {'id': 12, 'nam...</td>\n",
       "      <td>http://www.avatarmovie.com/</td>\n",
       "      <td>19995</td>\n",
       "      <td>[{'id': 1463, 'name': 'culture clash'}, {'id':...</td>\n",
       "      <td>en</td>\n",
       "      <td>...</td>\n",
       "      <td>[{\"iso_3166_1\": \"US\", \"name\": \"United States o...</td>\n",
       "      <td>2009-12-10</td>\n",
       "      <td>2787965087</td>\n",
       "      <td>162.0</td>\n",
       "      <td>[{\"iso_639_1\": \"en\", \"name\": \"English\"}, {\"iso...</td>\n",
       "      <td>Released</td>\n",
       "      <td>Enter the World of Pandora.</td>\n",
       "      <td>7.2</td>\n",
       "      <td>11800</td>\n",
       "      <td>7.050669</td>\n",
       "    </tr>\n",
       "    <tr>\n",
       "      <th>1</th>\n",
       "      <td>285</td>\n",
       "      <td>Pirates of the Caribbean: At World's End</td>\n",
       "      <td>[{'cast_id': 4, 'character': 'Captain Jack Spa...</td>\n",
       "      <td>[{'credit_id': '52fe4232c3a36847f800b579', 'de...</td>\n",
       "      <td>300000000</td>\n",
       "      <td>[{'id': 12, 'name': 'Adventure'}, {'id': 14, '...</td>\n",
       "      <td>http://disney.go.com/disneypictures/pirates/</td>\n",
       "      <td>285</td>\n",
       "      <td>[{'id': 270, 'name': 'ocean'}, {'id': 726, 'na...</td>\n",
       "      <td>en</td>\n",
       "      <td>...</td>\n",
       "      <td>[{\"iso_3166_1\": \"US\", \"name\": \"United States o...</td>\n",
       "      <td>2007-05-19</td>\n",
       "      <td>961000000</td>\n",
       "      <td>169.0</td>\n",
       "      <td>[{\"iso_639_1\": \"en\", \"name\": \"English\"}]</td>\n",
       "      <td>Released</td>\n",
       "      <td>At the end of the world, the adventure begins.</td>\n",
       "      <td>6.9</td>\n",
       "      <td>4500</td>\n",
       "      <td>6.665696</td>\n",
       "    </tr>\n",
       "    <tr>\n",
       "      <th>2</th>\n",
       "      <td>206647</td>\n",
       "      <td>Spectre</td>\n",
       "      <td>[{'cast_id': 1, 'character': 'James Bond', 'cr...</td>\n",
       "      <td>[{'credit_id': '54805967c3a36829b5002c41', 'de...</td>\n",
       "      <td>245000000</td>\n",
       "      <td>[{'id': 28, 'name': 'Action'}, {'id': 12, 'nam...</td>\n",
       "      <td>http://www.sonypictures.com/movies/spectre/</td>\n",
       "      <td>206647</td>\n",
       "      <td>[{'id': 470, 'name': 'spy'}, {'id': 818, 'name...</td>\n",
       "      <td>en</td>\n",
       "      <td>...</td>\n",
       "      <td>[{\"iso_3166_1\": \"GB\", \"name\": \"United Kingdom\"...</td>\n",
       "      <td>2015-10-26</td>\n",
       "      <td>880674609</td>\n",
       "      <td>148.0</td>\n",
       "      <td>[{\"iso_639_1\": \"fr\", \"name\": \"Fran\\u00e7ais\"},...</td>\n",
       "      <td>Released</td>\n",
       "      <td>A Plan No One Escapes</td>\n",
       "      <td>6.3</td>\n",
       "      <td>4466</td>\n",
       "      <td>6.239396</td>\n",
       "    </tr>\n",
       "    <tr>\n",
       "      <th>3</th>\n",
       "      <td>49026</td>\n",
       "      <td>The Dark Knight Rises</td>\n",
       "      <td>[{'cast_id': 2, 'character': 'Bruce Wayne / Ba...</td>\n",
       "      <td>[{'credit_id': '52fe4781c3a36847f81398c3', 'de...</td>\n",
       "      <td>250000000</td>\n",
       "      <td>[{'id': 28, 'name': 'Action'}, {'id': 80, 'nam...</td>\n",
       "      <td>http://www.thedarkknightrises.com/</td>\n",
       "      <td>49026</td>\n",
       "      <td>[{'id': 849, 'name': 'dc comics'}, {'id': 853,...</td>\n",
       "      <td>en</td>\n",
       "      <td>...</td>\n",
       "      <td>[{\"iso_3166_1\": \"US\", \"name\": \"United States o...</td>\n",
       "      <td>2012-07-16</td>\n",
       "      <td>1084939099</td>\n",
       "      <td>165.0</td>\n",
       "      <td>[{\"iso_639_1\": \"en\", \"name\": \"English\"}]</td>\n",
       "      <td>Released</td>\n",
       "      <td>The Legend Ends</td>\n",
       "      <td>7.6</td>\n",
       "      <td>9106</td>\n",
       "      <td>7.346721</td>\n",
       "    </tr>\n",
       "    <tr>\n",
       "      <th>4</th>\n",
       "      <td>49529</td>\n",
       "      <td>John Carter</td>\n",
       "      <td>[{'cast_id': 5, 'character': 'John Carter', 'c...</td>\n",
       "      <td>[{'credit_id': '52fe479ac3a36847f813eaa3', 'de...</td>\n",
       "      <td>260000000</td>\n",
       "      <td>[{'id': 28, 'name': 'Action'}, {'id': 12, 'nam...</td>\n",
       "      <td>http://movies.disney.com/john-carter</td>\n",
       "      <td>49529</td>\n",
       "      <td>[{'id': 818, 'name': 'based on novel'}, {'id':...</td>\n",
       "      <td>en</td>\n",
       "      <td>...</td>\n",
       "      <td>[{\"iso_3166_1\": \"US\", \"name\": \"United States o...</td>\n",
       "      <td>2012-03-07</td>\n",
       "      <td>284139100</td>\n",
       "      <td>132.0</td>\n",
       "      <td>[{\"iso_639_1\": \"en\", \"name\": \"English\"}]</td>\n",
       "      <td>Released</td>\n",
       "      <td>Lost in our world, found in another.</td>\n",
       "      <td>6.1</td>\n",
       "      <td>2124</td>\n",
       "      <td>6.096368</td>\n",
       "    </tr>\n",
       "  </tbody>\n",
       "</table>\n",
       "<p>5 rows × 24 columns</p>\n",
       "</div>"
      ],
      "text/plain": [
       "   movie_id                                     title  \\\n",
       "0     19995                                    Avatar   \n",
       "1       285  Pirates of the Caribbean: At World's End   \n",
       "2    206647                                   Spectre   \n",
       "3     49026                     The Dark Knight Rises   \n",
       "4     49529                               John Carter   \n",
       "\n",
       "                                                cast  \\\n",
       "0  [{'cast_id': 242, 'character': 'Jake Sully', '...   \n",
       "1  [{'cast_id': 4, 'character': 'Captain Jack Spa...   \n",
       "2  [{'cast_id': 1, 'character': 'James Bond', 'cr...   \n",
       "3  [{'cast_id': 2, 'character': 'Bruce Wayne / Ba...   \n",
       "4  [{'cast_id': 5, 'character': 'John Carter', 'c...   \n",
       "\n",
       "                                                crew     budget  \\\n",
       "0  [{'credit_id': '52fe48009251416c750aca23', 'de...  237000000   \n",
       "1  [{'credit_id': '52fe4232c3a36847f800b579', 'de...  300000000   \n",
       "2  [{'credit_id': '54805967c3a36829b5002c41', 'de...  245000000   \n",
       "3  [{'credit_id': '52fe4781c3a36847f81398c3', 'de...  250000000   \n",
       "4  [{'credit_id': '52fe479ac3a36847f813eaa3', 'de...  260000000   \n",
       "\n",
       "                                              genres  \\\n",
       "0  [{'id': 28, 'name': 'Action'}, {'id': 12, 'nam...   \n",
       "1  [{'id': 12, 'name': 'Adventure'}, {'id': 14, '...   \n",
       "2  [{'id': 28, 'name': 'Action'}, {'id': 12, 'nam...   \n",
       "3  [{'id': 28, 'name': 'Action'}, {'id': 80, 'nam...   \n",
       "4  [{'id': 28, 'name': 'Action'}, {'id': 12, 'nam...   \n",
       "\n",
       "                                       homepage      id  \\\n",
       "0                   http://www.avatarmovie.com/   19995   \n",
       "1  http://disney.go.com/disneypictures/pirates/     285   \n",
       "2   http://www.sonypictures.com/movies/spectre/  206647   \n",
       "3            http://www.thedarkknightrises.com/   49026   \n",
       "4          http://movies.disney.com/john-carter   49529   \n",
       "\n",
       "                                            keywords original_language  ...  \\\n",
       "0  [{'id': 1463, 'name': 'culture clash'}, {'id':...                en  ...   \n",
       "1  [{'id': 270, 'name': 'ocean'}, {'id': 726, 'na...                en  ...   \n",
       "2  [{'id': 470, 'name': 'spy'}, {'id': 818, 'name...                en  ...   \n",
       "3  [{'id': 849, 'name': 'dc comics'}, {'id': 853,...                en  ...   \n",
       "4  [{'id': 818, 'name': 'based on novel'}, {'id':...                en  ...   \n",
       "\n",
       "                                production_countries release_date     revenue  \\\n",
       "0  [{\"iso_3166_1\": \"US\", \"name\": \"United States o...   2009-12-10  2787965087   \n",
       "1  [{\"iso_3166_1\": \"US\", \"name\": \"United States o...   2007-05-19   961000000   \n",
       "2  [{\"iso_3166_1\": \"GB\", \"name\": \"United Kingdom\"...   2015-10-26   880674609   \n",
       "3  [{\"iso_3166_1\": \"US\", \"name\": \"United States o...   2012-07-16  1084939099   \n",
       "4  [{\"iso_3166_1\": \"US\", \"name\": \"United States o...   2012-03-07   284139100   \n",
       "\n",
       "  runtime                                   spoken_languages    status  \\\n",
       "0   162.0  [{\"iso_639_1\": \"en\", \"name\": \"English\"}, {\"iso...  Released   \n",
       "1   169.0           [{\"iso_639_1\": \"en\", \"name\": \"English\"}]  Released   \n",
       "2   148.0  [{\"iso_639_1\": \"fr\", \"name\": \"Fran\\u00e7ais\"},...  Released   \n",
       "3   165.0           [{\"iso_639_1\": \"en\", \"name\": \"English\"}]  Released   \n",
       "4   132.0           [{\"iso_639_1\": \"en\", \"name\": \"English\"}]  Released   \n",
       "\n",
       "                                          tagline  vote_average vote_count  \\\n",
       "0                     Enter the World of Pandora.           7.2      11800   \n",
       "1  At the end of the world, the adventure begins.           6.9       4500   \n",
       "2                           A Plan No One Escapes           6.3       4466   \n",
       "3                                 The Legend Ends           7.6       9106   \n",
       "4            Lost in our world, found in another.           6.1       2124   \n",
       "\n",
       "      score  \n",
       "0  7.050669  \n",
       "1  6.665696  \n",
       "2  6.239396  \n",
       "3  7.346721  \n",
       "4  6.096368  \n",
       "\n",
       "[5 rows x 24 columns]"
      ]
     },
     "execution_count": 12,
     "metadata": {},
     "output_type": "execute_result"
    }
   ],
   "source": [
    "# Tính điểm cho từng bộ phim bằng hàm weighted_rating\n",
    "q_movies['score'] = q_movies.apply(weighted_rating, axis=1)\n",
    "q_movies.head()"
   ]
  },
  {
   "cell_type": "code",
   "execution_count": 13,
   "metadata": {
    "_uuid": "a9a9fc3810ea67c31908bbdf8bb930daa918102b",
    "colab": {
     "base_uri": "https://localhost:8080/",
     "height": 363
    },
    "executionInfo": {
     "elapsed": 576,
     "status": "ok",
     "timestamp": 1650950202163,
     "user": {
      "displayName": "Phuoc Dang Binh",
      "userId": "03215898790492751448"
     },
     "user_tz": -420
    },
    "id": "w1ITz7NlxNsx",
    "outputId": "01837e37-c5d8-4314-c047-4e270a00985d"
   },
   "outputs": [
    {
     "data": {
      "text/html": [
       "<div>\n",
       "<style scoped>\n",
       "    .dataframe tbody tr th:only-of-type {\n",
       "        vertical-align: middle;\n",
       "    }\n",
       "\n",
       "    .dataframe tbody tr th {\n",
       "        vertical-align: top;\n",
       "    }\n",
       "\n",
       "    .dataframe thead th {\n",
       "        text-align: right;\n",
       "    }\n",
       "</style>\n",
       "<table border=\"1\" class=\"dataframe\">\n",
       "  <thead>\n",
       "    <tr style=\"text-align: right;\">\n",
       "      <th></th>\n",
       "      <th>title</th>\n",
       "      <th>vote_count</th>\n",
       "      <th>vote_average</th>\n",
       "      <th>score</th>\n",
       "    </tr>\n",
       "  </thead>\n",
       "  <tbody>\n",
       "    <tr>\n",
       "      <th>0</th>\n",
       "      <td>Avatar</td>\n",
       "      <td>11800</td>\n",
       "      <td>7.2</td>\n",
       "      <td>7.050669</td>\n",
       "    </tr>\n",
       "    <tr>\n",
       "      <th>1</th>\n",
       "      <td>Pirates of the Caribbean: At World's End</td>\n",
       "      <td>4500</td>\n",
       "      <td>6.9</td>\n",
       "      <td>6.665696</td>\n",
       "    </tr>\n",
       "    <tr>\n",
       "      <th>2</th>\n",
       "      <td>Spectre</td>\n",
       "      <td>4466</td>\n",
       "      <td>6.3</td>\n",
       "      <td>6.239396</td>\n",
       "    </tr>\n",
       "    <tr>\n",
       "      <th>3</th>\n",
       "      <td>The Dark Knight Rises</td>\n",
       "      <td>9106</td>\n",
       "      <td>7.6</td>\n",
       "      <td>7.346721</td>\n",
       "    </tr>\n",
       "    <tr>\n",
       "      <th>4</th>\n",
       "      <td>John Carter</td>\n",
       "      <td>2124</td>\n",
       "      <td>6.1</td>\n",
       "      <td>6.096368</td>\n",
       "    </tr>\n",
       "    <tr>\n",
       "      <th>5</th>\n",
       "      <td>Spider-Man 3</td>\n",
       "      <td>3576</td>\n",
       "      <td>5.9</td>\n",
       "      <td>5.965250</td>\n",
       "    </tr>\n",
       "    <tr>\n",
       "      <th>6</th>\n",
       "      <td>Tangled</td>\n",
       "      <td>3330</td>\n",
       "      <td>7.4</td>\n",
       "      <td>6.934805</td>\n",
       "    </tr>\n",
       "    <tr>\n",
       "      <th>7</th>\n",
       "      <td>Avengers: Age of Ultron</td>\n",
       "      <td>6767</td>\n",
       "      <td>7.3</td>\n",
       "      <td>7.041968</td>\n",
       "    </tr>\n",
       "    <tr>\n",
       "      <th>8</th>\n",
       "      <td>Harry Potter and the Half-Blood Prince</td>\n",
       "      <td>5293</td>\n",
       "      <td>7.4</td>\n",
       "      <td>7.062856</td>\n",
       "    </tr>\n",
       "    <tr>\n",
       "      <th>9</th>\n",
       "      <td>Batman v Superman: Dawn of Justice</td>\n",
       "      <td>7004</td>\n",
       "      <td>5.7</td>\n",
       "      <td>5.781535</td>\n",
       "    </tr>\n",
       "  </tbody>\n",
       "</table>\n",
       "</div>"
      ],
      "text/plain": [
       "                                      title  vote_count  vote_average  \\\n",
       "0                                    Avatar       11800           7.2   \n",
       "1  Pirates of the Caribbean: At World's End        4500           6.9   \n",
       "2                                   Spectre        4466           6.3   \n",
       "3                     The Dark Knight Rises        9106           7.6   \n",
       "4                               John Carter        2124           6.1   \n",
       "5                              Spider-Man 3        3576           5.9   \n",
       "6                                   Tangled        3330           7.4   \n",
       "7                   Avengers: Age of Ultron        6767           7.3   \n",
       "8    Harry Potter and the Half-Blood Prince        5293           7.4   \n",
       "9        Batman v Superman: Dawn of Justice        7004           5.7   \n",
       "\n",
       "      score  \n",
       "0  7.050669  \n",
       "1  6.665696  \n",
       "2  6.239396  \n",
       "3  7.346721  \n",
       "4  6.096368  \n",
       "5  5.965250  \n",
       "6  6.934805  \n",
       "7  7.041968  \n",
       "8  7.062856  \n",
       "9  5.781535  "
      ]
     },
     "execution_count": 13,
     "metadata": {},
     "output_type": "execute_result"
    }
   ],
   "source": [
    "# Đề xuất 10 bộ phim dựa vào phương pháp đề xuất Demographic Filtering\n",
    "q_movies.sort_values(by= 'score', ascending = False)\n",
    "q_movies[['title', 'vote_count', 'vote_average', 'score']].head(10)"
   ]
  },
  {
   "cell_type": "markdown",
   "metadata": {
    "id": "EHzSflaBCyuB"
   },
   "source": [
    "## Task 4: Trực quan biểu đồ trực quan 10 bộ phim phổ biến nhất hiện nay bằng chỉ số popularity."
   ]
  },
  {
   "cell_type": "code",
   "execution_count": 14,
   "metadata": {
    "_uuid": "207f7058f92698b5fd776f7771a3ac0cc2928bf1",
    "colab": {
     "base_uri": "https://localhost:8080/",
     "height": 312
    },
    "executionInfo": {
     "elapsed": 595,
     "status": "ok",
     "timestamp": 1650950202749,
     "user": {
      "displayName": "Phuoc Dang Binh",
      "userId": "03215898790492751448"
     },
     "user_tz": -420
    },
    "id": "TT6F0jVBxNsx",
    "outputId": "e58cf51f-ac2f-4b20-cd2e-fa291c8c7e9d"
   },
   "outputs": [
    {
     "data": {
      "image/png": "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\n",
      "text/plain": [
       "<Figure size 720x288 with 1 Axes>"
      ]
     },
     "metadata": {
      "needs_background": "light"
     },
     "output_type": "display_data"
    }
   ],
   "source": [
    "top_popular = q_movies.sort_values(by = 'popularity', ascending= False)\n",
    "top_popular = top_popular[['title', 'popularity']].head(10)\n",
    "top_popular\n",
    "\n",
    "# Trực quan hóa với biểu đồ dạng barh:\n",
    "import matplotlib.pyplot as plt\n",
    "top_popular.plot(kind = 'barh', \n",
    "                 figsize=(10, 4), \n",
    "                 x='title', \n",
    "                 y='popularity', \n",
    "                 title='Popular Movies',\n",
    "                 color='darkblue',\n",
    "                 legend=None)\n",
    "\n",
    "plt.xlabel('Popularity')\n",
    "plt.ylabel('')\n",
    "plt.show()"
   ]
  },
  {
   "cell_type": "markdown",
   "metadata": {
    "_uuid": "fe716df6e5e5a354ac53d556087147c0a64df2cc",
    "id": "zTuL81bPxNsy"
   },
   "source": [
    "# **Content Based Filtering**\n",
    "\n",
    "Trong hệ thống đề xuất này, nội dung của phim (overview, cast, crew, keyword, v.v.) được sử dụng để tìm sự tương đồng của giữa các bộ phim. Sau đó, những bộ phim có nhiều khả năng tương tự nhất được đề xuất."
   ]
  },
  {
   "cell_type": "markdown",
   "metadata": {
    "_uuid": "b0a813c803b0ba1f0204188ab2a63dc7f59ce2eb",
    "id": "g28lYQY6xNsy"
   },
   "source": [
    "Chúng ta sẽ tính toán điểm tương đồng theo từng cặp cho tất cả các phim dựa trên mô tả cốt truyện của chúng và đề xuất các phim dựa trên điểm tương đồng đó. Mô tả cốt truyện được đưa ra trong đặc trưng **overview** của tập dữ liệu của chúng tôi."
   ]
  },
  {
   "cell_type": "code",
   "execution_count": 15,
   "metadata": {
    "_uuid": "5e676c38ace04a24205b76b16dac0fa3e058027f",
    "colab": {
     "base_uri": "https://localhost:8080/"
    },
    "executionInfo": {
     "elapsed": 3,
     "status": "ok",
     "timestamp": 1650950202749,
     "user": {
      "displayName": "Phuoc Dang Binh",
      "userId": "03215898790492751448"
     },
     "user_tz": -420
    },
    "id": "e1g4GcoQxNsy",
    "outputId": "4290d443-4f8c-4233-ffb4-983a87c6f8d1"
   },
   "outputs": [
    {
     "data": {
      "text/plain": [
       "0    In the 22nd century, a paraplegic Marine is di...\n",
       "1    Captain Barbossa, long believed to be dead, ha...\n",
       "2    A cryptic message from Bond’s past sends him o...\n",
       "3    Following the death of District Attorney Harve...\n",
       "4    John Carter is a war-weary, former military ca...\n",
       "Name: overview, dtype: object"
      ]
     },
     "execution_count": 15,
     "metadata": {},
     "output_type": "execute_result"
    }
   ],
   "source": [
    "df['overview'].head(5)"
   ]
  },
  {
   "cell_type": "markdown",
   "metadata": {
    "_uuid": "277a9bb5b00a6bd2469c45777f9c659066f402b3",
    "id": "L7gjnD_BxNsy"
   },
   "source": [
    "Trước hết, vì đặc trưng **overview** là chuỗi, do đó chúng ta không thể làm việc với chúng. Do đó chúng ta sẽ sử dụng một phương pháp là tính toán vector Term Frequency-Inverse Document Frequency (TF-IDF) cho từng **overview**.\n",
    "\n",
    "Term Frequency(TF) tần xuất xuất hiện của từ trong văn bản. Còn Inverse Document Frequency (IDF) là mức độ quan trọng của từ.\n",
    "\n",
    "Công thức:\n",
    "\n",
    "* TF = (số lần từ t xuất hiện trong văn bản d) / (tổng số từ trong văn bản d)\n",
    "* IDF(t, D) = log(tổng số lượng văn bản trong bộ dữ liệu D/số lượng văn bản trong bộ dữ liệu D có từ t)\n",
    "\n",
    "Điều này sẽ cung cấp cho bạn một ma trận trong đó mỗi cột đại diện cho một từ trong từ vựng tổng quan (tất cả các từ xuất hiện trong ít nhất một tài liệu) và mỗi hàng đại diện cho một bộ phim hay cụ thể là một overview.\n",
    "\n"
   ]
  },
  {
   "cell_type": "markdown",
   "metadata": {
    "id": "Mb3jg3Ma-Jcc"
   },
   "source": [
    "## Task 5: Tính IF-IDF cho toàn bộ overview"
   ]
  },
  {
   "cell_type": "code",
   "execution_count": 16,
   "metadata": {
    "id": "TY-N0E9YMCjo"
   },
   "outputs": [
    {
     "data": {
      "text/plain": [
       "3"
      ]
     },
     "execution_count": 16,
     "metadata": {},
     "output_type": "execute_result"
    }
   ],
   "source": [
    "# Xử lý dữ liệu bị khuyết cho overview. \n",
    "df['overview'].isna().sum()"
   ]
  },
  {
   "cell_type": "code",
   "execution_count": 17,
   "metadata": {},
   "outputs": [],
   "source": [
    "# Thay thế NA bằng chuỗi trống: \"\"\n",
    "df['overview'] = df['overview'].fillna(\"\")"
   ]
  },
  {
   "cell_type": "code",
   "execution_count": 18,
   "metadata": {
    "_uuid": "a92da8cde39c61deef5a1b8efa31ed84cda7f5fe",
    "colab": {
     "base_uri": "https://localhost:8080/"
    },
    "executionInfo": {
     "elapsed": 2671,
     "status": "ok",
     "timestamp": 1650950205418,
     "user": {
      "displayName": "Phuoc Dang Binh",
      "userId": "03215898790492751448"
     },
     "user_tz": -420
    },
    "id": "2X3KG9ruxNsy",
    "outputId": "d987762e-00c7-44ca-cf70-504e95c0d73e"
   },
   "outputs": [
    {
     "data": {
      "text/plain": [
       "(4803, 20978)"
      ]
     },
     "execution_count": 18,
     "metadata": {},
     "output_type": "execute_result"
    }
   ],
   "source": [
    "# Tính IF - IDF cho toàn bộ overview\n",
    "from sklearn.feature_extraction.text import TfidfVectorizer\n",
    "\n",
    "tfidf = TfidfVectorizer(stop_words='english')\n",
    "tfidf_matrix = tfidf.fit_transform(df['overview'])\n",
    "tfidf_matrix.shape"
   ]
  },
  {
   "cell_type": "markdown",
   "metadata": {
    "_uuid": "6bde57434bf9a0e8f8b229d36901d75b77ff962f",
    "id": "rsyaAi8lxNsy"
   },
   "source": [
    "Với ma trận này, chúng ta đã có thể tính toán giá trị tương tự cho cặp overview.Có nhiều cách để tính giá trị tương tự như euclidean, Pearson and cosine similarity. Trong bài toán này chúng ta sẽ sử dụng similarity để tính giá trị tương tự.\n",
    "\n",
    "![](data:image/png;base64,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)"
   ]
  },
  {
   "cell_type": "markdown",
   "metadata": {
    "_uuid": "c1c138ae64648cb5a94127a06441d88dddc2bd9a",
    "id": "VZX8fLNIxNsz"
   },
   "source": [
    "## Task 6: Tính ma trận tương tự cho overview từ TF-IDF"
   ]
  },
  {
   "cell_type": "code",
   "execution_count": 19,
   "metadata": {
    "colab": {
     "base_uri": "https://localhost:8080/"
    },
    "executionInfo": {
     "elapsed": 2,
     "status": "ok",
     "timestamp": 1650950205945,
     "user": {
      "displayName": "Phuoc Dang Binh",
      "userId": "03215898790492751448"
     },
     "user_tz": -420
    },
    "id": "n874TqqbNR6x",
    "outputId": "e607731f-be93-4ee7-af04-ccb587d82741"
   },
   "outputs": [
    {
     "data": {
      "text/plain": [
       "(4803, 4803)"
      ]
     },
     "execution_count": 19,
     "metadata": {},
     "output_type": "execute_result"
    }
   ],
   "source": [
    "from sklearn.metrics.pairwise import linear_kernel\n",
    "\n",
    "cosine_sim = linear_kernel( tfidf_matrix, tfidf_matrix)\n",
    "cosine_sim.shape"
   ]
  },
  {
   "cell_type": "markdown",
   "metadata": {
    "_uuid": "da5896c6ccfd44c3347af3097275d0aa707c1001",
    "id": "2ED-FT1NxNsz"
   },
   "source": [
    "## Task 7: Xây dựng hàm để đề xuất phim dựa vào tổng quan của phim"
   ]
  },
  {
   "cell_type": "code",
   "execution_count": 20,
   "metadata": {
    "_uuid": "55df2df36be98e6dec5f617a5aa51b77c500faa4",
    "id": "SqKq8LnKxNsz"
   },
   "outputs": [
    {
     "data": {
      "text/plain": [
       "title\n",
       "Avatar                                         0\n",
       "Pirates of the Caribbean: At World's End       1\n",
       "Spectre                                        2\n",
       "The Dark Knight Rises                          3\n",
       "John Carter                                    4\n",
       "                                            ... \n",
       "El Mariachi                                 4798\n",
       "Newlyweds                                   4799\n",
       "Signed, Sealed, Delivered                   4800\n",
       "Shanghai Calling                            4801\n",
       "My Date with Drew                           4802\n",
       "Length: 4803, dtype: int64"
      ]
     },
     "execution_count": 20,
     "metadata": {},
     "output_type": "execute_result"
    }
   ],
   "source": [
    "# Tạo Series với value là index, index là title của bộ phim\n",
    "overview_series = pd.Series(data=df.index, index= df['title']).drop_duplicates()\n",
    "overview_series"
   ]
  },
  {
   "cell_type": "code",
   "execution_count": 21,
   "metadata": {
    "_uuid": "9c383fcbb916dce464b01adf980d26ad96aebe0e",
    "id": "aMq4ktaRxNsz"
   },
   "outputs": [],
   "source": [
    "# Hàm đề xuất \n",
    "def get_recommendations(df, title, cosine_sim=cosine_sim):\n",
    "    \n",
    "    # Lấy index của bộ phim thông qua title\n",
    "    get_idx = overview_series[title]\n",
    "    \n",
    "    # Lấy danh sách các phim có điểm tương đồng\n",
    "    similarity_list = list(enumerate(cosine_sim[get_idx]))\n",
    "    \n",
    "    # Sắp xấp các phim dựa trên điểm tương đồng similar_list giảm dần\n",
    "    similarity_list = sorted(similarity_list, key=lambda x: x[1], reverse= True)\n",
    "    \n",
    "    # Lấy 10 phim tương đồng nhau nhất:\n",
    "    similarity_list = similarity_list[1:11]\n",
    "    top10_idx = (i[0] for i in similarity_list)\n",
    "    \n",
    "    # Trả về kết quả index top_10 phim khuyến nghị\n",
    "    return df['title'].iloc[top10_idx]"
   ]
  },
  {
   "cell_type": "markdown",
   "metadata": {
    "id": "y9oHhEc-SNsF"
   },
   "source": [
    "Giả sử người dùng đang xem phim về 'The Dark Knight Rises', hãy thử sử dụng hàm đã thiết kế để xem 10 bộ phim mà chúng ta muốn đề xuất cho người dùng."
   ]
  },
  {
   "cell_type": "code",
   "execution_count": 22,
   "metadata": {
    "_uuid": "14d722124f82e69cb444adcc589e396c75cbb4ff",
    "colab": {
     "base_uri": "https://localhost:8080/"
    },
    "executionInfo": {
     "elapsed": 6,
     "status": "ok",
     "timestamp": 1650950206598,
     "user": {
      "displayName": "Phuoc Dang Binh",
      "userId": "03215898790492751448"
     },
     "user_tz": -420
    },
    "id": "6hK-SJ9pxNsz",
    "outputId": "bb7e937b-ac37-4d07-9eaa-36ca223b07f2"
   },
   "outputs": [
    {
     "data": {
      "text/plain": [
       "65                              The Dark Knight\n",
       "299                              Batman Forever\n",
       "428                              Batman Returns\n",
       "1359                                     Batman\n",
       "3854    Batman: The Dark Knight Returns, Part 2\n",
       "119                               Batman Begins\n",
       "2507                                  Slow Burn\n",
       "9            Batman v Superman: Dawn of Justice\n",
       "1181                                        JFK\n",
       "210                              Batman & Robin\n",
       "Name: title, dtype: object"
      ]
     },
     "execution_count": 22,
     "metadata": {},
     "output_type": "execute_result"
    }
   ],
   "source": [
    "get_recommendations(df, 'The Dark Knight Rises')"
   ]
  },
  {
   "cell_type": "markdown",
   "metadata": {
    "id": "iAhCFwg9SX6j"
   },
   "source": [
    "Bạn có thể thấy hầy hết các phim được trả về là phim của DC, tương tự như bộ phim mà người dùng đang xem."
   ]
  },
  {
   "cell_type": "markdown",
   "metadata": {
    "id": "elhv3MuISXiq"
   },
   "source": [
    "Thực hiện lại điều này với một bộ phim của Marvel như 'The Avengers' "
   ]
  },
  {
   "cell_type": "code",
   "execution_count": 23,
   "metadata": {
    "_uuid": "902b9f1ab91921889c85e9008818dcc0b4710ccd",
    "colab": {
     "base_uri": "https://localhost:8080/"
    },
    "executionInfo": {
     "elapsed": 6,
     "status": "ok",
     "timestamp": 1650950206599,
     "user": {
      "displayName": "Phuoc Dang Binh",
      "userId": "03215898790492751448"
     },
     "user_tz": -420
    },
    "id": "Yd5eBHAAxNs0",
    "outputId": "39577355-73ce-4961-f233-499da4faa5c6"
   },
   "outputs": [
    {
     "data": {
      "text/plain": [
       "7               Avengers: Age of Ultron\n",
       "3144                            Plastic\n",
       "1715                            Timecop\n",
       "4124                 This Thing of Ours\n",
       "3311              Thank You for Smoking\n",
       "3033                      The Corruptor\n",
       "588     Wall Street: Money Never Sleeps\n",
       "2136         Team America: World Police\n",
       "1468                       The Fountain\n",
       "1286                        Snowpiercer\n",
       "Name: title, dtype: object"
      ]
     },
     "execution_count": 23,
     "metadata": {},
     "output_type": "execute_result"
    }
   ],
   "source": [
    "get_recommendations(df, 'The Avengers')"
   ]
  },
  {
   "cell_type": "markdown",
   "metadata": {
    "id": "VeNwNeAhwD2G"
   },
   "source": [
    "## Task 8: Lấy ra tên tác giả từ cột crew và lưu vào cột director"
   ]
  },
  {
   "cell_type": "code",
   "execution_count": 24,
   "metadata": {},
   "outputs": [],
   "source": [
    "# Hàm trả về tên Director từ cột crew\n",
    "def get_director_name(x):\n",
    "    for i in x:\n",
    "        if i['job'] == 'Director':\n",
    "            return i['name']\n",
    "    return np.nan        "
   ]
  },
  {
   "cell_type": "code",
   "execution_count": 25,
   "metadata": {},
   "outputs": [
    {
     "data": {
      "text/plain": [
       "0           James Cameron\n",
       "1          Gore Verbinski\n",
       "2              Sam Mendes\n",
       "3       Christopher Nolan\n",
       "4          Andrew Stanton\n",
       "              ...        \n",
       "4798     Robert Rodriguez\n",
       "4799         Edward Burns\n",
       "4800          Scott Smith\n",
       "4801          Daniel Hsia\n",
       "4802     Brian Herzlinger\n",
       "Name: director, Length: 4803, dtype: object"
      ]
     },
     "execution_count": 25,
     "metadata": {},
     "output_type": "execute_result"
    }
   ],
   "source": [
    "df['director'] = df['crew'].apply(get_director_name)\n",
    "df['director']"
   ]
  },
  {
   "cell_type": "markdown",
   "metadata": {
    "id": "_YJVsemCxdZL"
   },
   "source": [
    "## Task 9: Lấy ra 3 diễn viên đầu tiên từ cột cast và lưu vào chính cột cast. Làm điều tương tự với keywords và genres"
   ]
  },
  {
   "cell_type": "code",
   "execution_count": 26,
   "metadata": {
    "_uuid": "86c4e9f4e6ef1e5ff287f58f3a1119fbddbdae09",
    "id": "UU_FF6inxNs0"
   },
   "outputs": [],
   "source": [
    "# Hàm trả về danh sách top 3 thỏa yêu cầu:\n",
    "def get_top3(x):\n",
    "    if isinstance (x, list):\n",
    "        result = [i['name'] for i in x]\n",
    "        if len(result) >= 3:\n",
    "            result = result[ :3]\n",
    "        return result\n",
    "    return []"
   ]
  },
  {
   "cell_type": "code",
   "execution_count": 27,
   "metadata": {},
   "outputs": [],
   "source": [
    "# Áp dụng hàm get_top3 vừa tạo:\n",
    "features2 = ['cast', 'keywords', 'genres']\n",
    "for i in features2:\n",
    "    df[i] = df[i].apply(get_top3)"
   ]
  },
  {
   "cell_type": "code",
   "execution_count": 28,
   "metadata": {
    "_uuid": "87a96f835470aa3df590b74322c2717ff529d6ae",
    "colab": {
     "base_uri": "https://localhost:8080/",
     "height": 143
    },
    "executionInfo": {
     "elapsed": 551,
     "status": "ok",
     "timestamp": 1650960438953,
     "user": {
      "displayName": "Phuoc Dang Binh",
      "userId": "03215898790492751448"
     },
     "user_tz": -420
    },
    "id": "wIx_JktpxNs0",
    "outputId": "08b53876-473c-4a47-8c13-3ece3fcbe1e1"
   },
   "outputs": [
    {
     "data": {
      "text/html": [
       "<div>\n",
       "<style scoped>\n",
       "    .dataframe tbody tr th:only-of-type {\n",
       "        vertical-align: middle;\n",
       "    }\n",
       "\n",
       "    .dataframe tbody tr th {\n",
       "        vertical-align: top;\n",
       "    }\n",
       "\n",
       "    .dataframe thead th {\n",
       "        text-align: right;\n",
       "    }\n",
       "</style>\n",
       "<table border=\"1\" class=\"dataframe\">\n",
       "  <thead>\n",
       "    <tr style=\"text-align: right;\">\n",
       "      <th></th>\n",
       "      <th>title</th>\n",
       "      <th>cast</th>\n",
       "      <th>director</th>\n",
       "      <th>keywords</th>\n",
       "      <th>genres</th>\n",
       "    </tr>\n",
       "  </thead>\n",
       "  <tbody>\n",
       "    <tr>\n",
       "      <th>0</th>\n",
       "      <td>Avatar</td>\n",
       "      <td>[Sam Worthington, Zoe Saldana, Sigourney Weaver]</td>\n",
       "      <td>James Cameron</td>\n",
       "      <td>[culture clash, future, space war]</td>\n",
       "      <td>[Action, Adventure, Fantasy]</td>\n",
       "    </tr>\n",
       "    <tr>\n",
       "      <th>1</th>\n",
       "      <td>Pirates of the Caribbean: At World's End</td>\n",
       "      <td>[Johnny Depp, Orlando Bloom, Keira Knightley]</td>\n",
       "      <td>Gore Verbinski</td>\n",
       "      <td>[ocean, drug abuse, exotic island]</td>\n",
       "      <td>[Adventure, Fantasy, Action]</td>\n",
       "    </tr>\n",
       "    <tr>\n",
       "      <th>2</th>\n",
       "      <td>Spectre</td>\n",
       "      <td>[Daniel Craig, Christoph Waltz, Léa Seydoux]</td>\n",
       "      <td>Sam Mendes</td>\n",
       "      <td>[spy, based on novel, secret agent]</td>\n",
       "      <td>[Action, Adventure, Crime]</td>\n",
       "    </tr>\n",
       "  </tbody>\n",
       "</table>\n",
       "</div>"
      ],
      "text/plain": [
       "                                      title  \\\n",
       "0                                    Avatar   \n",
       "1  Pirates of the Caribbean: At World's End   \n",
       "2                                   Spectre   \n",
       "\n",
       "                                               cast        director  \\\n",
       "0  [Sam Worthington, Zoe Saldana, Sigourney Weaver]   James Cameron   \n",
       "1     [Johnny Depp, Orlando Bloom, Keira Knightley]  Gore Verbinski   \n",
       "2      [Daniel Craig, Christoph Waltz, Léa Seydoux]      Sam Mendes   \n",
       "\n",
       "                              keywords                        genres  \n",
       "0   [culture clash, future, space war]  [Action, Adventure, Fantasy]  \n",
       "1   [ocean, drug abuse, exotic island]  [Adventure, Fantasy, Action]  \n",
       "2  [spy, based on novel, secret agent]    [Action, Adventure, Crime]  "
      ]
     },
     "execution_count": 28,
     "metadata": {},
     "output_type": "execute_result"
    }
   ],
   "source": [
    "df[['title', 'cast', 'director', 'keywords', 'genres']].head(3)"
   ]
  },
  {
   "cell_type": "markdown",
   "metadata": {
    "_uuid": "0bcb2c2e99ffd9ce73205c9c6ef6687d16caa31f",
    "id": "NKkUDPJXxNs0"
   },
   "source": [
    "## Task 10: Điều chỉnh dữ liệu phù hợp với đầu vào của thuật toán\n",
    "\n",
    "Chuyển đổi tên và các trường hợp từ khóa thành chữ thường và loại bỏ tất cả các khoảng cách giữa chúng. Điều này được thực hiện để không tính từ Johnny của \"Johnny Depp\" và \"Johnny Galecki\" là giống nhau."
   ]
  },
  {
   "cell_type": "code",
   "execution_count": 29,
   "metadata": {
    "_uuid": "86af764c406a8b6184b37b57cfe499d20ce45f9c",
    "id": "nnzG4-6FxNs1"
   },
   "outputs": [],
   "source": [
    "# Hàm điều chỉnh các data đầu vào phù hợp với thuật toán\n",
    "# Loại bỏ tất cả khoảng trắng trong chuỗi bằng phương thức str.replace()\n",
    "# Chuyển đổi các ký tự về dạng chứ thường bằng phương thức str.lower()\n",
    "\n",
    "def converted_data(x):\n",
    "    \n",
    "    if isinstance(x, list):\n",
    "        return [str.lower(i.replace(\" \", \"\")) for i in x]\n",
    "    else:\n",
    "        if isinstance(x, str):\n",
    "            return str.lower(x.replace(\" \", \"\"))\n",
    "        else:\n",
    "            return ''"
   ]
  },
  {
   "cell_type": "code",
   "execution_count": 30,
   "metadata": {},
   "outputs": [],
   "source": [
    "# Áp dụng hàm Converted_data\n",
    "\n",
    "features3 = ['keywords', 'cast', 'director', 'genres']\n",
    "for i in features3:\n",
    "    df[i] = df[i].apply(converted_data)"
   ]
  },
  {
   "cell_type": "code",
   "execution_count": 31,
   "metadata": {},
   "outputs": [
    {
     "data": {
      "text/html": [
       "<div>\n",
       "<style scoped>\n",
       "    .dataframe tbody tr th:only-of-type {\n",
       "        vertical-align: middle;\n",
       "    }\n",
       "\n",
       "    .dataframe tbody tr th {\n",
       "        vertical-align: top;\n",
       "    }\n",
       "\n",
       "    .dataframe thead th {\n",
       "        text-align: right;\n",
       "    }\n",
       "</style>\n",
       "<table border=\"1\" class=\"dataframe\">\n",
       "  <thead>\n",
       "    <tr style=\"text-align: right;\">\n",
       "      <th></th>\n",
       "      <th>keywords</th>\n",
       "      <th>cast</th>\n",
       "      <th>director</th>\n",
       "      <th>genres</th>\n",
       "    </tr>\n",
       "  </thead>\n",
       "  <tbody>\n",
       "    <tr>\n",
       "      <th>0</th>\n",
       "      <td>[cultureclash, future, spacewar]</td>\n",
       "      <td>[samworthington, zoesaldana, sigourneyweaver]</td>\n",
       "      <td>jamescameron</td>\n",
       "      <td>[action, adventure, fantasy]</td>\n",
       "    </tr>\n",
       "    <tr>\n",
       "      <th>1</th>\n",
       "      <td>[ocean, drugabuse, exoticisland]</td>\n",
       "      <td>[johnnydepp, orlandobloom, keiraknightley]</td>\n",
       "      <td>goreverbinski</td>\n",
       "      <td>[adventure, fantasy, action]</td>\n",
       "    </tr>\n",
       "    <tr>\n",
       "      <th>2</th>\n",
       "      <td>[spy, basedonnovel, secretagent]</td>\n",
       "      <td>[danielcraig, christophwaltz, léaseydoux]</td>\n",
       "      <td>sammendes</td>\n",
       "      <td>[action, adventure, crime]</td>\n",
       "    </tr>\n",
       "    <tr>\n",
       "      <th>3</th>\n",
       "      <td>[dccomics, crimefighter, terrorist]</td>\n",
       "      <td>[christianbale, michaelcaine, garyoldman]</td>\n",
       "      <td>christophernolan</td>\n",
       "      <td>[action, crime, drama]</td>\n",
       "    </tr>\n",
       "    <tr>\n",
       "      <th>4</th>\n",
       "      <td>[basedonnovel, mars, medallion]</td>\n",
       "      <td>[taylorkitsch, lynncollins, samanthamorton]</td>\n",
       "      <td>andrewstanton</td>\n",
       "      <td>[action, adventure, sciencefiction]</td>\n",
       "    </tr>\n",
       "  </tbody>\n",
       "</table>\n",
       "</div>"
      ],
      "text/plain": [
       "                              keywords  \\\n",
       "0     [cultureclash, future, spacewar]   \n",
       "1     [ocean, drugabuse, exoticisland]   \n",
       "2     [spy, basedonnovel, secretagent]   \n",
       "3  [dccomics, crimefighter, terrorist]   \n",
       "4      [basedonnovel, mars, medallion]   \n",
       "\n",
       "                                            cast          director  \\\n",
       "0  [samworthington, zoesaldana, sigourneyweaver]      jamescameron   \n",
       "1     [johnnydepp, orlandobloom, keiraknightley]     goreverbinski   \n",
       "2      [danielcraig, christophwaltz, léaseydoux]         sammendes   \n",
       "3      [christianbale, michaelcaine, garyoldman]  christophernolan   \n",
       "4    [taylorkitsch, lynncollins, samanthamorton]     andrewstanton   \n",
       "\n",
       "                                genres  \n",
       "0         [action, adventure, fantasy]  \n",
       "1         [adventure, fantasy, action]  \n",
       "2           [action, adventure, crime]  \n",
       "3               [action, crime, drama]  \n",
       "4  [action, adventure, sciencefiction]  "
      ]
     },
     "execution_count": 31,
     "metadata": {},
     "output_type": "execute_result"
    }
   ],
   "source": [
    "df[features3].head()"
   ]
  },
  {
   "cell_type": "markdown",
   "metadata": {
    "_uuid": "b6b3e1c480a7c280fbe81e63c5c4cf3ce308dc28",
    "id": "TZU5JLpIxNs1"
   },
   "source": [
    "\n",
    "## Task 11: Kết hợp dữ liệu của từng giá trị trong keywords, cast, director, genres thành một chuỗi và lưu vào cột movie_info"
   ]
  },
  {
   "cell_type": "code",
   "execution_count": 32,
   "metadata": {},
   "outputs": [],
   "source": [
    "# Hàm kết hợp dữ liệu thành 1 chuỗi\n",
    "def movies_info_full(x):\n",
    "    return\" \".join(x['keywords']) + ' ' + ' '.join(x['cast']) + ' ' + x['director'] + ' ' + ' '.join(x['genres'])"
   ]
  },
  {
   "cell_type": "code",
   "execution_count": 33,
   "metadata": {},
   "outputs": [],
   "source": [
    "# Áp dụng hàm movies_info_full:\n",
    "df['movie_info'] = df.apply(movies_info_full, axis=1)"
   ]
  },
  {
   "cell_type": "code",
   "execution_count": 34,
   "metadata": {
    "_uuid": "20aef87703c408926f7617573ed043605207767f",
    "colab": {
     "base_uri": "https://localhost:8080/"
    },
    "executionInfo": {
     "elapsed": 299,
     "status": "ok",
     "timestamp": 1650965029673,
     "user": {
      "displayName": "Phuoc Dang Binh",
      "userId": "03215898790492751448"
     },
     "user_tz": -420
    },
    "id": "EZux0jh-xNs1",
    "outputId": "ada3f56d-fb35-4213-fdb2-4b2d1ce81cb7"
   },
   "outputs": [
    {
     "data": {
      "text/plain": [
       "0    cultureclash future spacewar samworthington zo...\n",
       "1    ocean drugabuse exoticisland johnnydepp orland...\n",
       "2    spy basedonnovel secretagent danielcraig chris...\n",
       "3    dccomics crimefighter terrorist christianbale ...\n",
       "4    basedonnovel mars medallion taylorkitsch lynnc...\n",
       "Name: movie_info, dtype: object"
      ]
     },
     "execution_count": 34,
     "metadata": {},
     "output_type": "execute_result"
    }
   ],
   "source": [
    "df['movie_info'].head()"
   ]
  },
  {
   "cell_type": "markdown",
   "metadata": {
    "_uuid": "7b79886883806b8fb58098f9f803dabeaa0cadf6",
    "id": "W6ZiYJioxNs1"
   },
   "source": [
    "## Task 12: Tính CountVectorizer cho từng movie_info\n",
    "\n",
    "Thay vì tính IF-IDF, lần này chúng ta sẽ tính CountVectorizer cho từng bộ phim bởi vì chúng ta chỉ cần kiểm tra xem một từ có xuất hiện trong đoạn văn hay không. Điều này giống như kiểm tra xem đạo diễn hoặc diễn viên có xuất hiện trong movie_info hay không."
   ]
  },
  {
   "cell_type": "code",
   "execution_count": 35,
   "metadata": {
    "_uuid": "b66a1afc1083917d5ef136ccdcd9b50cca087e2b",
    "id": "F7bh8edkxNs1"
   },
   "outputs": [],
   "source": [
    "from sklearn.feature_extraction.text import CountVectorizer\n",
    "\n",
    "count = CountVectorizer(stop_words='english')\n",
    "count_matrix = count.fit_transform(df['movie_info'])"
   ]
  },
  {
   "cell_type": "markdown",
   "metadata": {
    "id": "CZnEgzEjNPi6"
   },
   "source": [
    "## Task 13: Tính ma trận tương tự cho movie_info từ CountVectorizer\n"
   ]
  },
  {
   "cell_type": "code",
   "execution_count": 36,
   "metadata": {
    "_uuid": "3fa5539ed1680ed5323f8351ac7e4840f629e958",
    "id": "FygDRU4IxNs1"
   },
   "outputs": [],
   "source": [
    "from sklearn.metrics.pairwise import cosine_similarity\n",
    "\n",
    "cosine_sim2 = cosine_similarity(count_matrix, count_matrix)"
   ]
  },
  {
   "cell_type": "markdown",
   "metadata": {
    "_uuid": "3c5a3a44893f63aa558030d03e228a365d10d91f",
    "id": "CajuwVaqxNs1"
   },
   "source": [
    "Sử dụng hàm **get_recommendations()** với ma trận tương tự mới: **cosine_sim2** để đưa ra những bộ phim đề xuất khi người dùng xem phim 'The Dark Knight Rises'."
   ]
  },
  {
   "cell_type": "code",
   "execution_count": 37,
   "metadata": {},
   "outputs": [],
   "source": [
    "# Tạo Series với value là index, index là title của bộ phim\n",
    "movie_info_series  = pd.Series(data= df.index, index= df['title'])"
   ]
  },
  {
   "cell_type": "code",
   "execution_count": 38,
   "metadata": {},
   "outputs": [],
   "source": [
    "# Hàm đề xuất phim mới\n",
    "def get_recommendations(title, cosine_sim=cosine_sim2):\n",
    "    \n",
    "    # Lấy index của bộ phim thông qua title\n",
    "    get_idx = movie_info_series[title]\n",
    "    \n",
    "    # Lấy danh sách các phim có điểm tương đồng\n",
    "    similarity_list = list(enumerate(cosine_sim2[get_idx]))\n",
    "    \n",
    "    # Sắp xấp các phim dựa trên điểm tương đồng similar_list giảm dần\n",
    "    similarity_list = sorted(similarity_list, key=lambda x: x[1], reverse= True)\n",
    "    \n",
    "    # Lấy 10 phim tương đồng nhau nhất:\n",
    "    similarity_list = similarity_list[1:11]\n",
    "    top10_idx = (i[0] for i in similarity_list)\n",
    "    \n",
    "    # Trả về kết quả index top_10 phim khuyến nghị\n",
    "    return df['title'].iloc[top10_idx]"
   ]
  },
  {
   "cell_type": "code",
   "execution_count": 39,
   "metadata": {
    "_uuid": "d1e0e02be7a9e71422d3a492834cb4f8434d1464",
    "id": "4y7EfINLxNs1",
    "outputId": "d6412169-9797-4d90-bd19-51369ef46cf1"
   },
   "outputs": [
    {
     "data": {
      "text/plain": [
       "65               The Dark Knight\n",
       "119                Batman Begins\n",
       "4638    Amidst the Devil's Wings\n",
       "1196                The Prestige\n",
       "3073           Romeo Is Bleeding\n",
       "3326              Black November\n",
       "1503                      Takers\n",
       "1986                      Faster\n",
       "303                     Catwoman\n",
       "747               Gangster Squad\n",
       "Name: title, dtype: object"
      ]
     },
     "execution_count": 39,
     "metadata": {},
     "output_type": "execute_result"
    }
   ],
   "source": [
    "get_recommendations('The Dark Knight Rises', cosine_sim2)"
   ]
  },
  {
   "cell_type": "code",
   "execution_count": 40,
   "metadata": {
    "_uuid": "d6c4df85a80d830b2905f69e0e59ebb3461db3b7",
    "id": "TK2hLquPxNs1",
    "outputId": "682c38cf-3f97-47df-8739-74834942f03e"
   },
   "outputs": [
    {
     "data": {
      "text/plain": [
       "867      The Godfather: Part III\n",
       "2731      The Godfather: Part II\n",
       "4638    Amidst the Devil's Wings\n",
       "2649           The Son of No One\n",
       "1525              Apocalypse Now\n",
       "1018             The Cotton Club\n",
       "1170     The Talented Mr. Ripley\n",
       "1209               The Rainmaker\n",
       "1394               Donnie Brasco\n",
       "1850                    Scarface\n",
       "Name: title, dtype: object"
      ]
     },
     "execution_count": 40,
     "metadata": {},
     "output_type": "execute_result"
    }
   ],
   "source": [
    "get_recommendations('The Godfather', cosine_sim2)"
   ]
  },
  {
   "cell_type": "markdown",
   "metadata": {
    "id": "YDo0peKIR-ai"
   },
   "source": [
    "# **Collaborative Filtering**\n"
   ]
  },
  {
   "cell_type": "markdown",
   "metadata": {
    "id": "b4wt3VvAqqCI"
   },
   "source": [
    "## Single Value Decomposition\n",
    "\n",
    "***`Nhược điểm của Lọc Cộng tác về khả năng mở rộng (scalability) và độ thưa thớt (sparsity)`***. Để xử lý vấn đề này chúng ta có thể sử dụng latent factor model (mô hình yếu tố tiềm ẩn) để nắm bắt sử giống nhau của người dùng và mặt hàng.\n",
    "\n",
    "Về cơ bản, chúng ta muốn biến vấn đề đề xuất thành vấn đề tối ưu hóa. ***`Chúng ta có thể xem đó là mức độ tốt của chúng ta trong việc dự đoán xếp hạng cho các mặt hàng do người dùng cung cấp. Với chi phí càng nhỏ thì dự đoán càng tốt.`***\n",
    "\n",
    "Một latent factor model mà chúng ta có thể sử dụng là [Single Value Decomposition](https://machinelearningcoban.com/2017/06/07/svd/) mà chúng ta đã tìm hiểu từ [Matrix Factorization](https://machinelearningcoban.com/2017/05/31/matrixfactorization/)"
   ]
  },
  {
   "cell_type": "markdown",
   "metadata": {
    "_uuid": "4307f75107f9c5e5f911d52a6f1dc5530990c75e",
    "id": "w1ifzd28xNs2"
   },
   "source": [
    "## Single Value Decomposition"
   ]
  },
  {
   "cell_type": "markdown",
   "metadata": {
    "id": "hFeDb3wF8Toy"
   },
   "source": [
    "### Task 14: Đọc dữ liệu đánh giá phim của người dùng."
   ]
  },
  {
   "cell_type": "code",
   "execution_count": 41,
   "metadata": {
    "colab": {
     "base_uri": "https://localhost:8080/",
     "height": 206
    },
    "executionInfo": {
     "elapsed": 317,
     "status": "ok",
     "timestamp": 1651037671672,
     "user": {
      "displayName": "Phuoc Dang Binh",
      "userId": "03215898790492751448"
     },
     "user_tz": -420
    },
    "id": "gX2IynmBiTBK",
    "outputId": "a404bc47-9ed0-4990-94d6-5256ccd8ea25"
   },
   "outputs": [
    {
     "data": {
      "text/html": [
       "<div>\n",
       "<style scoped>\n",
       "    .dataframe tbody tr th:only-of-type {\n",
       "        vertical-align: middle;\n",
       "    }\n",
       "\n",
       "    .dataframe tbody tr th {\n",
       "        vertical-align: top;\n",
       "    }\n",
       "\n",
       "    .dataframe thead th {\n",
       "        text-align: right;\n",
       "    }\n",
       "</style>\n",
       "<table border=\"1\" class=\"dataframe\">\n",
       "  <thead>\n",
       "    <tr style=\"text-align: right;\">\n",
       "      <th></th>\n",
       "      <th>user_id</th>\n",
       "      <th>movie_id</th>\n",
       "      <th>rating</th>\n",
       "      <th>timestamp</th>\n",
       "    </tr>\n",
       "  </thead>\n",
       "  <tbody>\n",
       "    <tr>\n",
       "      <th>0</th>\n",
       "      <td>1</td>\n",
       "      <td>31</td>\n",
       "      <td>2.5</td>\n",
       "      <td>1260759144</td>\n",
       "    </tr>\n",
       "    <tr>\n",
       "      <th>1</th>\n",
       "      <td>1</td>\n",
       "      <td>1029</td>\n",
       "      <td>3.0</td>\n",
       "      <td>1260759179</td>\n",
       "    </tr>\n",
       "    <tr>\n",
       "      <th>2</th>\n",
       "      <td>1</td>\n",
       "      <td>1061</td>\n",
       "      <td>3.0</td>\n",
       "      <td>1260759182</td>\n",
       "    </tr>\n",
       "    <tr>\n",
       "      <th>3</th>\n",
       "      <td>1</td>\n",
       "      <td>1129</td>\n",
       "      <td>2.0</td>\n",
       "      <td>1260759185</td>\n",
       "    </tr>\n",
       "    <tr>\n",
       "      <th>4</th>\n",
       "      <td>1</td>\n",
       "      <td>1172</td>\n",
       "      <td>4.0</td>\n",
       "      <td>1260759205</td>\n",
       "    </tr>\n",
       "  </tbody>\n",
       "</table>\n",
       "</div>"
      ],
      "text/plain": [
       "   user_id  movie_id  rating   timestamp\n",
       "0        1        31     2.5  1260759144\n",
       "1        1      1029     3.0  1260759179\n",
       "2        1      1061     3.0  1260759182\n",
       "3        1      1129     2.0  1260759185\n",
       "4        1      1172     4.0  1260759205"
      ]
     },
     "execution_count": 41,
     "metadata": {},
     "output_type": "execute_result"
    }
   ],
   "source": [
    "ratings = pd.read_csv('user_ratings.csv')\n",
    "ratings.head()"
   ]
  },
  {
   "cell_type": "markdown",
   "metadata": {
    "id": "oOyzvLRtEHxa"
   },
   "source": [
    "### Task 15: Xử lý dữ liệu đầu vào phù hợp với SVD của surprise\n",
    "\n",
    "Tham khảo đường dẫn sau: [Use custom data](https://surprise.readthedocs.io/en/stable/getting_started.html#use-a-custom-dataset)"
   ]
  },
  {
   "cell_type": "code",
   "execution_count": 42,
   "metadata": {},
   "outputs": [],
   "source": [
    "from surprise import Reader, Dataset, SVD #, evaluate\n",
    "\n",
    "reader = Reader()\n",
    "data = Dataset.load_from_df(ratings[[\"user_id\", \"movie_id\", \"rating\"]], reader)"
   ]
  },
  {
   "cell_type": "markdown",
   "metadata": {
    "id": "-ViWJolXOOY6"
   },
   "source": [
    "### Task 16: Sử dụng K-Fold để huấn luyện và đánh giá mô hình\n",
    "\n",
    "\n",
    "Tham khảo đường dẫn sau: [Use cross-validation iterators\n",
    "](https://surprise.readthedocs.io/en/stable/getting_started.html#use-cross-validation-iterators)\n",
    "\n",
    "\n",
    "\n",
    "\n"
   ]
  },
  {
   "cell_type": "code",
   "execution_count": 43,
   "metadata": {
    "colab": {
     "base_uri": "https://localhost:8080/"
    },
    "executionInfo": {
     "elapsed": 17564,
     "status": "ok",
     "timestamp": 1651034088706,
     "user": {
      "displayName": "Phuoc Dang Binh",
      "userId": "03215898790492751448"
     },
     "user_tz": -420
    },
    "id": "3Q6TbMdiIcMh",
    "outputId": "860a83bc-9d46-4390-d230-46864f1183ea",
    "scrolled": true
   },
   "outputs": [
    {
     "name": "stdout",
     "output_type": "stream",
     "text": [
      "RMSE: 0.9025\n",
      "RMSE: 0.9016\n",
      "RMSE: 0.9069\n"
     ]
    }
   ],
   "source": [
    "from surprise.model_selection import KFold # funix\n",
    "from surprise import accuracy\n",
    "\n",
    "# Xác định vòng lặp xác thực chéo\n",
    "# Như yêu cầu đề bài cần 3 kết quả RMSE (Root Mean Squared Error)\n",
    "\n",
    "kf = KFold(n_splits=3) \n",
    "\n",
    "svd = SVD()\n",
    "\n",
    "for trainset, testset in kf.split(data):\n",
    "\n",
    "    # THuật toán train và test data\n",
    "    svd.fit(trainset)\n",
    "    predictions = svd.test(testset)\n",
    "\n",
    "    # Tính toán và in ra giá trị Root Mean Squared Error\n",
    "    accuracy.rmse(predictions, verbose=True)"
   ]
  },
  {
   "cell_type": "markdown",
   "metadata": {
    "_uuid": "81f6d5f460d4cbaaa43b6bb86a0abd9bce1a3134",
    "id": "rLvA_SwlxNs3"
   },
   "source": [
    "Root Mean Sqaure Error trung bình là 0,90, là quá đủ tốt cho trường hợp của chúng ta. Bây giờ chúng ta hãy dự đoán kết quả người dùng có id = 1 với phim có id là 302.\n"
   ]
  },
  {
   "cell_type": "code",
   "execution_count": 44,
   "metadata": {},
   "outputs": [
    {
     "data": {
      "text/plain": [
       "<surprise.prediction_algorithms.matrix_factorization.SVD at 0x20b983e97c0>"
      ]
     },
     "execution_count": 44,
     "metadata": {},
     "output_type": "execute_result"
    }
   ],
   "source": [
    "trainset = data.build_full_trainset()\n",
    "svd.fit(trainset)"
   ]
  },
  {
   "cell_type": "code",
   "execution_count": 45,
   "metadata": {
    "id": "NVXmsJ37pTLO"
   },
   "outputs": [
    {
     "data": {
      "text/html": [
       "<div>\n",
       "<style scoped>\n",
       "    .dataframe tbody tr th:only-of-type {\n",
       "        vertical-align: middle;\n",
       "    }\n",
       "\n",
       "    .dataframe tbody tr th {\n",
       "        vertical-align: top;\n",
       "    }\n",
       "\n",
       "    .dataframe thead th {\n",
       "        text-align: right;\n",
       "    }\n",
       "</style>\n",
       "<table border=\"1\" class=\"dataframe\">\n",
       "  <thead>\n",
       "    <tr style=\"text-align: right;\">\n",
       "      <th></th>\n",
       "      <th>user_id</th>\n",
       "      <th>movie_id</th>\n",
       "      <th>rating</th>\n",
       "      <th>timestamp</th>\n",
       "    </tr>\n",
       "  </thead>\n",
       "  <tbody>\n",
       "    <tr>\n",
       "      <th>0</th>\n",
       "      <td>1</td>\n",
       "      <td>31</td>\n",
       "      <td>2.5</td>\n",
       "      <td>1260759144</td>\n",
       "    </tr>\n",
       "    <tr>\n",
       "      <th>1</th>\n",
       "      <td>1</td>\n",
       "      <td>1029</td>\n",
       "      <td>3.0</td>\n",
       "      <td>1260759179</td>\n",
       "    </tr>\n",
       "    <tr>\n",
       "      <th>2</th>\n",
       "      <td>1</td>\n",
       "      <td>1061</td>\n",
       "      <td>3.0</td>\n",
       "      <td>1260759182</td>\n",
       "    </tr>\n",
       "    <tr>\n",
       "      <th>3</th>\n",
       "      <td>1</td>\n",
       "      <td>1129</td>\n",
       "      <td>2.0</td>\n",
       "      <td>1260759185</td>\n",
       "    </tr>\n",
       "    <tr>\n",
       "      <th>4</th>\n",
       "      <td>1</td>\n",
       "      <td>1172</td>\n",
       "      <td>4.0</td>\n",
       "      <td>1260759205</td>\n",
       "    </tr>\n",
       "    <tr>\n",
       "      <th>5</th>\n",
       "      <td>1</td>\n",
       "      <td>1263</td>\n",
       "      <td>2.0</td>\n",
       "      <td>1260759151</td>\n",
       "    </tr>\n",
       "    <tr>\n",
       "      <th>6</th>\n",
       "      <td>1</td>\n",
       "      <td>1287</td>\n",
       "      <td>2.0</td>\n",
       "      <td>1260759187</td>\n",
       "    </tr>\n",
       "    <tr>\n",
       "      <th>7</th>\n",
       "      <td>1</td>\n",
       "      <td>1293</td>\n",
       "      <td>2.0</td>\n",
       "      <td>1260759148</td>\n",
       "    </tr>\n",
       "    <tr>\n",
       "      <th>8</th>\n",
       "      <td>1</td>\n",
       "      <td>1339</td>\n",
       "      <td>3.5</td>\n",
       "      <td>1260759125</td>\n",
       "    </tr>\n",
       "    <tr>\n",
       "      <th>9</th>\n",
       "      <td>1</td>\n",
       "      <td>1343</td>\n",
       "      <td>2.0</td>\n",
       "      <td>1260759131</td>\n",
       "    </tr>\n",
       "    <tr>\n",
       "      <th>10</th>\n",
       "      <td>1</td>\n",
       "      <td>1371</td>\n",
       "      <td>2.5</td>\n",
       "      <td>1260759135</td>\n",
       "    </tr>\n",
       "    <tr>\n",
       "      <th>11</th>\n",
       "      <td>1</td>\n",
       "      <td>1405</td>\n",
       "      <td>1.0</td>\n",
       "      <td>1260759203</td>\n",
       "    </tr>\n",
       "    <tr>\n",
       "      <th>12</th>\n",
       "      <td>1</td>\n",
       "      <td>1953</td>\n",
       "      <td>4.0</td>\n",
       "      <td>1260759191</td>\n",
       "    </tr>\n",
       "    <tr>\n",
       "      <th>13</th>\n",
       "      <td>1</td>\n",
       "      <td>2105</td>\n",
       "      <td>4.0</td>\n",
       "      <td>1260759139</td>\n",
       "    </tr>\n",
       "    <tr>\n",
       "      <th>14</th>\n",
       "      <td>1</td>\n",
       "      <td>2150</td>\n",
       "      <td>3.0</td>\n",
       "      <td>1260759194</td>\n",
       "    </tr>\n",
       "    <tr>\n",
       "      <th>15</th>\n",
       "      <td>1</td>\n",
       "      <td>2193</td>\n",
       "      <td>2.0</td>\n",
       "      <td>1260759198</td>\n",
       "    </tr>\n",
       "    <tr>\n",
       "      <th>16</th>\n",
       "      <td>1</td>\n",
       "      <td>2294</td>\n",
       "      <td>2.0</td>\n",
       "      <td>1260759108</td>\n",
       "    </tr>\n",
       "    <tr>\n",
       "      <th>17</th>\n",
       "      <td>1</td>\n",
       "      <td>2455</td>\n",
       "      <td>2.5</td>\n",
       "      <td>1260759113</td>\n",
       "    </tr>\n",
       "    <tr>\n",
       "      <th>18</th>\n",
       "      <td>1</td>\n",
       "      <td>2968</td>\n",
       "      <td>1.0</td>\n",
       "      <td>1260759200</td>\n",
       "    </tr>\n",
       "    <tr>\n",
       "      <th>19</th>\n",
       "      <td>1</td>\n",
       "      <td>3671</td>\n",
       "      <td>3.0</td>\n",
       "      <td>1260759117</td>\n",
       "    </tr>\n",
       "  </tbody>\n",
       "</table>\n",
       "</div>"
      ],
      "text/plain": [
       "    user_id  movie_id  rating   timestamp\n",
       "0         1        31     2.5  1260759144\n",
       "1         1      1029     3.0  1260759179\n",
       "2         1      1061     3.0  1260759182\n",
       "3         1      1129     2.0  1260759185\n",
       "4         1      1172     4.0  1260759205\n",
       "5         1      1263     2.0  1260759151\n",
       "6         1      1287     2.0  1260759187\n",
       "7         1      1293     2.0  1260759148\n",
       "8         1      1339     3.5  1260759125\n",
       "9         1      1343     2.0  1260759131\n",
       "10        1      1371     2.5  1260759135\n",
       "11        1      1405     1.0  1260759203\n",
       "12        1      1953     4.0  1260759191\n",
       "13        1      2105     4.0  1260759139\n",
       "14        1      2150     3.0  1260759194\n",
       "15        1      2193     2.0  1260759198\n",
       "16        1      2294     2.0  1260759108\n",
       "17        1      2455     2.5  1260759113\n",
       "18        1      2968     1.0  1260759200\n",
       "19        1      3671     3.0  1260759117"
      ]
     },
     "execution_count": 45,
     "metadata": {},
     "output_type": "execute_result"
    }
   ],
   "source": [
    "ratings[ratings['user_id'] == 1]"
   ]
  },
  {
   "cell_type": "code",
   "execution_count": 46,
   "metadata": {},
   "outputs": [
    {
     "data": {
      "text/plain": [
       "Prediction(uid=1, iid=302, r_ui=3, est=2.7738282531762017, details={'was_impossible': False})"
      ]
     },
     "execution_count": 46,
     "metadata": {},
     "output_type": "execute_result"
    }
   ],
   "source": [
    "svd.predict(1, 302, 3) # dự đoán "
   ]
  },
  {
   "cell_type": "markdown",
   "metadata": {
    "id": "2_pjDCCrUp_b"
   },
   "source": [
    "**Câu hỏi: Người dùng có id là 1 đánh giá bao nhiêu cho phim có id là 302.**"
   ]
  },
  {
   "cell_type": "markdown",
   "metadata": {},
   "source": [
    "<font color='blue'>\n",
    "    \n",
    "Đối với phim có id là 302, dự đoán nhận được ước tính là khoảng 2.7 \n",
    "    \n",
    "Vì hệ thống giới thiệu này không quan tâm bộ phim hoặc bộ phim là gì. \n",
    "Nó hoàn toàn dựa trên ID mà chúng ta cung cấp và cố gắng dự đoán xếp hạng dựa trên những người dùng khác đã dự đoán phim."
   ]
  }
 ],
 "metadata": {
  "colab": {
   "collapsed_sections": [],
   "name": "Asm_3.ipynb",
   "provenance": [],
   "toc_visible": true
  },
  "kernelspec": {
   "display_name": "Python 3 (ipykernel)",
   "language": "python",
   "name": "python3"
  },
  "language_info": {
   "codemirror_mode": {
    "name": "ipython",
    "version": 3
   },
   "file_extension": ".py",
   "mimetype": "text/x-python",
   "name": "python",
   "nbconvert_exporter": "python",
   "pygments_lexer": "ipython3",
   "version": "3.9.0"
  }
 },
 "nbformat": 4,
 "nbformat_minor": 1
}
